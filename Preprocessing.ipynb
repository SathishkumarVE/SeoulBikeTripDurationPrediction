{
 "cells": [
  {
   "cell_type": "code",
   "execution_count": 1,
   "metadata": {},
   "outputs": [],
   "source": [
    "import pandas as pd"
   ]
  },
  {
   "cell_type": "code",
   "execution_count": 2,
   "metadata": {},
   "outputs": [
    {
     "name": "stderr",
     "output_type": "stream",
     "text": [
      "C:\\Users\\Sathishkumar V E\\Anaconda3\\envs\\tensorflow\\lib\\site-packages\\numpy\\lib\\arraysetops.py:569: FutureWarning: elementwise comparison failed; returning scalar instead, but in the future will perform elementwise comparison\n",
      "  mask |= (ar1 == a)\n"
     ]
    }
   ],
   "source": [
    "all_data = pd.read_csv(\"sathish_bike_data.csv\",\n",
    "                      parse_dates=[\"datetime\", \"pickup_datetime\",\"dropoff_datetime\"],\n",
    "                      index_col=0)"
   ]
  },
  {
   "cell_type": "code",
   "execution_count": 3,
   "metadata": {},
   "outputs": [
    {
     "data": {
      "text/plain": [
       "datetime                                        0\n",
       "trip_duration                                   0\n",
       "trip_distance                                   0\n",
       "pickup_datetime                                 0\n",
       "pickup_station_id                               0\n",
       "pickup_station_name                             0\n",
       "pickup_log                                      0\n",
       "pickup_lat                                      0\n",
       "pickup_district                                 0\n",
       "dropoff_datetime                                0\n",
       "dropoff_station_id                              0\n",
       "dropoff_station_name                            0\n",
       "dropoff_log                                     0\n",
       "dropoff_lat                                     0\n",
       "dropoff_district                                0\n",
       "pickup_month                                    0\n",
       "pickup_day                                      0\n",
       "pickup_hour                                     0\n",
       "pickup_minute                                   0\n",
       "pickup_weekday                                  0\n",
       "dropoff_month                                   0\n",
       "dropoff_day                                     0\n",
       "dropoff_hour                                    0\n",
       "dropoff_minute                                  0\n",
       "dropoff_weekday                                 0\n",
       "Temperature(°C)                                 0\n",
       "Precipitation(mm)                               0\n",
       "Windspeed(m/s)                                  0\n",
       "Humidity(%)                                     0\n",
       "Solar Radiation(MJ/m2)                          0\n",
       "Snow(cm)                                        0\n",
       "Ground Temperature (°C)                         0\n",
       "1 Hour Average Dust Concentration (㎍/㎥)    241586\n",
       "dtype: int64"
      ]
     },
     "execution_count": 3,
     "metadata": {},
     "output_type": "execute_result"
    }
   ],
   "source": [
    "all_data.isnull().sum()"
   ]
  },
  {
   "cell_type": "code",
   "execution_count": 4,
   "metadata": {},
   "outputs": [],
   "source": [
    "all_data = all_data.fillna(0)"
   ]
  },
  {
   "cell_type": "code",
   "execution_count": 5,
   "metadata": {},
   "outputs": [
    {
     "data": {
      "text/plain": [
       "datetime                                   0\n",
       "trip_duration                              0\n",
       "trip_distance                              0\n",
       "pickup_datetime                            0\n",
       "pickup_station_id                          0\n",
       "pickup_station_name                        0\n",
       "pickup_log                                 0\n",
       "pickup_lat                                 0\n",
       "pickup_district                            0\n",
       "dropoff_datetime                           0\n",
       "dropoff_station_id                         0\n",
       "dropoff_station_name                       0\n",
       "dropoff_log                                0\n",
       "dropoff_lat                                0\n",
       "dropoff_district                           0\n",
       "pickup_month                               0\n",
       "pickup_day                                 0\n",
       "pickup_hour                                0\n",
       "pickup_minute                              0\n",
       "pickup_weekday                             0\n",
       "dropoff_month                              0\n",
       "dropoff_day                                0\n",
       "dropoff_hour                               0\n",
       "dropoff_minute                             0\n",
       "dropoff_weekday                            0\n",
       "Temperature(°C)                            0\n",
       "Precipitation(mm)                          0\n",
       "Windspeed(m/s)                             0\n",
       "Humidity(%)                                0\n",
       "Solar Radiation(MJ/m2)                     0\n",
       "Snow(cm)                                   0\n",
       "Ground Temperature (°C)                    0\n",
       "1 Hour Average Dust Concentration (㎍/㎥)    0\n",
       "dtype: int64"
      ]
     },
     "execution_count": 5,
     "metadata": {},
     "output_type": "execute_result"
    }
   ],
   "source": [
    "all_data.isnull().sum()"
   ]
  },
  {
   "cell_type": "code",
   "execution_count": 6,
   "metadata": {},
   "outputs": [
    {
     "data": {
      "text/plain": [
       "Index(['datetime', 'trip_duration', 'trip_distance', 'pickup_datetime',\n",
       "       'pickup_station_id', 'pickup_station_name', 'pickup_log', 'pickup_lat',\n",
       "       'pickup_district', 'dropoff_datetime', 'dropoff_station_id',\n",
       "       'dropoff_station_name', 'dropoff_log', 'dropoff_lat',\n",
       "       'dropoff_district', 'pickup_month', 'pickup_day', 'pickup_hour',\n",
       "       'pickup_minute', 'pickup_weekday', 'dropoff_month', 'dropoff_day',\n",
       "       'dropoff_hour', 'dropoff_minute', 'dropoff_weekday', 'Temperature(°C)',\n",
       "       'Precipitation(mm)', 'Windspeed(m/s)', 'Humidity(%)',\n",
       "       'Solar Radiation(MJ/m2)', 'Snow(cm)', 'Ground Temperature (°C) ',\n",
       "       '1 Hour Average Dust Concentration (㎍/㎥)'],\n",
       "      dtype='object')"
      ]
     },
     "execution_count": 6,
     "metadata": {},
     "output_type": "execute_result"
    }
   ],
   "source": [
    "all_data.columns"
   ]
  },
  {
   "cell_type": "code",
   "execution_count": 7,
   "metadata": {},
   "outputs": [],
   "source": [
    "all_data.columns = ['Datetime', 'TRIP_DURATION', 'TRIP_DISTANCE', 'PICKUP_DATETIME',\n",
    "       'pickup_station_id', 'pickup_station_name', 'PICKUP_LONGITUDE', 'PICKUP_LATITUDE',\n",
    "       'PICKUP_DISTRICT', 'DROPOFF_DATETIME', 'dropoff_station_id',\n",
    "       'dropoff_station_name', 'DROPOFF_LONGITUDE', 'DROPOFF_LATITUDE',\n",
    "       'DROPOFF_DISTRICT', 'PICKUP_MONTH', 'PICKUP_DAY', 'PICKUP_HOUR',\n",
    "       'PICKUP_MINUTE', 'PICKUP_WEEKDAY', 'DROPOFF_MONTH', 'DROPOFF_DAY',\n",
    "       'DROPOFF_HOUR', 'DROPOFF_MINUTE', 'DROPOFF_WEEKDAY', 'TEMPERATURE(°C)',\n",
    "       'PRECIPITATION(mm)', 'WINDSPEED(m/s)', 'HUMIDITY(%)',\n",
    "       'SOLAR RADIATION(MJ/m2)', 'SNOW(cm)', 'GROUND TEMPERATURE (°C)',\n",
    "       '1 Hour Average Dust Concentration (㎍/㎥)']"
   ]
  },
  {
   "cell_type": "code",
   "execution_count": 8,
   "metadata": {},
   "outputs": [
    {
     "data": {
      "text/plain": [
       "<matplotlib.axes._subplots.AxesSubplot at 0x20ecc5b06d8>"
      ]
     },
     "execution_count": 8,
     "metadata": {},
     "output_type": "execute_result"
    }
   ],
   "source": [
    "import seaborn as sns\n",
    "sns.boxplot(x=all_data['TRIP_DURATION'])"
   ]
  },
  {
   "cell_type": "code",
   "execution_count": 9,
   "metadata": {},
   "outputs": [
    {
     "data": {
      "text/plain": [
       "(9830314, 33)"
      ]
     },
     "execution_count": 9,
     "metadata": {},
     "output_type": "execute_result"
    }
   ],
   "source": [
    "all_data.shape"
   ]
  },
  {
   "cell_type": "code",
   "execution_count": 10,
   "metadata": {},
   "outputs": [
    {
     "data": {
      "text/html": [
       "<div>\n",
       "<style scoped>\n",
       "    .dataframe tbody tr th:only-of-type {\n",
       "        vertical-align: middle;\n",
       "    }\n",
       "\n",
       "    .dataframe tbody tr th {\n",
       "        vertical-align: top;\n",
       "    }\n",
       "\n",
       "    .dataframe thead th {\n",
       "        text-align: right;\n",
       "    }\n",
       "</style>\n",
       "<table border=\"1\" class=\"dataframe\">\n",
       "  <thead>\n",
       "    <tr style=\"text-align: right;\">\n",
       "      <th></th>\n",
       "      <th>TRIP_DURATION</th>\n",
       "      <th>TRIP_DISTANCE</th>\n",
       "      <th>pickup_station_id</th>\n",
       "      <th>PICKUP_LONGITUDE</th>\n",
       "      <th>PICKUP_LATITUDE</th>\n",
       "      <th>dropoff_station_id</th>\n",
       "      <th>DROPOFF_LONGITUDE</th>\n",
       "      <th>DROPOFF_LATITUDE</th>\n",
       "      <th>PICKUP_MONTH</th>\n",
       "      <th>PICKUP_DAY</th>\n",
       "      <th>...</th>\n",
       "      <th>DROPOFF_MINUTE</th>\n",
       "      <th>DROPOFF_WEEKDAY</th>\n",
       "      <th>TEMPERATURE(°C)</th>\n",
       "      <th>PRECIPITATION(mm)</th>\n",
       "      <th>WINDSPEED(m/s)</th>\n",
       "      <th>HUMIDITY(%)</th>\n",
       "      <th>SOLAR RADIATION(MJ/m2)</th>\n",
       "      <th>SNOW(cm)</th>\n",
       "      <th>GROUND TEMPERATURE (°C)</th>\n",
       "      <th>1 Hour Average Dust Concentration (㎍/㎥)</th>\n",
       "    </tr>\n",
       "  </thead>\n",
       "  <tbody>\n",
       "    <tr>\n",
       "      <td>count</td>\n",
       "      <td>9.830314e+06</td>\n",
       "      <td>9.830314e+06</td>\n",
       "      <td>9.830314e+06</td>\n",
       "      <td>9.830314e+06</td>\n",
       "      <td>9.830314e+06</td>\n",
       "      <td>9.830314e+06</td>\n",
       "      <td>9.830314e+06</td>\n",
       "      <td>9.830314e+06</td>\n",
       "      <td>9.830314e+06</td>\n",
       "      <td>9.830314e+06</td>\n",
       "      <td>...</td>\n",
       "      <td>9.830314e+06</td>\n",
       "      <td>9.830314e+06</td>\n",
       "      <td>9.830314e+06</td>\n",
       "      <td>9.830314e+06</td>\n",
       "      <td>9.830314e+06</td>\n",
       "      <td>9.830314e+06</td>\n",
       "      <td>9.830314e+06</td>\n",
       "      <td>9.830314e+06</td>\n",
       "      <td>9.830314e+06</td>\n",
       "      <td>9.830314e+06</td>\n",
       "    </tr>\n",
       "    <tr>\n",
       "      <td>mean</td>\n",
       "      <td>2.755067e+01</td>\n",
       "      <td>4.595559e+03</td>\n",
       "      <td>1.079340e+03</td>\n",
       "      <td>3.754750e+01</td>\n",
       "      <td>1.269907e+02</td>\n",
       "      <td>1.079226e+03</td>\n",
       "      <td>3.754758e+01</td>\n",
       "      <td>1.269907e+02</td>\n",
       "      <td>7.572367e+00</td>\n",
       "      <td>1.576215e+01</td>\n",
       "      <td>...</td>\n",
       "      <td>2.998539e+01</td>\n",
       "      <td>2.952536e+00</td>\n",
       "      <td>1.860730e+01</td>\n",
       "      <td>1.773082e-02</td>\n",
       "      <td>1.821531e+00</td>\n",
       "      <td>5.390890e+01</td>\n",
       "      <td>7.340622e-01</td>\n",
       "      <td>9.874598e-03</td>\n",
       "      <td>2.078963e+01</td>\n",
       "      <td>3.244837e+01</td>\n",
       "    </tr>\n",
       "    <tr>\n",
       "      <td>std</td>\n",
       "      <td>3.052896e+01</td>\n",
       "      <td>9.724082e+03</td>\n",
       "      <td>8.095575e+02</td>\n",
       "      <td>4.437415e-02</td>\n",
       "      <td>8.257160e-02</td>\n",
       "      <td>8.032787e+02</td>\n",
       "      <td>4.439842e-02</td>\n",
       "      <td>8.323693e-02</td>\n",
       "      <td>2.692271e+00</td>\n",
       "      <td>8.749126e+00</td>\n",
       "      <td>...</td>\n",
       "      <td>1.730856e+01</td>\n",
       "      <td>1.980086e+00</td>\n",
       "      <td>9.469039e+00</td>\n",
       "      <td>3.716905e-01</td>\n",
       "      <td>9.708820e-01</td>\n",
       "      <td>1.741879e+01</td>\n",
       "      <td>9.198433e-01</td>\n",
       "      <td>1.622014e-01</td>\n",
       "      <td>1.263483e+01</td>\n",
       "      <td>2.405287e+01</td>\n",
       "    </tr>\n",
       "    <tr>\n",
       "      <td>min</td>\n",
       "      <td>1.000000e+00</td>\n",
       "      <td>1.000000e+00</td>\n",
       "      <td>1.010000e+02</td>\n",
       "      <td>3.743727e+01</td>\n",
       "      <td>1.267986e+02</td>\n",
       "      <td>1.010000e+02</td>\n",
       "      <td>3.743727e+01</td>\n",
       "      <td>1.267986e+02</td>\n",
       "      <td>1.000000e+00</td>\n",
       "      <td>1.000000e+00</td>\n",
       "      <td>...</td>\n",
       "      <td>0.000000e+00</td>\n",
       "      <td>0.000000e+00</td>\n",
       "      <td>-1.780000e+01</td>\n",
       "      <td>0.000000e+00</td>\n",
       "      <td>0.000000e+00</td>\n",
       "      <td>1.000000e+01</td>\n",
       "      <td>0.000000e+00</td>\n",
       "      <td>0.000000e+00</td>\n",
       "      <td>-1.360000e+01</td>\n",
       "      <td>0.000000e+00</td>\n",
       "    </tr>\n",
       "    <tr>\n",
       "      <td>25%</td>\n",
       "      <td>8.000000e+00</td>\n",
       "      <td>1.250000e+03</td>\n",
       "      <td>3.590000e+02</td>\n",
       "      <td>3.751424e+01</td>\n",
       "      <td>1.269200e+02</td>\n",
       "      <td>3.630000e+02</td>\n",
       "      <td>3.751424e+01</td>\n",
       "      <td>1.269194e+02</td>\n",
       "      <td>6.000000e+00</td>\n",
       "      <td>8.000000e+00</td>\n",
       "      <td>...</td>\n",
       "      <td>1.500000e+01</td>\n",
       "      <td>1.000000e+00</td>\n",
       "      <td>1.230000e+01</td>\n",
       "      <td>0.000000e+00</td>\n",
       "      <td>1.100000e+00</td>\n",
       "      <td>4.100000e+01</td>\n",
       "      <td>0.000000e+00</td>\n",
       "      <td>0.000000e+00</td>\n",
       "      <td>1.170000e+01</td>\n",
       "      <td>1.600000e+01</td>\n",
       "    </tr>\n",
       "    <tr>\n",
       "      <td>50%</td>\n",
       "      <td>1.600000e+01</td>\n",
       "      <td>2.340000e+03</td>\n",
       "      <td>9.270000e+02</td>\n",
       "      <td>3.754685e+01</td>\n",
       "      <td>1.269943e+02</td>\n",
       "      <td>9.320000e+02</td>\n",
       "      <td>3.754644e+01</td>\n",
       "      <td>1.269943e+02</td>\n",
       "      <td>8.000000e+00</td>\n",
       "      <td>1.600000e+01</td>\n",
       "      <td>...</td>\n",
       "      <td>3.000000e+01</td>\n",
       "      <td>3.000000e+00</td>\n",
       "      <td>2.010000e+01</td>\n",
       "      <td>0.000000e+00</td>\n",
       "      <td>1.700000e+00</td>\n",
       "      <td>5.300000e+01</td>\n",
       "      <td>2.800000e-01</td>\n",
       "      <td>0.000000e+00</td>\n",
       "      <td>2.120000e+01</td>\n",
       "      <td>2.700000e+01</td>\n",
       "    </tr>\n",
       "    <tr>\n",
       "      <td>75%</td>\n",
       "      <td>3.800000e+01</td>\n",
       "      <td>4.880000e+03</td>\n",
       "      <td>1.655000e+03</td>\n",
       "      <td>3.757311e+01</td>\n",
       "      <td>1.270618e+02</td>\n",
       "      <td>1.643000e+03</td>\n",
       "      <td>3.757324e+01</td>\n",
       "      <td>1.270624e+02</td>\n",
       "      <td>1.000000e+01</td>\n",
       "      <td>2.300000e+01</td>\n",
       "      <td>...</td>\n",
       "      <td>4.500000e+01</td>\n",
       "      <td>5.000000e+00</td>\n",
       "      <td>2.550000e+01</td>\n",
       "      <td>0.000000e+00</td>\n",
       "      <td>2.400000e+00</td>\n",
       "      <td>6.700000e+01</td>\n",
       "      <td>1.270000e+00</td>\n",
       "      <td>0.000000e+00</td>\n",
       "      <td>2.860000e+01</td>\n",
       "      <td>4.200000e+01</td>\n",
       "    </tr>\n",
       "    <tr>\n",
       "      <td>max</td>\n",
       "      <td>5.940000e+03</td>\n",
       "      <td>2.559900e+05</td>\n",
       "      <td>3.542000e+03</td>\n",
       "      <td>3.768972e+01</td>\n",
       "      <td>1.271803e+02</td>\n",
       "      <td>3.542000e+03</td>\n",
       "      <td>3.768972e+01</td>\n",
       "      <td>1.271803e+02</td>\n",
       "      <td>1.200000e+01</td>\n",
       "      <td>3.100000e+01</td>\n",
       "      <td>...</td>\n",
       "      <td>5.900000e+01</td>\n",
       "      <td>6.000000e+00</td>\n",
       "      <td>3.940000e+01</td>\n",
       "      <td>3.500000e+01</td>\n",
       "      <td>7.400000e+00</td>\n",
       "      <td>9.800000e+01</td>\n",
       "      <td>3.520000e+00</td>\n",
       "      <td>8.800000e+00</td>\n",
       "      <td>6.220000e+01</td>\n",
       "      <td>3.040000e+02</td>\n",
       "    </tr>\n",
       "  </tbody>\n",
       "</table>\n",
       "<p>8 rows × 26 columns</p>\n",
       "</div>"
      ],
      "text/plain": [
       "       TRIP_DURATION  TRIP_DISTANCE  pickup_station_id  PICKUP_LONGITUDE  \\\n",
       "count   9.830314e+06   9.830314e+06       9.830314e+06      9.830314e+06   \n",
       "mean    2.755067e+01   4.595559e+03       1.079340e+03      3.754750e+01   \n",
       "std     3.052896e+01   9.724082e+03       8.095575e+02      4.437415e-02   \n",
       "min     1.000000e+00   1.000000e+00       1.010000e+02      3.743727e+01   \n",
       "25%     8.000000e+00   1.250000e+03       3.590000e+02      3.751424e+01   \n",
       "50%     1.600000e+01   2.340000e+03       9.270000e+02      3.754685e+01   \n",
       "75%     3.800000e+01   4.880000e+03       1.655000e+03      3.757311e+01   \n",
       "max     5.940000e+03   2.559900e+05       3.542000e+03      3.768972e+01   \n",
       "\n",
       "       PICKUP_LATITUDE  dropoff_station_id  DROPOFF_LONGITUDE  \\\n",
       "count     9.830314e+06        9.830314e+06       9.830314e+06   \n",
       "mean      1.269907e+02        1.079226e+03       3.754758e+01   \n",
       "std       8.257160e-02        8.032787e+02       4.439842e-02   \n",
       "min       1.267986e+02        1.010000e+02       3.743727e+01   \n",
       "25%       1.269200e+02        3.630000e+02       3.751424e+01   \n",
       "50%       1.269943e+02        9.320000e+02       3.754644e+01   \n",
       "75%       1.270618e+02        1.643000e+03       3.757324e+01   \n",
       "max       1.271803e+02        3.542000e+03       3.768972e+01   \n",
       "\n",
       "       DROPOFF_LATITUDE  PICKUP_MONTH    PICKUP_DAY  ...  DROPOFF_MINUTE  \\\n",
       "count      9.830314e+06  9.830314e+06  9.830314e+06  ...    9.830314e+06   \n",
       "mean       1.269907e+02  7.572367e+00  1.576215e+01  ...    2.998539e+01   \n",
       "std        8.323693e-02  2.692271e+00  8.749126e+00  ...    1.730856e+01   \n",
       "min        1.267986e+02  1.000000e+00  1.000000e+00  ...    0.000000e+00   \n",
       "25%        1.269194e+02  6.000000e+00  8.000000e+00  ...    1.500000e+01   \n",
       "50%        1.269943e+02  8.000000e+00  1.600000e+01  ...    3.000000e+01   \n",
       "75%        1.270624e+02  1.000000e+01  2.300000e+01  ...    4.500000e+01   \n",
       "max        1.271803e+02  1.200000e+01  3.100000e+01  ...    5.900000e+01   \n",
       "\n",
       "       DROPOFF_WEEKDAY  TEMPERATURE(°C)  PRECIPITATION(mm)  WINDSPEED(m/s)  \\\n",
       "count     9.830314e+06     9.830314e+06       9.830314e+06    9.830314e+06   \n",
       "mean      2.952536e+00     1.860730e+01       1.773082e-02    1.821531e+00   \n",
       "std       1.980086e+00     9.469039e+00       3.716905e-01    9.708820e-01   \n",
       "min       0.000000e+00    -1.780000e+01       0.000000e+00    0.000000e+00   \n",
       "25%       1.000000e+00     1.230000e+01       0.000000e+00    1.100000e+00   \n",
       "50%       3.000000e+00     2.010000e+01       0.000000e+00    1.700000e+00   \n",
       "75%       5.000000e+00     2.550000e+01       0.000000e+00    2.400000e+00   \n",
       "max       6.000000e+00     3.940000e+01       3.500000e+01    7.400000e+00   \n",
       "\n",
       "        HUMIDITY(%)  SOLAR RADIATION(MJ/m2)      SNOW(cm)  \\\n",
       "count  9.830314e+06            9.830314e+06  9.830314e+06   \n",
       "mean   5.390890e+01            7.340622e-01  9.874598e-03   \n",
       "std    1.741879e+01            9.198433e-01  1.622014e-01   \n",
       "min    1.000000e+01            0.000000e+00  0.000000e+00   \n",
       "25%    4.100000e+01            0.000000e+00  0.000000e+00   \n",
       "50%    5.300000e+01            2.800000e-01  0.000000e+00   \n",
       "75%    6.700000e+01            1.270000e+00  0.000000e+00   \n",
       "max    9.800000e+01            3.520000e+00  8.800000e+00   \n",
       "\n",
       "       GROUND TEMPERATURE (°C)  1 Hour Average Dust Concentration (㎍/㎥)  \n",
       "count             9.830314e+06                             9.830314e+06  \n",
       "mean              2.078963e+01                             3.244837e+01  \n",
       "std               1.263483e+01                             2.405287e+01  \n",
       "min              -1.360000e+01                             0.000000e+00  \n",
       "25%               1.170000e+01                             1.600000e+01  \n",
       "50%               2.120000e+01                             2.700000e+01  \n",
       "75%               2.860000e+01                             4.200000e+01  \n",
       "max               6.220000e+01                             3.040000e+02  \n",
       "\n",
       "[8 rows x 26 columns]"
      ]
     },
     "execution_count": 10,
     "metadata": {},
     "output_type": "execute_result"
    }
   ],
   "source": [
    "all_data.describe()"
   ]
  },
  {
   "cell_type": "code",
   "execution_count": 11,
   "metadata": {},
   "outputs": [
    {
     "data": {
      "text/plain": [
       "5940"
      ]
     },
     "execution_count": 11,
     "metadata": {},
     "output_type": "execute_result"
    }
   ],
   "source": [
    "max(all_data.TRIP_DURATION)"
   ]
  },
  {
   "cell_type": "code",
   "execution_count": 12,
   "metadata": {},
   "outputs": [
    {
     "data": {
      "text/plain": [
       "1"
      ]
     },
     "execution_count": 12,
     "metadata": {},
     "output_type": "execute_result"
    }
   ],
   "source": [
    "min(all_data.TRIP_DURATION)"
   ]
  },
  {
   "cell_type": "code",
   "execution_count": 13,
   "metadata": {},
   "outputs": [],
   "source": [
    "import numpy as np"
   ]
  },
  {
   "cell_type": "code",
   "execution_count": 14,
   "metadata": {},
   "outputs": [
    {
     "data": {
      "text/plain": [
       "27.550673661085494"
      ]
     },
     "execution_count": 14,
     "metadata": {},
     "output_type": "execute_result"
    }
   ],
   "source": [
    "np.mean(all_data.TRIP_DURATION)"
   ]
  },
  {
   "cell_type": "code",
   "execution_count": 15,
   "metadata": {},
   "outputs": [],
   "source": [
    "m = np.mean(all_data['TRIP_DURATION'])\n",
    "s = np.std(all_data['TRIP_DURATION'])\n",
    "all_data = all_data[all_data['TRIP_DURATION'] <= m + 3*s]\n",
    "all_data = all_data[all_data['TRIP_DURATION'] >= m - 3*s]"
   ]
  },
  {
   "cell_type": "code",
   "execution_count": 16,
   "metadata": {},
   "outputs": [
    {
     "data": {
      "text/plain": [
       "119"
      ]
     },
     "execution_count": 16,
     "metadata": {},
     "output_type": "execute_result"
    }
   ],
   "source": [
    "max(all_data.TRIP_DURATION)"
   ]
  },
  {
   "cell_type": "code",
   "execution_count": 17,
   "metadata": {},
   "outputs": [
    {
     "data": {
      "text/plain": [
       "1"
      ]
     },
     "execution_count": 17,
     "metadata": {},
     "output_type": "execute_result"
    }
   ],
   "source": [
    "min(all_data.TRIP_DURATION)"
   ]
  },
  {
   "cell_type": "code",
   "execution_count": 18,
   "metadata": {},
   "outputs": [
    {
     "data": {
      "text/plain": [
       "25.845936265640436"
      ]
     },
     "execution_count": 18,
     "metadata": {},
     "output_type": "execute_result"
    }
   ],
   "source": [
    "np.mean(all_data.TRIP_DURATION)"
   ]
  },
  {
   "cell_type": "code",
   "execution_count": 19,
   "metadata": {},
   "outputs": [
    {
     "data": {
      "text/plain": [
       "(9705691, 33)"
      ]
     },
     "execution_count": 19,
     "metadata": {},
     "output_type": "execute_result"
    }
   ],
   "source": [
    "all_data.shape"
   ]
  },
  {
   "cell_type": "code",
   "execution_count": 20,
   "metadata": {},
   "outputs": [
    {
     "data": {
      "text/plain": [
       "<matplotlib.axes._subplots.AxesSubplot at 0x20e723b3390>"
      ]
     },
     "execution_count": 20,
     "metadata": {},
     "output_type": "execute_result"
    },
    {
     "data": {
      "image/png": "[encoded data removed]",
      "text/plain": [
       "<Figure size 432x288 with 1 Axes>"
      ]
     },
     "metadata": {
      "needs_background": "light"
     },
     "output_type": "display_data"
    }
   ],
   "source": [
    "import seaborn as sns\n",
    "sns.boxplot(x=all_data['TRIP_DURATION'])"
   ]
  },
  {
   "cell_type": "code",
   "execution_count": 21,
   "metadata": {},
   "outputs": [
    {
     "data": {
      "text/plain": [
       "<matplotlib.axes._subplots.AxesSubplot at 0x20ed0e8a400>"
      ]
     },
     "execution_count": 21,
     "metadata": {},
     "output_type": "execute_result"
    },
    {
     "data": {
      "image/png": "[encoded data removed]",
      "text/plain": [
       "<Figure size 432x288 with 1 Axes>"
      ]
     },
     "metadata": {
      "needs_background": "light"
     },
     "output_type": "display_data"
    }
   ],
   "source": [
    "import seaborn as sns\n",
    "sns.boxplot(x=all_data['TRIP_DISTANCE'])"
   ]
  },
  {
   "cell_type": "code",
   "execution_count": 22,
   "metadata": {},
   "outputs": [
    {
     "data": {
      "text/plain": [
       "255990"
      ]
     },
     "execution_count": 22,
     "metadata": {},
     "output_type": "execute_result"
    }
   ],
   "source": [
    "max(all_data.TRIP_DISTANCE)"
   ]
  },
  {
   "cell_type": "code",
   "execution_count": 23,
   "metadata": {},
   "outputs": [
    {
     "data": {
      "text/plain": [
       "1"
      ]
     },
     "execution_count": 23,
     "metadata": {},
     "output_type": "execute_result"
    }
   ],
   "source": [
    "min(all_data.TRIP_DISTANCE)"
   ]
  },
  {
   "cell_type": "code",
   "execution_count": 24,
   "metadata": {},
   "outputs": [
    {
     "data": {
      "text/plain": [
       "4468.753686780261"
      ]
     },
     "execution_count": 24,
     "metadata": {},
     "output_type": "execute_result"
    }
   ],
   "source": [
    "np.mean(all_data.TRIP_DISTANCE)"
   ]
  },
  {
   "cell_type": "code",
   "execution_count": 25,
   "metadata": {},
   "outputs": [],
   "source": [
    "m = np.mean(all_data['TRIP_DISTANCE'])\n",
    "s = np.std(all_data['TRIP_DISTANCE'])\n",
    "all_data = all_data[all_data['TRIP_DISTANCE'] <= m + 3*s]\n",
    "all_data = all_data[all_data['TRIP_DISTANCE'] >= m - 3*s]"
   ]
  },
  {
   "cell_type": "code",
   "execution_count": 26,
   "metadata": {},
   "outputs": [
    {
     "data": {
      "text/plain": [
       "(9601139, 33)"
      ]
     },
     "execution_count": 26,
     "metadata": {},
     "output_type": "execute_result"
    }
   ],
   "source": [
    "all_data.shape"
   ]
  },
  {
   "cell_type": "code",
   "execution_count": 27,
   "metadata": {},
   "outputs": [
    {
     "data": {
      "text/plain": [
       "33290"
      ]
     },
     "execution_count": 27,
     "metadata": {},
     "output_type": "execute_result"
    }
   ],
   "source": [
    "max(all_data.TRIP_DISTANCE)"
   ]
  },
  {
   "cell_type": "code",
   "execution_count": 28,
   "metadata": {},
   "outputs": [
    {
     "data": {
      "text/plain": [
       "1"
      ]
     },
     "execution_count": 28,
     "metadata": {},
     "output_type": "execute_result"
    }
   ],
   "source": [
    "min(all_data.TRIP_DISTANCE)"
   ]
  },
  {
   "cell_type": "code",
   "execution_count": 29,
   "metadata": {},
   "outputs": [
    {
     "data": {
      "text/plain": [
       "3713.518717831291"
      ]
     },
     "execution_count": 29,
     "metadata": {},
     "output_type": "execute_result"
    }
   ],
   "source": [
    "np.mean(all_data.TRIP_DISTANCE)"
   ]
  },
  {
   "cell_type": "code",
   "execution_count": 30,
   "metadata": {},
   "outputs": [
    {
     "data": {
      "text/plain": [
       "<matplotlib.axes._subplots.AxesSubplot at 0x20ecb2d2eb8>"
      ]
     },
     "execution_count": 30,
     "metadata": {},
     "output_type": "execute_result"
    },
    {
     "data": {
      "image/png": "[encoded data removed]",
      "text/plain": [
       "<Figure size 432x288 with 1 Axes>"
      ]
     },
     "metadata": {
      "needs_background": "light"
     },
     "output_type": "display_data"
    }
   ],
   "source": [
    "import seaborn as sns\n",
    "sns.boxplot(x=all_data['TRIP_DISTANCE'])"
   ]
  },
  {
   "cell_type": "code",
   "execution_count": 31,
   "metadata": {},
   "outputs": [
    {
     "data": {
      "text/plain": [
       "(9601139, 33)"
      ]
     },
     "execution_count": 31,
     "metadata": {},
     "output_type": "execute_result"
    }
   ],
   "source": [
    "all_data.shape"
   ]
  },
  {
   "cell_type": "code",
   "execution_count": 32,
   "metadata": {},
   "outputs": [
    {
     "data": {
      "text/plain": [
       "<matplotlib.axes._subplots.AxesSubplot at 0x20ec3f8a780>"
      ]
     },
     "execution_count": 32,
     "metadata": {},
     "output_type": "execute_result"
    },
    {
     "data": {
      "image/png": "[encoded data removed]",
      "text/plain": [
       "<Figure size 432x288 with 1 Axes>"
      ]
     },
     "metadata": {
      "needs_background": "light"
     },
     "output_type": "display_data"
    }
   ],
   "source": [
    "import seaborn as sns\n",
    "sns.boxplot(x=all_data['PICKUP_LATITUDE'])"
   ]
  },
  {
   "cell_type": "code",
   "execution_count": 33,
   "metadata": {},
   "outputs": [
    {
     "data": {
      "text/plain": [
       "<matplotlib.axes._subplots.AxesSubplot at 0x20ed3df6898>"
      ]
     },
     "execution_count": 33,
     "metadata": {},
     "output_type": "execute_result"
    },
    {
     "data": {
      "image/png": "[encoded data removed]",
      "text/plain": [
       "<Figure size 432x288 with 1 Axes>"
      ]
     },
     "metadata": {
      "needs_background": "light"
     },
     "output_type": "display_data"
    }
   ],
   "source": [
    "import seaborn as sns\n",
    "sns.boxplot(x=all_data['PICKUP_LONGITUDE'])"
   ]
  },
  {
   "cell_type": "code",
   "execution_count": 34,
   "metadata": {},
   "outputs": [
    {
     "data": {
      "text/plain": [
       "<matplotlib.axes._subplots.AxesSubplot at 0x20eb47e0198>"
      ]
     },
     "execution_count": 34,
     "metadata": {},
     "output_type": "execute_result"
    },
    {
     "data": {
      "image/png": "[encoded data removed]",
      "text/plain": [
       "<Figure size 432x288 with 1 Axes>"
      ]
     },
     "metadata": {
      "needs_background": "light"
     },
     "output_type": "display_data"
    }
   ],
   "source": [
    "import seaborn as sns\n",
    "sns.boxplot(x=all_data['DROPOFF_LATITUDE'])"
   ]
  },
  {
   "cell_type": "code",
   "execution_count": 35,
   "metadata": {},
   "outputs": [
    {
     "data": {
      "text/plain": [
       "<matplotlib.axes._subplots.AxesSubplot at 0x20ec3f8add8>"
      ]
     },
     "execution_count": 35,
     "metadata": {},
     "output_type": "execute_result"
    },
    {
     "data": {
      "image/png": "[encoded data removed]",
      "text/plain": [
       "<Figure size 432x288 with 1 Axes>"
      ]
     },
     "metadata": {
      "needs_background": "light"
     },
     "output_type": "display_data"
    }
   ],
   "source": [
    "import seaborn as sns\n",
    "sns.boxplot(x=all_data['DROPOFF_LONGITUDE'])"
   ]
  },
  {
   "cell_type": "code",
   "execution_count": 36,
   "metadata": {},
   "outputs": [
    {
     "data": {
      "image/png": "[encoded data removed]",
      "text/plain": [
       "<Figure size 432x288 with 1 Axes>"
      ]
     },
     "metadata": {
      "needs_background": "light"
     },
     "output_type": "display_data"
    }
   ],
   "source": [
    "import matplotlib.pyplot as plt\n",
    "plt.hist(all_data['TRIP_DURATION'].values,bins=100)\n",
    "plt.xlabel('TRIP_DURATION')\n",
    "plt.ylabel('FREQUENCY')\n",
    "plt.show()"
   ]
  },
  {
   "cell_type": "code",
   "execution_count": 37,
   "metadata": {},
   "outputs": [
    {
     "data": {
      "text/plain": [
       "12"
      ]
     },
     "execution_count": 37,
     "metadata": {},
     "output_type": "execute_result"
    }
   ],
   "source": [
    "len(all_data.groupby('PICKUP_MONTH').size())"
   ]
  },
  {
   "cell_type": "code",
   "execution_count": 38,
   "metadata": {},
   "outputs": [
    {
     "name": "stdout",
     "output_type": "stream",
     "text": [
      "<class 'pandas.core.frame.DataFrame'>\n",
      "Int64Index: 9601139 entries, 0 to 9830310\n",
      "Data columns (total 33 columns):\n",
      "Datetime                                   datetime64[ns]\n",
      "TRIP_DURATION                              int64\n",
      "TRIP_DISTANCE                              int64\n",
      "PICKUP_DATETIME                            datetime64[ns]\n",
      "pickup_station_id                          int64\n",
      "pickup_station_name                        object\n",
      "PICKUP_LONGITUDE                           float64\n",
      "PICKUP_LATITUDE                            float64\n",
      "PICKUP_DISTRICT                            object\n",
      "DROPOFF_DATETIME                           datetime64[ns]\n",
      "dropoff_station_id                         int64\n",
      "dropoff_station_name                       object\n",
      "DROPOFF_LONGITUDE                          float64\n",
      "DROPOFF_LATITUDE                           float64\n",
      "DROPOFF_DISTRICT                           object\n",
      "PICKUP_MONTH                               int64\n",
      "PICKUP_DAY                                 int64\n",
      "PICKUP_HOUR                                int64\n",
      "PICKUP_MINUTE                              int64\n",
      "PICKUP_WEEKDAY                             int64\n",
      "DROPOFF_MONTH                              int64\n",
      "DROPOFF_DAY                                int64\n",
      "DROPOFF_HOUR                               int64\n",
      "DROPOFF_MINUTE                             int64\n",
      "DROPOFF_WEEKDAY                            int64\n",
      "TEMPERATURE(°C)                            float64\n",
      "PRECIPITATION(mm)                          float64\n",
      "WINDSPEED(m/s)                             float64\n",
      "HUMIDITY(%)                                float64\n",
      "SOLAR RADIATION(MJ/m2)                     float64\n",
      "SNOW(cm)                                   float64\n",
      "GROUND TEMPERATURE (°C)                    float64\n",
      "1 Hour Average Dust Concentration (㎍/㎥)    float64\n",
      "dtypes: datetime64[ns](3), float64(12), int64(14), object(4)\n",
      "memory usage: 2.4+ GB\n"
     ]
    }
   ],
   "source": [
    "all_data.info()"
   ]
  },
  {
   "cell_type": "code",
   "execution_count": 41,
   "metadata": {},
   "outputs": [
    {
     "ename": "ModuleNotFoundError",
     "evalue": "No module named 'haversine'",
     "output_type": "error",
     "traceback": [
      "\u001b[1;31m---------------------------------------------------------------------------\u001b[0m",
      "\u001b[1;31mModuleNotFoundError\u001b[0m                       Traceback (most recent call last)",
      "\u001b[1;32m<ipython-input-41-ea3779700109>\u001b[0m in \u001b[0;36m<module>\u001b[1;34m\u001b[0m\n\u001b[0;32m      5\u001b[0m \u001b[1;32mimport\u001b[0m \u001b[0mmatplotlib\u001b[0m\u001b[1;33m.\u001b[0m\u001b[0mpyplot\u001b[0m \u001b[1;32mas\u001b[0m \u001b[0mplt\u001b[0m\u001b[1;33m\u001b[0m\u001b[0m\n\u001b[0;32m      6\u001b[0m \u001b[1;32mfrom\u001b[0m \u001b[0msklearn\u001b[0m \u001b[1;32mimport\u001b[0m \u001b[0mlinear_model\u001b[0m\u001b[1;33m,\u001b[0m\u001b[0mmodel_selection\u001b[0m\u001b[1;33m\u001b[0m\u001b[0m\n\u001b[1;32m----> 7\u001b[1;33m \u001b[1;32mfrom\u001b[0m \u001b[0mhaversine\u001b[0m \u001b[1;32mimport\u001b[0m \u001b[0mhaversine\u001b[0m\u001b[1;33m\u001b[0m\u001b[0m\n\u001b[0m\u001b[0;32m      8\u001b[0m \u001b[1;32mimport\u001b[0m \u001b[0mseaborn\u001b[0m \u001b[1;32mas\u001b[0m \u001b[0msns\u001b[0m\u001b[1;33m\u001b[0m\u001b[0m\n",
      "\u001b[1;31mModuleNotFoundError\u001b[0m: No module named 'haversine'"
     ]
    }
   ],
   "source": [
    "import numpy as np\n",
    "import pandas as pd\n",
    "import datetime as dt\n",
    "from scipy.spatial import distance\n",
    "import matplotlib.pyplot as plt\n",
    "from sklearn import linear_model,model_selection\n",
    "from haversine import haversine\n",
    "import seaborn as sns"
   ]
  },
  {
   "cell_type": "code",
   "execution_count": 42,
   "metadata": {},
   "outputs": [
    {
     "ename": "NameError",
     "evalue": "(\"name 'haversine' is not defined\", 'occurred at index 0')",
     "output_type": "error",
     "traceback": [
      "\u001b[1;31m---------------------------------------------------------------------------\u001b[0m",
      "\u001b[1;31mNameError\u001b[0m                                 Traceback (most recent call last)",
      "\u001b[1;32m<ipython-input-42-f6e26f1b5c07>\u001b[0m in \u001b[0;36m<module>\u001b[1;34m\u001b[0m\n\u001b[0;32m      1\u001b[0m all_data['GEOGRAPHICAL_DISTANCE'] = all_data.apply(lambda x: haversine((x[\"PICKUP_LONGITUDE\"], x[\"PICKUP_LATITUDE\"]),\n\u001b[1;32m----> 2\u001b[1;33m                                                     (x[\"DROPOFF_LONGITUDE\"], x[\"DROPOFF_LATITUDE\"])), axis=1)\n\u001b[0m",
      "\u001b[1;32m~\\Anaconda3\\envs\\tensorflow\\lib\\site-packages\\pandas\\core\\frame.py\u001b[0m in \u001b[0;36mapply\u001b[1;34m(self, func, axis, broadcast, raw, reduce, result_type, args, **kwds)\u001b[0m\n\u001b[0;32m   6911\u001b[0m             \u001b[0mkwds\u001b[0m\u001b[1;33m=\u001b[0m\u001b[0mkwds\u001b[0m\u001b[1;33m,\u001b[0m\u001b[1;33m\u001b[0m\u001b[0m\n\u001b[0;32m   6912\u001b[0m         )\n\u001b[1;32m-> 6913\u001b[1;33m         \u001b[1;32mreturn\u001b[0m \u001b[0mop\u001b[0m\u001b[1;33m.\u001b[0m\u001b[0mget_result\u001b[0m\u001b[1;33m(\u001b[0m\u001b[1;33m)\u001b[0m\u001b[1;33m\u001b[0m\u001b[0m\n\u001b[0m\u001b[0;32m   6914\u001b[0m \u001b[1;33m\u001b[0m\u001b[0m\n\u001b[0;32m   6915\u001b[0m     \u001b[1;32mdef\u001b[0m \u001b[0mapplymap\u001b[0m\u001b[1;33m(\u001b[0m\u001b[0mself\u001b[0m\u001b[1;33m,\u001b[0m \u001b[0mfunc\u001b[0m\u001b[1;33m)\u001b[0m\u001b[1;33m:\u001b[0m\u001b[1;33m\u001b[0m\u001b[0m\n",
      "\u001b[1;32m~\\Anaconda3\\envs\\tensorflow\\lib\\site-packages\\pandas\\core\\apply.py\u001b[0m in \u001b[0;36mget_result\u001b[1;34m(self)\u001b[0m\n\u001b[0;32m    184\u001b[0m             \u001b[1;32mreturn\u001b[0m \u001b[0mself\u001b[0m\u001b[1;33m.\u001b[0m\u001b[0mapply_raw\u001b[0m\u001b[1;33m(\u001b[0m\u001b[1;33m)\u001b[0m\u001b[1;33m\u001b[0m\u001b[0m\n\u001b[0;32m    185\u001b[0m \u001b[1;33m\u001b[0m\u001b[0m\n\u001b[1;32m--> 186\u001b[1;33m         \u001b[1;32mreturn\u001b[0m \u001b[0mself\u001b[0m\u001b[1;33m.\u001b[0m\u001b[0mapply_standard\u001b[0m\u001b[1;33m(\u001b[0m\u001b[1;33m)\u001b[0m\u001b[1;33m\u001b[0m\u001b[0m\n\u001b[0m\u001b[0;32m    187\u001b[0m \u001b[1;33m\u001b[0m\u001b[0m\n\u001b[0;32m    188\u001b[0m     \u001b[1;32mdef\u001b[0m \u001b[0mapply_empty_result\u001b[0m\u001b[1;33m(\u001b[0m\u001b[0mself\u001b[0m\u001b[1;33m)\u001b[0m\u001b[1;33m:\u001b[0m\u001b[1;33m\u001b[0m\u001b[0m\n",
      "\u001b[1;32m~\\Anaconda3\\envs\\tensorflow\\lib\\site-packages\\pandas\\core\\apply.py\u001b[0m in \u001b[0;36mapply_standard\u001b[1;34m(self)\u001b[0m\n\u001b[0;32m    290\u001b[0m \u001b[1;33m\u001b[0m\u001b[0m\n\u001b[0;32m    291\u001b[0m         \u001b[1;31m# compute the result using the series generator\u001b[0m\u001b[1;33m\u001b[0m\u001b[1;33m\u001b[0m\u001b[0m\n\u001b[1;32m--> 292\u001b[1;33m         \u001b[0mself\u001b[0m\u001b[1;33m.\u001b[0m\u001b[0mapply_series_generator\u001b[0m\u001b[1;33m(\u001b[0m\u001b[1;33m)\u001b[0m\u001b[1;33m\u001b[0m\u001b[0m\n\u001b[0m\u001b[0;32m    293\u001b[0m \u001b[1;33m\u001b[0m\u001b[0m\n\u001b[0;32m    294\u001b[0m         \u001b[1;31m# wrap results\u001b[0m\u001b[1;33m\u001b[0m\u001b[1;33m\u001b[0m\u001b[0m\n",
      "\u001b[1;32m~\\Anaconda3\\envs\\tensorflow\\lib\\site-packages\\pandas\\core\\apply.py\u001b[0m in \u001b[0;36mapply_series_generator\u001b[1;34m(self)\u001b[0m\n\u001b[0;32m    319\u001b[0m             \u001b[1;32mtry\u001b[0m\u001b[1;33m:\u001b[0m\u001b[1;33m\u001b[0m\u001b[0m\n\u001b[0;32m    320\u001b[0m                 \u001b[1;32mfor\u001b[0m \u001b[0mi\u001b[0m\u001b[1;33m,\u001b[0m \u001b[0mv\u001b[0m \u001b[1;32min\u001b[0m \u001b[0menumerate\u001b[0m\u001b[1;33m(\u001b[0m\u001b[0mseries_gen\u001b[0m\u001b[1;33m)\u001b[0m\u001b[1;33m:\u001b[0m\u001b[1;33m\u001b[0m\u001b[0m\n\u001b[1;32m--> 321\u001b[1;33m                     \u001b[0mresults\u001b[0m\u001b[1;33m[\u001b[0m\u001b[0mi\u001b[0m\u001b[1;33m]\u001b[0m \u001b[1;33m=\u001b[0m \u001b[0mself\u001b[0m\u001b[1;33m.\u001b[0m\u001b[0mf\u001b[0m\u001b[1;33m(\u001b[0m\u001b[0mv\u001b[0m\u001b[1;33m)\u001b[0m\u001b[1;33m\u001b[0m\u001b[0m\n\u001b[0m\u001b[0;32m    322\u001b[0m                     \u001b[0mkeys\u001b[0m\u001b[1;33m.\u001b[0m\u001b[0mappend\u001b[0m\u001b[1;33m(\u001b[0m\u001b[0mv\u001b[0m\u001b[1;33m.\u001b[0m\u001b[0mname\u001b[0m\u001b[1;33m)\u001b[0m\u001b[1;33m\u001b[0m\u001b[0m\n\u001b[0;32m    323\u001b[0m             \u001b[1;32mexcept\u001b[0m \u001b[0mException\u001b[0m \u001b[1;32mas\u001b[0m \u001b[0me\u001b[0m\u001b[1;33m:\u001b[0m\u001b[1;33m\u001b[0m\u001b[0m\n",
      "\u001b[1;32m<ipython-input-42-f6e26f1b5c07>\u001b[0m in \u001b[0;36m<lambda>\u001b[1;34m(x)\u001b[0m\n\u001b[1;32m----> 1\u001b[1;33m all_data['GEOGRAPHICAL_DISTANCE'] = all_data.apply(lambda x: haversine((x[\"PICKUP_LONGITUDE\"], x[\"PICKUP_LATITUDE\"]),\n\u001b[0m\u001b[0;32m      2\u001b[0m                                                     (x[\"DROPOFF_LONGITUDE\"], x[\"DROPOFF_LATITUDE\"])), axis=1)\n",
      "\u001b[1;31mNameError\u001b[0m: (\"name 'haversine' is not defined\", 'occurred at index 0')"
     ]
    }
   ],
   "source": [
    "all_data['GEOGRAPHICAL_DISTANCE'] = all_data.apply(lambda x: haversine((x[\"PICKUP_LONGITUDE\"], x[\"PICKUP_LATITUDE\"]),\n",
    "                                                    (x[\"DROPOFF_LONGITUDE\"], x[\"DROPOFF_LATITUDE\"])), axis=1)"
   ]
  },
  {
   "cell_type": "code",
   "execution_count": 43,
   "metadata": {},
   "outputs": [
    {
     "name": "stdout",
     "output_type": "stream",
     "text": [
      "<class 'pandas.core.frame.DataFrame'>\n",
      "Int64Index: 9601139 entries, 0 to 9830310\n",
      "Data columns (total 34 columns):\n",
      "Datetime                                   datetime64[ns]\n",
      "TRIP_DURATION                              int64\n",
      "TRIP_DISTANCE                              int64\n",
      "PICKUP_DATETIME                            datetime64[ns]\n",
      "pickup_station_id                          int64\n",
      "pickup_station_name                        object\n",
      "PICKUP_LONGITUDE                           float64\n",
      "PICKUP_LATITUDE                            float64\n",
      "PICKUP_DISTRICT                            object\n",
      "DROPOFF_DATETIME                           datetime64[ns]\n",
      "dropoff_station_id                         int64\n",
      "dropoff_station_name                       object\n",
      "DROPOFF_LONGITUDE                          float64\n",
      "DROPOFF_LATITUDE                           float64\n",
      "DROPOFF_DISTRICT                           object\n",
      "PICKUP_MONTH                               int64\n",
      "PICKUP_DAY                                 int64\n",
      "PICKUP_HOUR                                int64\n",
      "PICKUP_MINUTE                              int64\n",
      "PICKUP_WEEKDAY                             int64\n",
      "DROPOFF_MONTH                              int64\n",
      "DROPOFF_DAY                                int64\n",
      "DROPOFF_HOUR                               int64\n",
      "DROPOFF_MINUTE                             int64\n",
      "DROPOFF_WEEKDAY                            int64\n",
      "TEMPERATURE(°C)                            float64\n",
      "PRECIPITATION(mm)                          float64\n",
      "WINDSPEED(m/s)                             float64\n",
      "HUMIDITY(%)                                float64\n",
      "SOLAR RADIATION(MJ/m2)                     float64\n",
      "SNOW(cm)                                   float64\n",
      "GROUND TEMPERATURE (°C)                    float64\n",
      "1 Hour Average Dust Concentration (㎍/㎥)    float64\n",
      "GEOGRAPHICAL_DISTANCE                      float64\n",
      "dtypes: datetime64[ns](3), float64(13), int64(14), object(4)\n",
      "memory usage: 2.5+ GB\n"
     ]
    }
   ],
   "source": [
    "all_data.info()"
   ]
  },
  {
   "cell_type": "code",
   "execution_count": 44,
   "metadata": {},
   "outputs": [
    {
     "data": {
      "text/plain": [
       "Index(['Datetime', 'TRIP_DURATION', 'TRIP_DISTANCE', 'PICKUP_DATETIME',\n",
       "       'pickup_station_id', 'pickup_station_name', 'PICKUP_LONGITUDE',\n",
       "       'PICKUP_LATITUDE', 'PICKUP_DISTRICT', 'DROPOFF_DATETIME',\n",
       "       'dropoff_station_id', 'dropoff_station_name', 'DROPOFF_LONGITUDE',\n",
       "       'DROPOFF_LATITUDE', 'DROPOFF_DISTRICT', 'PICKUP_MONTH', 'PICKUP_DAY',\n",
       "       'PICKUP_HOUR', 'PICKUP_MINUTE', 'PICKUP_WEEKDAY', 'DROPOFF_MONTH',\n",
       "       'DROPOFF_DAY', 'DROPOFF_HOUR', 'DROPOFF_MINUTE', 'DROPOFF_WEEKDAY',\n",
       "       'TEMPERATURE(°C)', 'PRECIPITATION(mm)', 'WINDSPEED(m/s)', 'HUMIDITY(%)',\n",
       "       'SOLAR RADIATION(MJ/m2)', 'SNOW(cm)', 'GROUND TEMPERATURE (°C)',\n",
       "       '1 Hour Average Dust Concentration (㎍/㎥)', 'GEOGRAPHICAL_DISTANCE'],\n",
       "      dtype='object')"
      ]
     },
     "execution_count": 44,
     "metadata": {},
     "output_type": "execute_result"
    }
   ],
   "source": [
    "all_data.columns"
   ]
  },
  {
   "cell_type": "code",
   "execution_count": 45,
   "metadata": {},
   "outputs": [],
   "source": [
    "all_data=all_data[[\n",
    "                    'Datetime', \n",
    "                   'TRIP_DURATION', 'TRIP_DISTANCE', \n",
    "                   'PICKUP_DATETIME', 'PICKUP_LONGITUDE','PICKUP_LATITUDE', 'PICKUP_DISTRICT',\n",
    "                   'DROPOFF_DATETIME', 'DROPOFF_LONGITUDE','DROPOFF_LATITUDE', 'DROPOFF_DISTRICT', \n",
    "                   'GEOGRAPHICAL_DISTANCE', \n",
    "                   'PICKUP_MONTH', 'PICKUP_DAY','PICKUP_HOUR', 'PICKUP_MINUTE', 'PICKUP_WEEKDAY', \n",
    "                   'DROPOFF_MONTH','DROPOFF_DAY', 'DROPOFF_HOUR', 'DROPOFF_MINUTE', 'DROPOFF_WEEKDAY',\n",
    "      \n",
    "                   'TEMPERATURE(°C)', 'PRECIPITATION(mm)', 'WINDSPEED(m/s)', 'HUMIDITY(%)',\n",
    "                   'SOLAR RADIATION(MJ/m2)', 'SNOW(cm)', 'GROUND TEMPERATURE (°C)', '1 Hour Average Dust Concentration (㎍/㎥)'\n",
    "                  ]]"
   ]
  },
  {
   "cell_type": "code",
   "execution_count": 46,
   "metadata": {},
   "outputs": [
    {
     "data": {
      "text/plain": [
       "Index(['Datetime', 'TRIP_DURATION', 'TRIP_DISTANCE', 'PICKUP_DATETIME',\n",
       "       'PICKUP_LONGITUDE', 'PICKUP_LATITUDE', 'PICKUP_DISTRICT',\n",
       "       'DROPOFF_DATETIME', 'DROPOFF_LONGITUDE', 'DROPOFF_LATITUDE',\n",
       "       'DROPOFF_DISTRICT', 'GEOGRAPHICAL_DISTANCE', 'PICKUP_MONTH',\n",
       "       'PICKUP_DAY', 'PICKUP_HOUR', 'PICKUP_MINUTE', 'PICKUP_WEEKDAY',\n",
       "       'DROPOFF_MONTH', 'DROPOFF_DAY', 'DROPOFF_HOUR', 'DROPOFF_MINUTE',\n",
       "       'DROPOFF_WEEKDAY', 'TEMPERATURE(°C)', 'PRECIPITATION(mm)',\n",
       "       'WINDSPEED(m/s)', 'HUMIDITY(%)', 'SOLAR RADIATION(MJ/m2)', 'SNOW(cm)',\n",
       "       'GROUND TEMPERATURE (°C)', '1 Hour Average Dust Concentration (㎍/㎥)'],\n",
       "      dtype='object')"
      ]
     },
     "execution_count": 46,
     "metadata": {},
     "output_type": "execute_result"
    }
   ],
   "source": [
    "all_data.columns"
   ]
  },
  {
   "cell_type": "code",
   "execution_count": 47,
   "metadata": {},
   "outputs": [
    {
     "name": "stdout",
     "output_type": "stream",
     "text": [
      "<class 'pandas.core.frame.DataFrame'>\n",
      "Int64Index: 9601139 entries, 0 to 9830310\n",
      "Data columns (total 30 columns):\n",
      "Datetime                                   datetime64[ns]\n",
      "TRIP_DURATION                              int64\n",
      "TRIP_DISTANCE                              int64\n",
      "PICKUP_DATETIME                            datetime64[ns]\n",
      "PICKUP_LONGITUDE                           float64\n",
      "PICKUP_LATITUDE                            float64\n",
      "PICKUP_DISTRICT                            object\n",
      "DROPOFF_DATETIME                           datetime64[ns]\n",
      "DROPOFF_LONGITUDE                          float64\n",
      "DROPOFF_LATITUDE                           float64\n",
      "DROPOFF_DISTRICT                           object\n",
      "GEOGRAPHICAL_DISTANCE                      float64\n",
      "PICKUP_MONTH                               int64\n",
      "PICKUP_DAY                                 int64\n",
      "PICKUP_HOUR                                int64\n",
      "PICKUP_MINUTE                              int64\n",
      "PICKUP_WEEKDAY                             int64\n",
      "DROPOFF_MONTH                              int64\n",
      "DROPOFF_DAY                                int64\n",
      "DROPOFF_HOUR                               int64\n",
      "DROPOFF_MINUTE                             int64\n",
      "DROPOFF_WEEKDAY                            int64\n",
      "TEMPERATURE(°C)                            float64\n",
      "PRECIPITATION(mm)                          float64\n",
      "WINDSPEED(m/s)                             float64\n",
      "HUMIDITY(%)                                float64\n",
      "SOLAR RADIATION(MJ/m2)                     float64\n",
      "SNOW(cm)                                   float64\n",
      "GROUND TEMPERATURE (°C)                    float64\n",
      "1 Hour Average Dust Concentration (㎍/㎥)    float64\n",
      "dtypes: datetime64[ns](3), float64(13), int64(12), object(2)\n",
      "memory usage: 2.2+ GB\n"
     ]
    }
   ],
   "source": [
    "all_data.info()"
   ]
  },
  {
   "cell_type": "code",
   "execution_count": 48,
   "metadata": {},
   "outputs": [
    {
     "data": {
      "text/plain": [
       "(9601139, 30)"
      ]
     },
     "execution_count": 48,
     "metadata": {},
     "output_type": "execute_result"
    }
   ],
   "source": [
    "all_data.shape"
   ]
  },
  {
   "cell_type": "code",
   "execution_count": 49,
   "metadata": {},
   "outputs": [
    {
     "data": {
      "text/plain": [
       "9830306    23\n",
       "9830307    23\n",
       "9830308    22\n",
       "9830309    23\n",
       "9830310    23\n",
       "Name: PICKUP_HOUR, dtype: int64"
      ]
     },
     "execution_count": 49,
     "metadata": {},
     "output_type": "execute_result"
    }
   ],
   "source": [
    "all_data.PICKUP_HOUR.tail()"
   ]
  },
  {
   "cell_type": "code",
   "execution_count": 50,
   "metadata": {},
   "outputs": [],
   "source": [
    "all_data.to_csv(\"Preprocessed_sathish_bike_data.csv\")"
   ]
  },
  {
   "cell_type": "code",
   "execution_count": 43,
   "metadata": {},
   "outputs": [
    {
     "name": "stderr",
     "output_type": "stream",
     "text": [
      "C:\\Users\\Sathishkumar V E\\Anaconda3\\envs\\tensorflow\\lib\\site-packages\\numpy\\lib\\arraysetops.py:569: FutureWarning: elementwise comparison failed; returning scalar instead, but in the future will perform elementwise comparison\n",
      "  mask |= (ar1 == a)\n"
     ]
    }
   ],
   "source": [
    "bike_data = pd.read_csv(\"Preprocessed_sathish_bike_data.csv\",\n",
    "                      parse_dates=[\"Datetime\", \"PICKUP_DATETIME\",\"DROPOFF_DATETIME\"],\n",
    "                      index_col=0)"
   ]
  },
  {
   "cell_type": "code",
   "execution_count": 45,
   "metadata": {},
   "outputs": [
    {
     "data": {
      "text/html": [
       "<div>\n",
       "<style scoped>\n",
       "    .dataframe tbody tr th:only-of-type {\n",
       "        vertical-align: middle;\n",
       "    }\n",
       "\n",
       "    .dataframe tbody tr th {\n",
       "        vertical-align: top;\n",
       "    }\n",
       "\n",
       "    .dataframe thead th {\n",
       "        text-align: right;\n",
       "    }\n",
       "</style>\n",
       "<table border=\"1\" class=\"dataframe\">\n",
       "  <thead>\n",
       "    <tr style=\"text-align: right;\">\n",
       "      <th></th>\n",
       "      <th>TRIP_DURATION</th>\n",
       "      <th>TRIP_DISTANCE</th>\n",
       "      <th>PICKUP_LONGITUDE</th>\n",
       "      <th>PICKUP_LATITUDE</th>\n",
       "      <th>DROPOFF_LONGITUDE</th>\n",
       "      <th>DROPOFF_LATITUDE</th>\n",
       "      <th>GEOGRAPHICAL_DISTANCE</th>\n",
       "      <th>PICKUP_MONTH</th>\n",
       "      <th>PICKUP_DAY</th>\n",
       "      <th>PICKUP_HOUR</th>\n",
       "      <th>...</th>\n",
       "      <th>DROPOFF_MINUTE</th>\n",
       "      <th>DROPOFF_WEEKDAY</th>\n",
       "      <th>TEMPERATURE(°C)</th>\n",
       "      <th>PRECIPITATION(mm)</th>\n",
       "      <th>WINDSPEED(m/s)</th>\n",
       "      <th>HUMIDITY(%)</th>\n",
       "      <th>SOLAR RADIATION(MJ/m2)</th>\n",
       "      <th>SNOW(cm)</th>\n",
       "      <th>GROUND TEMPERATURE (°C)</th>\n",
       "      <th>1 Hour Average Dust Concentration (㎍/㎥)</th>\n",
       "    </tr>\n",
       "  </thead>\n",
       "  <tbody>\n",
       "    <tr>\n",
       "      <td>count</td>\n",
       "      <td>9.601139e+06</td>\n",
       "      <td>9.601139e+06</td>\n",
       "      <td>9.601139e+06</td>\n",
       "      <td>9.601139e+06</td>\n",
       "      <td>9.601139e+06</td>\n",
       "      <td>9.601139e+06</td>\n",
       "      <td>9.601139e+06</td>\n",
       "      <td>9.601139e+06</td>\n",
       "      <td>9.601139e+06</td>\n",
       "      <td>9.601139e+06</td>\n",
       "      <td>...</td>\n",
       "      <td>9.601139e+06</td>\n",
       "      <td>9.601139e+06</td>\n",
       "      <td>9.601139e+06</td>\n",
       "      <td>9.601139e+06</td>\n",
       "      <td>9.601139e+06</td>\n",
       "      <td>9.601139e+06</td>\n",
       "      <td>9.601139e+06</td>\n",
       "      <td>9.601139e+06</td>\n",
       "      <td>9.601139e+06</td>\n",
       "      <td>9.601139e+06</td>\n",
       "    </tr>\n",
       "    <tr>\n",
       "      <td>mean</td>\n",
       "      <td>2.580294e+01</td>\n",
       "      <td>3.713519e+03</td>\n",
       "      <td>3.754761e+01</td>\n",
       "      <td>1.269908e+02</td>\n",
       "      <td>3.754770e+01</td>\n",
       "      <td>1.269907e+02</td>\n",
       "      <td>1.870315e+00</td>\n",
       "      <td>7.578754e+00</td>\n",
       "      <td>1.576714e+01</td>\n",
       "      <td>1.437801e+01</td>\n",
       "      <td>...</td>\n",
       "      <td>2.999278e+01</td>\n",
       "      <td>2.945771e+00</td>\n",
       "      <td>1.856201e+01</td>\n",
       "      <td>1.784856e-02</td>\n",
       "      <td>1.819274e+00</td>\n",
       "      <td>5.397565e+01</td>\n",
       "      <td>7.300679e-01</td>\n",
       "      <td>9.948924e-03</td>\n",
       "      <td>2.072376e+01</td>\n",
       "      <td>3.245798e+01</td>\n",
       "    </tr>\n",
       "    <tr>\n",
       "      <td>std</td>\n",
       "      <td>2.504333e+01</td>\n",
       "      <td>3.956611e+03</td>\n",
       "      <td>4.441376e-02</td>\n",
       "      <td>8.257065e-02</td>\n",
       "      <td>4.445305e-02</td>\n",
       "      <td>8.323726e-02</td>\n",
       "      <td>1.995361e+00</td>\n",
       "      <td>2.696797e+00</td>\n",
       "      <td>8.748012e+00</td>\n",
       "      <td>6.249244e+00</td>\n",
       "      <td>...</td>\n",
       "      <td>1.730960e+01</td>\n",
       "      <td>1.977624e+00</td>\n",
       "      <td>9.498075e+00</td>\n",
       "      <td>3.736282e-01</td>\n",
       "      <td>9.710258e-01</td>\n",
       "      <td>1.742159e+01</td>\n",
       "      <td>9.175004e-01</td>\n",
       "      <td>1.628091e-01</td>\n",
       "      <td>1.265221e+01</td>\n",
       "      <td>2.407264e+01</td>\n",
       "    </tr>\n",
       "    <tr>\n",
       "      <td>min</td>\n",
       "      <td>1.000000e+00</td>\n",
       "      <td>1.000000e+00</td>\n",
       "      <td>3.743727e+01</td>\n",
       "      <td>1.267986e+02</td>\n",
       "      <td>3.743727e+01</td>\n",
       "      <td>1.267986e+02</td>\n",
       "      <td>0.000000e+00</td>\n",
       "      <td>1.000000e+00</td>\n",
       "      <td>1.000000e+00</td>\n",
       "      <td>0.000000e+00</td>\n",
       "      <td>...</td>\n",
       "      <td>0.000000e+00</td>\n",
       "      <td>0.000000e+00</td>\n",
       "      <td>-1.780000e+01</td>\n",
       "      <td>0.000000e+00</td>\n",
       "      <td>0.000000e+00</td>\n",
       "      <td>1.000000e+01</td>\n",
       "      <td>0.000000e+00</td>\n",
       "      <td>0.000000e+00</td>\n",
       "      <td>-1.360000e+01</td>\n",
       "      <td>0.000000e+00</td>\n",
       "    </tr>\n",
       "    <tr>\n",
       "      <td>25%</td>\n",
       "      <td>8.000000e+00</td>\n",
       "      <td>1.230000e+03</td>\n",
       "      <td>3.751424e+01</td>\n",
       "      <td>1.269200e+02</td>\n",
       "      <td>3.751424e+01</td>\n",
       "      <td>1.269194e+02</td>\n",
       "      <td>6.758669e-01</td>\n",
       "      <td>6.000000e+00</td>\n",
       "      <td>8.000000e+00</td>\n",
       "      <td>1.000000e+01</td>\n",
       "      <td>...</td>\n",
       "      <td>1.500000e+01</td>\n",
       "      <td>1.000000e+00</td>\n",
       "      <td>1.220000e+01</td>\n",
       "      <td>0.000000e+00</td>\n",
       "      <td>1.100000e+00</td>\n",
       "      <td>4.100000e+01</td>\n",
       "      <td>0.000000e+00</td>\n",
       "      <td>0.000000e+00</td>\n",
       "      <td>1.160000e+01</td>\n",
       "      <td>1.600000e+01</td>\n",
       "    </tr>\n",
       "    <tr>\n",
       "      <td>50%</td>\n",
       "      <td>1.600000e+01</td>\n",
       "      <td>2.280000e+03</td>\n",
       "      <td>3.754693e+01</td>\n",
       "      <td>1.269943e+02</td>\n",
       "      <td>3.754655e+01</td>\n",
       "      <td>1.269947e+02</td>\n",
       "      <td>1.257498e+00</td>\n",
       "      <td>8.000000e+00</td>\n",
       "      <td>1.600000e+01</td>\n",
       "      <td>1.600000e+01</td>\n",
       "      <td>...</td>\n",
       "      <td>3.000000e+01</td>\n",
       "      <td>3.000000e+00</td>\n",
       "      <td>2.010000e+01</td>\n",
       "      <td>0.000000e+00</td>\n",
       "      <td>1.700000e+00</td>\n",
       "      <td>5.300000e+01</td>\n",
       "      <td>2.700000e-01</td>\n",
       "      <td>0.000000e+00</td>\n",
       "      <td>2.110000e+01</td>\n",
       "      <td>2.700000e+01</td>\n",
       "    </tr>\n",
       "    <tr>\n",
       "      <td>75%</td>\n",
       "      <td>3.600000e+01</td>\n",
       "      <td>4.620000e+03</td>\n",
       "      <td>3.757324e+01</td>\n",
       "      <td>1.270618e+02</td>\n",
       "      <td>3.757324e+01</td>\n",
       "      <td>1.270624e+02</td>\n",
       "      <td>2.363812e+00</td>\n",
       "      <td>1.000000e+01</td>\n",
       "      <td>2.300000e+01</td>\n",
       "      <td>1.900000e+01</td>\n",
       "      <td>...</td>\n",
       "      <td>4.500000e+01</td>\n",
       "      <td>5.000000e+00</td>\n",
       "      <td>2.550000e+01</td>\n",
       "      <td>0.000000e+00</td>\n",
       "      <td>2.400000e+00</td>\n",
       "      <td>6.700000e+01</td>\n",
       "      <td>1.260000e+00</td>\n",
       "      <td>0.000000e+00</td>\n",
       "      <td>2.850000e+01</td>\n",
       "      <td>4.200000e+01</td>\n",
       "    </tr>\n",
       "    <tr>\n",
       "      <td>max</td>\n",
       "      <td>1.190000e+02</td>\n",
       "      <td>3.329000e+04</td>\n",
       "      <td>3.768972e+01</td>\n",
       "      <td>1.271803e+02</td>\n",
       "      <td>3.768972e+01</td>\n",
       "      <td>1.271803e+02</td>\n",
       "      <td>2.863448e+01</td>\n",
       "      <td>1.200000e+01</td>\n",
       "      <td>3.100000e+01</td>\n",
       "      <td>2.300000e+01</td>\n",
       "      <td>...</td>\n",
       "      <td>5.900000e+01</td>\n",
       "      <td>6.000000e+00</td>\n",
       "      <td>3.940000e+01</td>\n",
       "      <td>3.500000e+01</td>\n",
       "      <td>7.400000e+00</td>\n",
       "      <td>9.800000e+01</td>\n",
       "      <td>3.520000e+00</td>\n",
       "      <td>8.800000e+00</td>\n",
       "      <td>6.220000e+01</td>\n",
       "      <td>3.040000e+02</td>\n",
       "    </tr>\n",
       "  </tbody>\n",
       "</table>\n",
       "<p>8 rows × 25 columns</p>\n",
       "</div>"
      ],
      "text/plain": [
       "       TRIP_DURATION  TRIP_DISTANCE  PICKUP_LONGITUDE  PICKUP_LATITUDE  \\\n",
       "count   9.601139e+06   9.601139e+06      9.601139e+06     9.601139e+06   \n",
       "mean    2.580294e+01   3.713519e+03      3.754761e+01     1.269908e+02   \n",
       "std     2.504333e+01   3.956611e+03      4.441376e-02     8.257065e-02   \n",
       "min     1.000000e+00   1.000000e+00      3.743727e+01     1.267986e+02   \n",
       "25%     8.000000e+00   1.230000e+03      3.751424e+01     1.269200e+02   \n",
       "50%     1.600000e+01   2.280000e+03      3.754693e+01     1.269943e+02   \n",
       "75%     3.600000e+01   4.620000e+03      3.757324e+01     1.270618e+02   \n",
       "max     1.190000e+02   3.329000e+04      3.768972e+01     1.271803e+02   \n",
       "\n",
       "       DROPOFF_LONGITUDE  DROPOFF_LATITUDE  GEOGRAPHICAL_DISTANCE  \\\n",
       "count       9.601139e+06      9.601139e+06           9.601139e+06   \n",
       "mean        3.754770e+01      1.269907e+02           1.870315e+00   \n",
       "std         4.445305e-02      8.323726e-02           1.995361e+00   \n",
       "min         3.743727e+01      1.267986e+02           0.000000e+00   \n",
       "25%         3.751424e+01      1.269194e+02           6.758669e-01   \n",
       "50%         3.754655e+01      1.269947e+02           1.257498e+00   \n",
       "75%         3.757324e+01      1.270624e+02           2.363812e+00   \n",
       "max         3.768972e+01      1.271803e+02           2.863448e+01   \n",
       "\n",
       "       PICKUP_MONTH    PICKUP_DAY   PICKUP_HOUR  ...  DROPOFF_MINUTE  \\\n",
       "count  9.601139e+06  9.601139e+06  9.601139e+06  ...    9.601139e+06   \n",
       "mean   7.578754e+00  1.576714e+01  1.437801e+01  ...    2.999278e+01   \n",
       "std    2.696797e+00  8.748012e+00  6.249244e+00  ...    1.730960e+01   \n",
       "min    1.000000e+00  1.000000e+00  0.000000e+00  ...    0.000000e+00   \n",
       "25%    6.000000e+00  8.000000e+00  1.000000e+01  ...    1.500000e+01   \n",
       "50%    8.000000e+00  1.600000e+01  1.600000e+01  ...    3.000000e+01   \n",
       "75%    1.000000e+01  2.300000e+01  1.900000e+01  ...    4.500000e+01   \n",
       "max    1.200000e+01  3.100000e+01  2.300000e+01  ...    5.900000e+01   \n",
       "\n",
       "       DROPOFF_WEEKDAY  TEMPERATURE(°C)  PRECIPITATION(mm)  WINDSPEED(m/s)  \\\n",
       "count     9.601139e+06     9.601139e+06       9.601139e+06    9.601139e+06   \n",
       "mean      2.945771e+00     1.856201e+01       1.784856e-02    1.819274e+00   \n",
       "std       1.977624e+00     9.498075e+00       3.736282e-01    9.710258e-01   \n",
       "min       0.000000e+00    -1.780000e+01       0.000000e+00    0.000000e+00   \n",
       "25%       1.000000e+00     1.220000e+01       0.000000e+00    1.100000e+00   \n",
       "50%       3.000000e+00     2.010000e+01       0.000000e+00    1.700000e+00   \n",
       "75%       5.000000e+00     2.550000e+01       0.000000e+00    2.400000e+00   \n",
       "max       6.000000e+00     3.940000e+01       3.500000e+01    7.400000e+00   \n",
       "\n",
       "        HUMIDITY(%)  SOLAR RADIATION(MJ/m2)      SNOW(cm)  \\\n",
       "count  9.601139e+06            9.601139e+06  9.601139e+06   \n",
       "mean   5.397565e+01            7.300679e-01  9.948924e-03   \n",
       "std    1.742159e+01            9.175004e-01  1.628091e-01   \n",
       "min    1.000000e+01            0.000000e+00  0.000000e+00   \n",
       "25%    4.100000e+01            0.000000e+00  0.000000e+00   \n",
       "50%    5.300000e+01            2.700000e-01  0.000000e+00   \n",
       "75%    6.700000e+01            1.260000e+00  0.000000e+00   \n",
       "max    9.800000e+01            3.520000e+00  8.800000e+00   \n",
       "\n",
       "       GROUND TEMPERATURE (°C)  1 Hour Average Dust Concentration (㎍/㎥)  \n",
       "count             9.601139e+06                             9.601139e+06  \n",
       "mean              2.072376e+01                             3.245798e+01  \n",
       "std               1.265221e+01                             2.407264e+01  \n",
       "min              -1.360000e+01                             0.000000e+00  \n",
       "25%               1.160000e+01                             1.600000e+01  \n",
       "50%               2.110000e+01                             2.700000e+01  \n",
       "75%               2.850000e+01                             4.200000e+01  \n",
       "max               6.220000e+01                             3.040000e+02  \n",
       "\n",
       "[8 rows x 25 columns]"
      ]
     },
     "execution_count": 45,
     "metadata": {},
     "output_type": "execute_result"
    }
   ],
   "source": [
    "bike_data.describe()"
   ]
  },
  {
   "cell_type": "code",
   "execution_count": 58,
   "metadata": {},
   "outputs": [
    {
     "data": {
      "text/plain": [
       "(9601139, 30)"
      ]
     },
     "execution_count": 58,
     "metadata": {},
     "output_type": "execute_result"
    }
   ],
   "source": [
    "bike_data.shape"
   ]
  },
  {
   "cell_type": "code",
   "execution_count": 59,
   "metadata": {},
   "outputs": [
    {
     "name": "stdout",
     "output_type": "stream",
     "text": [
      "<class 'pandas.core.frame.DataFrame'>\n",
      "Int64Index: 9601139 entries, 0 to 9830310\n",
      "Data columns (total 30 columns):\n",
      "Datetime                                   datetime64[ns]\n",
      "TRIP_DURATION                              int64\n",
      "TRIP_DISTANCE                              int64\n",
      "PICKUP_DATETIME                            datetime64[ns]\n",
      "PICKUP_LONGITUDE                           float64\n",
      "PICKUP_LATITUDE                            float64\n",
      "PICKUP_DISTRICT                            object\n",
      "DROPOFF_DATETIME                           datetime64[ns]\n",
      "DROPOFF_LONGITUDE                          float64\n",
      "DROPOFF_LATITUDE                           float64\n",
      "DROPOFF_DISTRICT                           object\n",
      "GEOGRAPHICAL_DISTANCE                      float64\n",
      "PICKUP_MONTH                               int64\n",
      "PICKUP_DAY                                 int64\n",
      "PICKUP_HOUR                                int64\n",
      "PICKUP_MINUTE                              int64\n",
      "PICKUP_WEEKDAY                             int64\n",
      "DROPOFF_MONTH                              int64\n",
      "DROPOFF_DAY                                int64\n",
      "DROPOFF_HOUR                               int64\n",
      "DROPOFF_MINUTE                             int64\n",
      "DROPOFF_WEEKDAY                            int64\n",
      "TEMPERATURE(°C)                            float64\n",
      "PRECIPITATION(mm)                          float64\n",
      "WINDSPEED(m/s)                             float64\n",
      "HUMIDITY(%)                                float64\n",
      "SOLAR RADIATION(MJ/m2)                     float64\n",
      "SNOW(cm)                                   float64\n",
      "GROUND TEMPERATURE (°C)                    float64\n",
      "1 Hour Average Dust Concentration (㎍/㎥)    float64\n",
      "dtypes: datetime64[ns](3), float64(13), int64(12), object(2)\n",
      "memory usage: 2.2+ GB\n"
     ]
    }
   ],
   "source": [
    "bike_data.info()"
   ]
  },
  {
   "cell_type": "code",
   "execution_count": 60,
   "metadata": {},
   "outputs": [
    {
     "data": {
      "text/plain": [
       "Index(['Datetime', 'TRIP_DURATION', 'TRIP_DISTANCE', 'PICKUP_DATETIME',\n",
       "       'PICKUP_LONGITUDE', 'PICKUP_LATITUDE', 'PICKUP_DISTRICT',\n",
       "       'DROPOFF_DATETIME', 'DROPOFF_LONGITUDE', 'DROPOFF_LATITUDE',\n",
       "       'DROPOFF_DISTRICT', 'GEOGRAPHICAL_DISTANCE', 'PICKUP_MONTH',\n",
       "       'PICKUP_DAY', 'PICKUP_HOUR', 'PICKUP_MINUTE', 'PICKUP_WEEKDAY',\n",
       "       'DROPOFF_MONTH', 'DROPOFF_DAY', 'DROPOFF_HOUR', 'DROPOFF_MINUTE',\n",
       "       'DROPOFF_WEEKDAY', 'TEMPERATURE(°C)', 'PRECIPITATION(mm)',\n",
       "       'WINDSPEED(m/s)', 'HUMIDITY(%)', 'SOLAR RADIATION(MJ/m2)', 'SNOW(cm)',\n",
       "       'GROUND TEMPERATURE (°C)', '1 Hour Average Dust Concentration (㎍/㎥)'],\n",
       "      dtype='object')"
      ]
     },
     "execution_count": 60,
     "metadata": {},
     "output_type": "execute_result"
    }
   ],
   "source": [
    "bike_data.columns"
   ]
  },
  {
   "cell_type": "code",
   "execution_count": 61,
   "metadata": {},
   "outputs": [
    {
     "data": {
      "text/plain": [
       "Datetime                                   0\n",
       "TRIP_DURATION                              0\n",
       "TRIP_DISTANCE                              0\n",
       "PICKUP_DATETIME                            0\n",
       "PICKUP_LONGITUDE                           0\n",
       "PICKUP_LATITUDE                            0\n",
       "PICKUP_DISTRICT                            0\n",
       "DROPOFF_DATETIME                           0\n",
       "DROPOFF_LONGITUDE                          0\n",
       "DROPOFF_LATITUDE                           0\n",
       "DROPOFF_DISTRICT                           0\n",
       "GEOGRAPHICAL_DISTANCE                      0\n",
       "PICKUP_MONTH                               0\n",
       "PICKUP_DAY                                 0\n",
       "PICKUP_HOUR                                0\n",
       "PICKUP_MINUTE                              0\n",
       "PICKUP_WEEKDAY                             0\n",
       "DROPOFF_MONTH                              0\n",
       "DROPOFF_DAY                                0\n",
       "DROPOFF_HOUR                               0\n",
       "DROPOFF_MINUTE                             0\n",
       "DROPOFF_WEEKDAY                            0\n",
       "TEMPERATURE(°C)                            0\n",
       "PRECIPITATION(mm)                          0\n",
       "WINDSPEED(m/s)                             0\n",
       "HUMIDITY(%)                                0\n",
       "SOLAR RADIATION(MJ/m2)                     0\n",
       "SNOW(cm)                                   0\n",
       "GROUND TEMPERATURE (°C)                    0\n",
       "1 Hour Average Dust Concentration (㎍/㎥)    0\n",
       "dtype: int64"
      ]
     },
     "execution_count": 61,
     "metadata": {},
     "output_type": "execute_result"
    }
   ],
   "source": [
    "(bike_data.isna()).sum()"
   ]
  },
  {
   "cell_type": "code",
   "execution_count": 62,
   "metadata": {},
   "outputs": [
    {
     "data": {
      "text/plain": [
       "Index(['Datetime', 'TRIP_DURATION', 'TRIP_DISTANCE', 'PICKUP_DATETIME',\n",
       "       'PICKUP_LONGITUDE', 'PICKUP_LATITUDE', 'PICKUP_DISTRICT',\n",
       "       'DROPOFF_DATETIME', 'DROPOFF_LONGITUDE', 'DROPOFF_LATITUDE',\n",
       "       'DROPOFF_DISTRICT', 'GEOGRAPHICAL_DISTANCE', 'PICKUP_MONTH',\n",
       "       'PICKUP_DAY', 'PICKUP_HOUR', 'PICKUP_MINUTE', 'PICKUP_WEEKDAY',\n",
       "       'DROPOFF_MONTH', 'DROPOFF_DAY', 'DROPOFF_HOUR', 'DROPOFF_MINUTE',\n",
       "       'DROPOFF_WEEKDAY', 'TEMPERATURE(°C)', 'PRECIPITATION(mm)',\n",
       "       'WINDSPEED(m/s)', 'HUMIDITY(%)', 'SOLAR RADIATION(MJ/m2)', 'SNOW(cm)',\n",
       "       'GROUND TEMPERATURE (°C)', '1 Hour Average Dust Concentration (㎍/㎥)'],\n",
       "      dtype='object')"
      ]
     },
     "execution_count": 62,
     "metadata": {},
     "output_type": "execute_result"
    }
   ],
   "source": [
    "bike_data.columns"
   ]
  },
  {
   "cell_type": "code",
   "execution_count": 63,
   "metadata": {},
   "outputs": [],
   "source": [
    "bike_data.columns=['Datetime', 'Duration', 'Distance', 'Ptstamp',\n",
    "       'PLong', 'PLatd', 'PDist',\n",
    "                   \n",
    "       'Dtstamp', 'DLong', 'DLatd',\n",
    "                   \n",
    "       'DDist', \n",
    "        \n",
    "        'Haversine', \n",
    "        'Pmonth','Pday', 'Phour', 'Pmin', 'PDweek',\n",
    "                   \n",
    "       'Dmonth', 'Dday', 'Dhour', 'Dmin', 'DDweek', \n",
    "        \n",
    "        'Temp', 'Precip','Wind', 'Humid', 'Solar', 'Snow',\n",
    "       'GroundTemp', 'Dust']"
   ]
  },
  {
   "cell_type": "code",
   "execution_count": 64,
   "metadata": {},
   "outputs": [
    {
     "data": {
      "text/plain": [
       "Index(['Datetime', 'Duration', 'Distance', 'Ptstamp', 'PLong', 'PLatd',\n",
       "       'PDist', 'Dtstamp', 'DLong', 'DLatd', 'DDist', 'Haversine', 'Pmonth',\n",
       "       'Pday', 'Phour', 'Pmin', 'PDweek', 'Dmonth', 'Dday', 'Dhour', 'Dmin',\n",
       "       'DDweek', 'Temp', 'Precip', 'Wind', 'Humid', 'Solar', 'Snow',\n",
       "       'GroundTemp', 'Dust'],\n",
       "      dtype='object')"
      ]
     },
     "execution_count": 64,
     "metadata": {},
     "output_type": "execute_result"
    }
   ],
   "source": [
    "bike_data.columns"
   ]
  },
  {
   "cell_type": "code",
   "execution_count": 65,
   "metadata": {},
   "outputs": [],
   "source": [
    "bike_data=bike_data[['Duration', 'Distance', \n",
    "                     'PLong', 'PLatd',\n",
    "                     'DLong', 'DLatd', \n",
    "                     \n",
    "                    'Haversine', \n",
    "                     \n",
    "                     'Pmonth','Pday', 'Phour', 'Pmin', 'PDweek', \n",
    "                     'Dmonth', 'Dday', 'Dhour', 'Dmin','DDweek', \n",
    "                     \n",
    "                     'Temp', 'Precip', 'Wind', 'Humid', 'Solar', 'Snow', 'GroundTemp', 'Dust']]"
   ]
  },
  {
   "cell_type": "code",
   "execution_count": 66,
   "metadata": {},
   "outputs": [],
   "source": [
    "bike_data.to_csv(\"For_modeling.csv\")"
   ]
  },
  {
   "cell_type": "code",
   "execution_count": 68,
   "metadata": {},
   "outputs": [],
   "source": [
    "data = pd.read_csv(\"For_modeling.csv\",\n",
    "                      index_col=0)"
   ]
  },
  {
   "cell_type": "code",
   "execution_count": 72,
   "metadata": {},
   "outputs": [
    {
     "data": {
      "text/plain": [
       "<matplotlib.axes._subplots.AxesSubplot at 0x241a3eb3da0>"
      ]
     },
     "execution_count": 72,
     "metadata": {},
     "output_type": "execute_result"
    },
    {
     "data": {
      "image/png": "[encoded data removed]",
      "text/plain": [
       "<Figure size 2880x1440 with 2 Axes>"
      ]
     },
     "metadata": {
      "needs_background": "light"
     },
     "output_type": "display_data"
    }
   ],
   "source": [
    "import seaborn as sn\n",
    "corrMatt = data[['Duration', 'Distance', \n",
    "                     'PLong', 'PLatd',\n",
    "                     'DLong', 'DLatd', \n",
    "                     \n",
    "                    'Haversine', \n",
    "\n",
    "                     \n",
    "                     'Temp', 'Precip', 'Wind', 'Humid', 'Solar', 'Snow', 'GroundTemp', 'Dust']].corr()\n",
    "mask = np.array(corrMatt)\n",
    "mask[np.tril_indices_from(mask)] = False\n",
    "fig,ax= plt.subplots()\n",
    "fig.set_size_inches(40,20)\n",
    "sn.heatmap(corrMatt, mask=mask,vmax=.8, square=True,annot=True)"
   ]
  },
  {
   "cell_type": "code",
   "execution_count": 73,
   "metadata": {},
   "outputs": [
    {
     "data": {
      "text/plain": [
       "<matplotlib.axes._subplots.AxesSubplot at 0x24273ef4668>"
      ]
     },
     "execution_count": 73,
     "metadata": {},
     "output_type": "execute_result"
    },
    {
     "data": {
      "image/png": "[encoded data removed]",
      "text/plain": [
       "<Figure size 2880x1440 with 2 Axes>"
      ]
     },
     "metadata": {
      "needs_background": "light"
     },
     "output_type": "display_data"
    }
   ],
   "source": [
    "import seaborn as sn\n",
    "corrMatt = data[['Duration', 'Distance', \n",
    "                 \n",
    "                     'PLong', 'PLatd', \n",
    "                     \n",
    "                    'Haversine', \n",
    "                 \n",
    "                 'Pmonth','Pday', 'Phour', 'Pmin', 'PDweek', \n",
    "\n",
    "                     \n",
    "                     'Temp', 'Precip', 'Wind', 'Humid', 'Solar', 'Snow', 'Dust']].corr()\n",
    "mask = np.array(corrMatt)\n",
    "mask[np.tril_indices_from(mask)] = False\n",
    "fig,ax= plt.subplots()\n",
    "fig.set_size_inches(40,20)\n",
    "sn.heatmap(corrMatt, mask=mask,vmax=.8, square=True,annot=True)"
   ]
  },
  {
   "cell_type": "code",
   "execution_count": 74,
   "metadata": {},
   "outputs": [
    {
     "data": {
      "image/png": "[encoded data removed]",
      "text/plain": [
       "<Figure size 1152x720 with 1 Axes>"
      ]
     },
     "metadata": {
      "needs_background": "light"
     },
     "output_type": "display_data"
    }
   ],
   "source": [
    "dep_var = \"Distance\"\n",
    "y = data[dep_var] # log(km)\n",
    "X = data\n",
    "\n",
    "import scipy\n",
    "from scipy.cluster import hierarchy as hc\n",
    "\n",
    "corr = np.round(scipy.stats.spearmanr(X).correlation, 4)\n",
    "corr_condensed = hc.distance.squareform(1-corr)\n",
    "z = hc.linkage(corr_condensed, method='average')\n",
    "fig = plt.figure(figsize=(16,10))\n",
    "dendrogram = hc.dendrogram(z, labels=X.columns, orientation='left', leaf_font_size=16)\n",
    "plt.show()"
   ]
  },
  {
   "cell_type": "code",
   "execution_count": 75,
   "metadata": {},
   "outputs": [
    {
     "data": {
      "text/plain": [
       "Index(['Duration', 'Distance', 'PLong', 'PLatd', 'DLong', 'DLatd', 'Haversine',\n",
       "       'Pmonth', 'Pday', 'Phour', 'Pmin', 'PDweek', 'Dmonth', 'Dday', 'Dhour',\n",
       "       'Dmin', 'DDweek', 'Temp', 'Precip', 'Wind', 'Humid', 'Solar', 'Snow',\n",
       "       'GroundTemp', 'Dust'],\n",
       "      dtype='object')"
      ]
     },
     "execution_count": 75,
     "metadata": {},
     "output_type": "execute_result"
    }
   ],
   "source": [
    "data.columns"
   ]
  },
  {
   "cell_type": "code",
   "execution_count": null,
   "metadata": {},
   "outputs": [],
   "source": []
  }
 ],
 "metadata": {
  "kernelspec": {
   "display_name": "Python 3",
   "language": "python",
   "name": "python3"
  },
  "language_info": {
   "codemirror_mode": {
    "name": "ipython",
    "version": 3
   },
   "file_extension": ".py",
   "mimetype": "text/x-python",
   "name": "python",
   "nbconvert_exporter": "python",
   "pygments_lexer": "ipython3",
   "version": "3.6.3"
  }
 },
 "nbformat": 4,
 "nbformat_minor": 2
}
