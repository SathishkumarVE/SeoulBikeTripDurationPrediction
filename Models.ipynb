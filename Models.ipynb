{
 "cells": [
  {
   "cell_type": "code",
   "execution_count": 1,
   "metadata": {},
   "outputs": [
    {
     "ename": "ModuleNotFoundError",
     "evalue": "No module named 'dataclasses'",
     "output_type": "error",
     "traceback": [
      "\u001b[1;31m---------------------------------------------------------------------------\u001b[0m",
      "\u001b[1;31mModuleNotFoundError\u001b[0m                       Traceback (most recent call last)",
      "\u001b[1;32m<ipython-input-1-bb010d72d217>\u001b[0m in \u001b[0;36m<module>\u001b[1;34m\u001b[0m\n\u001b[0;32m     18\u001b[0m \u001b[1;32mfrom\u001b[0m \u001b[0mconcurrent\u001b[0m\u001b[1;33m.\u001b[0m\u001b[0mfutures\u001b[0m \u001b[1;32mimport\u001b[0m \u001b[0mProcessPoolExecutor\u001b[0m\u001b[1;33m,\u001b[0m \u001b[0mThreadPoolExecutor\u001b[0m\u001b[1;33m\u001b[0m\u001b[0m\n\u001b[0;32m     19\u001b[0m \u001b[1;32mfrom\u001b[0m \u001b[0mcopy\u001b[0m \u001b[1;32mimport\u001b[0m \u001b[0mcopy\u001b[0m\u001b[1;33m,\u001b[0m \u001b[0mdeepcopy\u001b[0m\u001b[1;33m\u001b[0m\u001b[0m\n\u001b[1;32m---> 20\u001b[1;33m \u001b[1;32mfrom\u001b[0m \u001b[0mdataclasses\u001b[0m \u001b[1;32mimport\u001b[0m \u001b[0mdataclass\u001b[0m\u001b[1;33m,\u001b[0m \u001b[0mfield\u001b[0m\u001b[1;33m,\u001b[0m \u001b[0mInitVar\u001b[0m\u001b[1;33m\u001b[0m\u001b[0m\n\u001b[0m\u001b[0;32m     21\u001b[0m \u001b[1;32mfrom\u001b[0m \u001b[0menum\u001b[0m \u001b[1;32mimport\u001b[0m \u001b[0mEnum\u001b[0m\u001b[1;33m,\u001b[0m \u001b[0mIntEnum\u001b[0m\u001b[1;33m\u001b[0m\u001b[0m\n\u001b[0;32m     22\u001b[0m \u001b[1;32mfrom\u001b[0m \u001b[0mfunctools\u001b[0m \u001b[1;32mimport\u001b[0m \u001b[0mpartial\u001b[0m\u001b[1;33m,\u001b[0m \u001b[0mreduce\u001b[0m\u001b[1;33m\u001b[0m\u001b[0m\n",
      "\u001b[1;31mModuleNotFoundError\u001b[0m: No module named 'dataclasses'"
     ]
    }
   ],
   "source": [
    "import pandas as pd\n",
    "\"\"\"torch\"\"\"\n",
    "\n",
    "from sklearn.ensemble import RandomForestRegressor, RandomForestClassifier\n",
    "from IPython.display import display\n",
    "from sklearn import metrics\n",
    "\"\"\"core\"\"\"\n",
    "import csv, gc, gzip, os, pickle, shutil, sys, warnings, yaml, io, subprocess\n",
    "import math, matplotlib.pyplot as plt, numpy as np, pandas as pd, random\n",
    "import scipy.stats, scipy.special\n",
    "import abc, collections, hashlib, itertools, json, operator, pathlib\n",
    "import mimetypes, inspect, typing, functools, importlib, weakref\n",
    "import html, re, requests, tarfile, numbers, tempfile\n",
    "\n",
    "from abc import abstractmethod, abstractproperty\n",
    "from collections import abc,  Counter, defaultdict, Iterable, namedtuple, OrderedDict\n",
    "import concurrent\n",
    "from concurrent.futures import ProcessPoolExecutor, ThreadPoolExecutor\n",
    "from copy import copy, deepcopy\n",
    "from dataclasses import dataclass, field, InitVar\n",
    "from enum import Enum, IntEnum\n",
    "from functools import partial, reduce\n",
    "from pdb import set_trace\n",
    "from matplotlib import patches, patheffects\n",
    "from numpy import array, cos, exp, log, sin, tan, tanh\n",
    "from operator import attrgetter, itemgetter\n",
    "from pathlib import Path\n",
    "from warnings import warn\n",
    "from contextlib import contextmanager\n",
    "from fastprogress.fastprogress import MasterBar, ProgressBar\n",
    "from matplotlib.patches import Patch\n",
    "from pandas import Series, DataFrame\n",
    "from io import BufferedWriter, BytesIO\n",
    "\n",
    "import pkg_resources\n",
    "pkg_resources.require(\"fastprogress>=0.1.19\")\n",
    "from fastprogress.fastprogress import master_bar, progress_bar\n",
    "\n",
    "#for type annotations\n",
    "from numbers import Number\n",
    "from typing import Any, AnyStr, Callable, Collection, Dict, Hashable, Iterator, List, Mapping, NewType, Optional\n",
    "from typing import Sequence, Tuple, TypeVar, Union\n",
    "from types import SimpleNamespace\n",
    "\n",
    "def try_import(module):\n",
    "    \"Try to import `module`. Returns module's object on success, None on failure\"\n",
    "    try: return importlib.import_module(module)\n",
    "    except: return None\n",
    "\n",
    "def have_min_pkg_version(package, version):\n",
    "    \"Check whether we have at least `version` of `package`. Returns True on success, False otherwise.\"\n",
    "    try:\n",
    "        pkg_resources.require(f\"{package}>={version}\")\n",
    "        return True\n",
    "    except:\n",
    "        return False\n",
    "    \n",
    "    \n",
    "\"\"\"Structured\"\"\"\n",
    "\n",
    "\n",
    "from sklearn.preprocessing import LabelEncoder, Imputer, StandardScaler\n",
    "from pandas.api.types import is_string_dtype, is_numeric_dtype, is_categorical_dtype\n",
    "from sklearn.ensemble import forest\n",
    "from sklearn.tree import export_graphviz\n",
    "\n",
    "def set_plot_sizes(sml, med, big):\n",
    "    plt.rc('font', size=sml)          # controls default text sizes\n",
    "    plt.rc('axes', titlesize=sml)     # fontsize of the axes title\n",
    "    plt.rc('axes', labelsize=med)    # fontsize of the x and y labels\n",
    "    plt.rc('xtick', labelsize=sml)    # fontsize of the tick labels\n",
    "    plt.rc('ytick', labelsize=sml)    # fontsize of the tick labels\n",
    "    plt.rc('legend', fontsize=sml)    # legend fontsize\n",
    "    plt.rc('figure', titlesize=big)  # fontsize of the figure title\n",
    "\n",
    "def parallel_trees(m, fn, n_jobs=8):\n",
    "        return list(ProcessPoolExecutor(n_jobs).map(fn, m.estimators_))\n",
    "\n",
    "def draw_tree(t, df, size=10, ratio=0.6, precision=0):\n",
    "    s=export_graphviz(t, out_file=None, feature_names=df.columns, filled=True,\n",
    "                      special_characters=True, rotate=True, precision=precision)\n",
    "    \n",
    "    \n",
    "    IPython.display.display(graphviz.Source(re.sub('Tree {',\n",
    "       f'Tree {{ size={size}; ratio={ratio}', s)))\n",
    "\n",
    "def combine_date(years, months=1, days=1, weeks=None, hours=None, minutes=None,\n",
    "              seconds=None, milliseconds=None, microseconds=None, nanoseconds=None):\n",
    "    years = np.asarray(years) - 1970\n",
    "    months = np.asarray(months) - 1\n",
    "    days = np.asarray(days) - 1\n",
    "    types = ('<M8[Y]', '<m8[M]', '<m8[D]', '<m8[W]', '<m8[h]',\n",
    "             '<m8[m]', '<m8[s]', '<m8[ms]', '<m8[us]', '<m8[ns]')\n",
    "    vals = (years, months, days, weeks, hours, minutes, seconds,\n",
    "            milliseconds, microseconds, nanoseconds)\n",
    "    return sum(np.asarray(v, dtype=t) for t, v in zip(types, vals)\n",
    "               if v is not None)\n",
    "\n",
    "def get_sample(df,n):\n",
    "    \n",
    "    idxs = sorted(np.random.permutation(len(df))[:n])\n",
    "    return df.iloc[idxs].copy()\n",
    "\n",
    "def add_datepart(df, fldname, drop=True, time=False, errors=\"raise\"):\t\n",
    "    fld = df[fldname]\n",
    "    fld_dtype = fld.dtype\n",
    "    if isinstance(fld_dtype, pd.core.dtypes.dtypes.DatetimeTZDtype):\n",
    "        fld_dtype = np.datetime64\n",
    "\n",
    "    if not np.issubdtype(fld_dtype, np.datetime64):\n",
    "        df[fldname] = fld = pd.to_datetime(fld, infer_datetime_format=True, errors=errors)\n",
    "    targ_pre = re.sub('[Dd]ate$', '', fldname)\n",
    "    attr = ['Year', 'Month', 'Week', 'Day', 'Dayofweek', 'Dayofyear',\n",
    "            'Is_month_end', 'Is_month_start', 'Is_quarter_end', 'Is_quarter_start', 'Is_year_end', 'Is_year_start']\n",
    "    if time: attr = attr + ['Hour', 'Minute', 'Second']\n",
    "    for n in attr: df[targ_pre + n] = getattr(fld.dt, n.lower())\n",
    "    df[targ_pre + 'Elapsed'] = fld.astype(np.int64) // 10 ** 9\n",
    "    if drop: df.drop(fldname, axis=1, inplace=True)\n",
    "\n",
    "def is_date(x): return np.issubdtype(x.dtype, np.datetime64)\n",
    "\n",
    "def train_cats(df):\n",
    "    for n,c in df.items():\n",
    "        if is_string_dtype(c): df[n] = c.astype('category').cat.as_ordered()\n",
    "\n",
    "def apply_cats(df, trn):\n",
    "\n",
    "    for n,c in df.items():\n",
    "        if (n in trn.columns) and (trn[n].dtype.name=='category'):\n",
    "            df[n] = c.astype('category').cat.as_ordered()\n",
    "            df[n].cat.set_categories(trn[n].cat.categories, ordered=True, inplace=True)\n",
    "\n",
    "def fix_missing(df, col, name, na_dict):\n",
    "    if is_numeric_dtype(col):\n",
    "        if pd.isnull(col).sum() or (name in na_dict):\n",
    "            df[name+'_na'] = pd.isnull(col)\n",
    "            filler = na_dict[name] if name in na_dict else col.median()\n",
    "            df[name] = col.fillna(filler)\n",
    "            na_dict[name] = filler\n",
    "    return na_dict\n",
    "\n",
    "def numericalize(df, col, name, max_n_cat):\n",
    "    if not is_numeric_dtype(col) and ( max_n_cat is None or len(col.cat.categories)>max_n_cat):\n",
    "        df[name] = pd.Categorical(col).codes+1\n",
    "\n",
    "def scale_vars(df, mapper):\n",
    "    warnings.filterwarnings('ignore', category=sklearn.exceptions.DataConversionWarning)\n",
    "    if mapper is None:\n",
    "        map_f = [([n],StandardScaler()) for n in df.columns if is_numeric_dtype(df[n])]\n",
    "        mapper = DataFrameMapper(map_f).fit(df)\n",
    "    df[mapper.transformed_names_] = mapper.transform(df)\n",
    "    return mapper\n",
    "\n",
    "def proc_df(df, y_fld=None, skip_flds=None, ignore_flds=None, do_scale=False, na_dict=None,\n",
    "            preproc_fn=None, max_n_cat=None, subset=None, mapper=None):\n",
    "    \n",
    "    if not ignore_flds: ignore_flds=[]\n",
    "    if not skip_flds: skip_flds=[]\n",
    "    if subset: df = get_sample(df,subset)\n",
    "    else: df = df.copy()\n",
    "    ignored_flds = df.loc[:, ignore_flds]\n",
    "    df.drop(ignore_flds, axis=1, inplace=True)\n",
    "    if preproc_fn: preproc_fn(df)\n",
    "    if y_fld is None: y = None\n",
    "    else:\n",
    "        if not is_numeric_dtype(df[y_fld]): df[y_fld] = pd.Categorical(df[y_fld]).codes\n",
    "        y = df[y_fld].values\n",
    "        skip_flds += [y_fld]\n",
    "    df.drop(skip_flds, axis=1, inplace=True)\n",
    "\n",
    "    if na_dict is None: na_dict = {}\n",
    "    else: na_dict = na_dict.copy()\n",
    "    na_dict_initial = na_dict.copy()\n",
    "    for n,c in df.items(): na_dict = fix_missing(df, c, n, na_dict)\n",
    "    if len(na_dict_initial.keys()) > 0:\n",
    "        df.drop([a + '_na' for a in list(set(na_dict.keys()) - set(na_dict_initial.keys()))], axis=1, inplace=True)\n",
    "    if do_scale: mapper = scale_vars(df, mapper)\n",
    "    for n,c in df.items(): numericalize(df, c, n, max_n_cat)\n",
    "    df = pd.get_dummies(df, dummy_na=True)\n",
    "    df = pd.concat([ignored_flds, df], axis=1)\n",
    "    res = [df, y, na_dict]\n",
    "    if do_scale: res = res + [mapper]\n",
    "    return res\n",
    "\n",
    "def rf_feat_importance(m, df):\n",
    "    return pd.DataFrame({'cols':df.columns, 'imp':m.feature_importances_}\n",
    "                       ).sort_values('imp', ascending=False)\n",
    "\n",
    "def set_rf_samples(n):\n",
    "    forest._generate_sample_indices = (lambda rs, n_samples:\n",
    "        forest.check_random_state(rs).randint(0, n_samples, n))\n",
    "\n",
    "def reset_rf_samples():\n",
    "    forest._generate_sample_indices = (lambda rs, n_samples:\n",
    "        forest.check_random_state(rs).randint(0, n_samples, n_samples))\n",
    "\n",
    "def get_nn_mappers(df, cat_vars, contin_vars):\n",
    "   \n",
    "    for v in contin_vars: df[v] = df[v].fillna(df[v].max()+100,)\n",
    "    for v in cat_vars: df[v].fillna('#NA#', inplace=True)\n",
    "\n",
    "    cat_maps = [(o, LabelEncoder()) for o in cat_vars]\n",
    "    contin_maps = [([o], StandardScaler()) for o in contin_vars]"
   ]
  },
  {
   "cell_type": "code",
   "execution_count": 2,
   "metadata": {},
   "outputs": [
    {
     "name": "stderr",
     "output_type": "stream",
     "text": [
      "C:\\Users\\Sathishkumar V E\\Anaconda3\\envs\\tensorflow\\lib\\site-packages\\numpy\\lib\\arraysetops.py:569: FutureWarning: elementwise comparison failed; returning scalar instead, but in the future will perform elementwise comparison\n",
      "  mask |= (ar1 == a)\n"
     ]
    }
   ],
   "source": [
    "full_data = pd.read_csv(\"For_modeling.csv\",\n",
    "                      index_col=0)"
   ]
  },
  {
   "cell_type": "code",
   "execution_count": 3,
   "metadata": {},
   "outputs": [
    {
     "data": {
      "text/plain": [
       "Index(['Duration', 'Distance', 'PLong', 'PLatd', 'DLong', 'DLatd', 'Haversine',\n",
       "       'Pmonth', 'Pday', 'Phour', 'Pmin', 'PDweek', 'Dmonth', 'Dday', 'Dhour',\n",
       "       'Dmin', 'DDweek', 'Temp', 'Precip', 'Wind', 'Humid', 'Solar', 'Snow',\n",
       "       'GroundTemp', 'Dust'],\n",
       "      dtype='object')"
      ]
     },
     "execution_count": 3,
     "metadata": {},
     "output_type": "execute_result"
    }
   ],
   "source": [
    "full_data.columns"
   ]
  },
  {
   "cell_type": "code",
   "execution_count": 17,
   "metadata": {},
   "outputs": [],
   "source": [
    "cor=full_data[['Duration', 'Distance', 'PLong', 'PLatd', 'DLong', 'DLatd', 'Haversine',\n",
    "       'Temp', 'Precip', 'Wind', 'Humid', 'Solar', 'Snow', 'GroundTemp', 'Dust']]"
   ]
  },
  {
   "cell_type": "code",
   "execution_count": 18,
   "metadata": {},
   "outputs": [],
   "source": [
    "# Read packages into Python library\n",
    "import pandas as pd\n",
    "import numpy as np"
   ]
  },
  {
   "cell_type": "code",
   "execution_count": 19,
   "metadata": {},
   "outputs": [
    {
     "name": "stdout",
     "output_type": "stream",
     "text": [
      "            Duration  Distance     PLong     PLatd     DLong     DLatd  \\\n",
      "Duration    1.000000  0.739233 -0.049251 -0.003411 -0.043889 -0.003776   \n",
      "Distance    0.739233  1.000000 -0.050252 -0.013090 -0.042184 -0.012521   \n",
      "PLong      -0.049251 -0.050252  1.000000  0.127341  0.929560  0.128974   \n",
      "PLatd      -0.003411 -0.013090  0.127341  1.000000  0.130734  0.962225   \n",
      "DLong      -0.043889 -0.042184  0.929560  0.130734  1.000000  0.130640   \n",
      "DLatd      -0.003776 -0.012521  0.128974  0.962225  0.130640  1.000000   \n",
      "Haversine   0.352915  0.579833 -0.036078  0.009455 -0.024832  0.010437   \n",
      "Temp        0.128204  0.097193 -0.004360  0.002749 -0.001338  0.003744   \n",
      "Precip     -0.009453 -0.008845 -0.001140 -0.003976 -0.001546 -0.003889   \n",
      "Wind        0.072325  0.031359 -0.003288 -0.004997 -0.001217 -0.002734   \n",
      "Humid      -0.096916 -0.034934  0.003820 -0.000987  0.003300 -0.002828   \n",
      "Solar       0.072224 -0.003397  0.007705 -0.004832  0.002738 -0.004408   \n",
      "Snow       -0.016298 -0.015968 -0.003165 -0.004389 -0.003395 -0.004436   \n",
      "GroundTemp  0.120210  0.067324  0.000430  0.000043  0.000671  0.000933   \n",
      "Dust       -0.021431 -0.035999  0.004963 -0.002627  0.004001 -0.002122   \n",
      "\n",
      "            Haversine      Temp    Precip      Wind     Humid     Solar  \\\n",
      "Duration     0.352915  0.128204 -0.009453  0.072325 -0.096916  0.072224   \n",
      "Distance     0.579833  0.097193 -0.008845  0.031359 -0.034934 -0.003397   \n",
      "PLong       -0.036078 -0.004360 -0.001140 -0.003288  0.003820  0.007705   \n",
      "PLatd        0.009455  0.002749 -0.003976 -0.004997 -0.000987 -0.004832   \n",
      "DLong       -0.024832 -0.001338 -0.001546 -0.001217  0.003300  0.002738   \n",
      "DLatd        0.010437  0.003744 -0.003889 -0.002734 -0.002828 -0.004408   \n",
      "Haversine    1.000000  0.026427 -0.005499  0.001807  0.006978 -0.039256   \n",
      "Temp         0.026427  1.000000  0.011275  0.083037  0.079406  0.283598   \n",
      "Precip      -0.005499  0.011275  1.000000 -0.013413  0.102879 -0.030146   \n",
      "Wind         0.001807  0.083037 -0.013413  1.000000 -0.324353  0.332106   \n",
      "Humid        0.006978  0.079406  0.102879 -0.324353  1.000000 -0.491201   \n",
      "Solar       -0.039256  0.283598 -0.030146  0.332106 -0.491201  1.000000   \n",
      "Snow        -0.010264 -0.116919  0.011267 -0.010702  0.060919 -0.025255   \n",
      "GroundTemp   0.001582  0.902920  0.002981  0.194507 -0.106779  0.614643   \n",
      "Dust        -0.017494 -0.227242 -0.028341  0.115833 -0.194931  0.202873   \n",
      "\n",
      "                Snow  GroundTemp      Dust  \n",
      "Duration   -0.016298    0.120210 -0.021431  \n",
      "Distance   -0.015968    0.067324 -0.035999  \n",
      "PLong      -0.003165    0.000430  0.004963  \n",
      "PLatd      -0.004389    0.000043 -0.002627  \n",
      "DLong      -0.003395    0.000671  0.004001  \n",
      "DLatd      -0.004436    0.000933 -0.002122  \n",
      "Haversine  -0.010264    0.001582 -0.017494  \n",
      "Temp       -0.116919    0.902920 -0.227242  \n",
      "Precip      0.011267    0.002981 -0.028341  \n",
      "Wind       -0.010702    0.194507  0.115833  \n",
      "Humid       0.060919   -0.106779 -0.194931  \n",
      "Solar      -0.025255    0.614643  0.202873  \n",
      "Snow        1.000000   -0.098555  0.007930  \n",
      "GroundTemp -0.098555    1.000000 -0.116394  \n",
      "Dust        0.007930   -0.116394  1.000000  \n"
     ]
    }
   ],
   "source": [
    "\n",
    "# Create and print correlation matrix:\n",
    "corr = cor.corr()\n",
    "print(corr)"
   ]
  },
  {
   "cell_type": "code",
   "execution_count": 20,
   "metadata": {},
   "outputs": [
    {
     "data": {
      "text/html": [
       "<style  type=\"text/css\" >\n",
       "    #T_16211980_1265_11ea_bc19_eebdc30eb93frow0_col0 {\n",
       "            background-color:  #b40426;\n",
       "            color:  #f1f1f1;\n",
       "        }    #T_16211980_1265_11ea_bc19_eebdc30eb93frow0_col1 {\n",
       "            background-color:  #f4987a;\n",
       "            color:  #000000;\n",
       "        }    #T_16211980_1265_11ea_bc19_eebdc30eb93frow0_col2 {\n",
       "            background-color:  #3b4cc0;\n",
       "            color:  #f1f1f1;\n",
       "        }    #T_16211980_1265_11ea_bc19_eebdc30eb93frow0_col3 {\n",
       "            background-color:  #3d50c3;\n",
       "            color:  #f1f1f1;\n",
       "        }    #T_16211980_1265_11ea_bc19_eebdc30eb93frow0_col4 {\n",
       "            background-color:  #3b4cc0;\n",
       "            color:  #f1f1f1;\n",
       "        }    #T_16211980_1265_11ea_bc19_eebdc30eb93frow0_col5 {\n",
       "            background-color:  #3d50c3;\n",
       "            color:  #f1f1f1;\n",
       "        }    #T_16211980_1265_11ea_bc19_eebdc30eb93frow0_col6 {\n",
       "            background-color:  #b9d0f9;\n",
       "            color:  #000000;\n",
       "        }    #T_16211980_1265_11ea_bc19_eebdc30eb93frow0_col7 {\n",
       "            background-color:  #9bbcff;\n",
       "            color:  #000000;\n",
       "        }    #T_16211980_1265_11ea_bc19_eebdc30eb93frow0_col8 {\n",
       "            background-color:  #4055c8;\n",
       "            color:  #f1f1f1;\n",
       "        }    #T_16211980_1265_11ea_bc19_eebdc30eb93frow0_col9 {\n",
       "            background-color:  #9ebeff;\n",
       "            color:  #000000;\n",
       "        }    #T_16211980_1265_11ea_bc19_eebdc30eb93frow0_col10 {\n",
       "            background-color:  #92b4fe;\n",
       "            color:  #000000;\n",
       "        }    #T_16211980_1265_11ea_bc19_eebdc30eb93frow0_col11 {\n",
       "            background-color:  #b9d0f9;\n",
       "            color:  #000000;\n",
       "        }    #T_16211980_1265_11ea_bc19_eebdc30eb93frow0_col12 {\n",
       "            background-color:  #5673e0;\n",
       "            color:  #000000;\n",
       "        }    #T_16211980_1265_11ea_bc19_eebdc30eb93frow0_col13 {\n",
       "            background-color:  #80a3fa;\n",
       "            color:  #000000;\n",
       "        }    #T_16211980_1265_11ea_bc19_eebdc30eb93frow0_col14 {\n",
       "            background-color:  #6f92f3;\n",
       "            color:  #000000;\n",
       "        }    #T_16211980_1265_11ea_bc19_eebdc30eb93frow1_col0 {\n",
       "            background-color:  #f39475;\n",
       "            color:  #000000;\n",
       "        }    #T_16211980_1265_11ea_bc19_eebdc30eb93frow1_col1 {\n",
       "            background-color:  #b40426;\n",
       "            color:  #f1f1f1;\n",
       "        }    #T_16211980_1265_11ea_bc19_eebdc30eb93frow1_col2 {\n",
       "            background-color:  #3b4cc0;\n",
       "            color:  #f1f1f1;\n",
       "        }    #T_16211980_1265_11ea_bc19_eebdc30eb93frow1_col3 {\n",
       "            background-color:  #3b4cc0;\n",
       "            color:  #f1f1f1;\n",
       "        }    #T_16211980_1265_11ea_bc19_eebdc30eb93frow1_col4 {\n",
       "            background-color:  #3b4cc0;\n",
       "            color:  #f1f1f1;\n",
       "        }    #T_16211980_1265_11ea_bc19_eebdc30eb93frow1_col5 {\n",
       "            background-color:  #3b4cc0;\n",
       "            color:  #f1f1f1;\n",
       "        }    #T_16211980_1265_11ea_bc19_eebdc30eb93frow1_col6 {\n",
       "            background-color:  #f1ccb8;\n",
       "            color:  #000000;\n",
       "        }    #T_16211980_1265_11ea_bc19_eebdc30eb93frow1_col7 {\n",
       "            background-color:  #92b4fe;\n",
       "            color:  #000000;\n",
       "        }    #T_16211980_1265_11ea_bc19_eebdc30eb93frow1_col8 {\n",
       "            background-color:  #4055c8;\n",
       "            color:  #f1f1f1;\n",
       "        }    #T_16211980_1265_11ea_bc19_eebdc30eb93frow1_col9 {\n",
       "            background-color:  #93b5fe;\n",
       "            color:  #000000;\n",
       "        }    #T_16211980_1265_11ea_bc19_eebdc30eb93frow1_col10 {\n",
       "            background-color:  #a1c0ff;\n",
       "            color:  #000000;\n",
       "        }    #T_16211980_1265_11ea_bc19_eebdc30eb93frow1_col11 {\n",
       "            background-color:  #a7c5fe;\n",
       "            color:  #000000;\n",
       "        }    #T_16211980_1265_11ea_bc19_eebdc30eb93frow1_col12 {\n",
       "            background-color:  #5673e0;\n",
       "            color:  #000000;\n",
       "        }    #T_16211980_1265_11ea_bc19_eebdc30eb93frow1_col13 {\n",
       "            background-color:  #6f92f3;\n",
       "            color:  #000000;\n",
       "        }    #T_16211980_1265_11ea_bc19_eebdc30eb93frow1_col14 {\n",
       "            background-color:  #6b8df0;\n",
       "            color:  #000000;\n",
       "        }    #T_16211980_1265_11ea_bc19_eebdc30eb93frow2_col0 {\n",
       "            background-color:  #485fd1;\n",
       "            color:  #f1f1f1;\n",
       "        }    #T_16211980_1265_11ea_bc19_eebdc30eb93frow2_col1 {\n",
       "            background-color:  #3b4cc0;\n",
       "            color:  #f1f1f1;\n",
       "        }    #T_16211980_1265_11ea_bc19_eebdc30eb93frow2_col2 {\n",
       "            background-color:  #b40426;\n",
       "            color:  #f1f1f1;\n",
       "        }    #T_16211980_1265_11ea_bc19_eebdc30eb93frow2_col3 {\n",
       "            background-color:  #6687ed;\n",
       "            color:  #000000;\n",
       "        }    #T_16211980_1265_11ea_bc19_eebdc30eb93frow2_col4 {\n",
       "            background-color:  #cc403a;\n",
       "            color:  #f1f1f1;\n",
       "        }    #T_16211980_1265_11ea_bc19_eebdc30eb93frow2_col5 {\n",
       "            background-color:  #6687ed;\n",
       "            color:  #000000;\n",
       "        }    #T_16211980_1265_11ea_bc19_eebdc30eb93frow2_col6 {\n",
       "            background-color:  #3b4cc0;\n",
       "            color:  #f1f1f1;\n",
       "        }    #T_16211980_1265_11ea_bc19_eebdc30eb93frow2_col7 {\n",
       "            background-color:  #7597f6;\n",
       "            color:  #000000;\n",
       "        }    #T_16211980_1265_11ea_bc19_eebdc30eb93frow2_col8 {\n",
       "            background-color:  #4358cb;\n",
       "            color:  #f1f1f1;\n",
       "        }    #T_16211980_1265_11ea_bc19_eebdc30eb93frow2_col9 {\n",
       "            background-color:  #8badfd;\n",
       "            color:  #000000;\n",
       "        }    #T_16211980_1265_11ea_bc19_eebdc30eb93frow2_col10 {\n",
       "            background-color:  #a9c6fd;\n",
       "            color:  #000000;\n",
       "        }    #T_16211980_1265_11ea_bc19_eebdc30eb93frow2_col11 {\n",
       "            background-color:  #aac7fd;\n",
       "            color:  #000000;\n",
       "        }    #T_16211980_1265_11ea_bc19_eebdc30eb93frow2_col12 {\n",
       "            background-color:  #5a78e4;\n",
       "            color:  #000000;\n",
       "        }    #T_16211980_1265_11ea_bc19_eebdc30eb93frow2_col13 {\n",
       "            background-color:  #5a78e4;\n",
       "            color:  #000000;\n",
       "        }    #T_16211980_1265_11ea_bc19_eebdc30eb93frow2_col14 {\n",
       "            background-color:  #779af7;\n",
       "            color:  #000000;\n",
       "        }    #T_16211980_1265_11ea_bc19_eebdc30eb93frow3_col0 {\n",
       "            background-color:  #5470de;\n",
       "            color:  #000000;\n",
       "        }    #T_16211980_1265_11ea_bc19_eebdc30eb93frow3_col1 {\n",
       "            background-color:  #455cce;\n",
       "            color:  #f1f1f1;\n",
       "        }    #T_16211980_1265_11ea_bc19_eebdc30eb93frow3_col2 {\n",
       "            background-color:  #7093f3;\n",
       "            color:  #000000;\n",
       "        }    #T_16211980_1265_11ea_bc19_eebdc30eb93frow3_col3 {\n",
       "            background-color:  #b40426;\n",
       "            color:  #f1f1f1;\n",
       "        }    #T_16211980_1265_11ea_bc19_eebdc30eb93frow3_col4 {\n",
       "            background-color:  #6f92f3;\n",
       "            color:  #000000;\n",
       "        }    #T_16211980_1265_11ea_bc19_eebdc30eb93frow3_col5 {\n",
       "            background-color:  #c12b30;\n",
       "            color:  #f1f1f1;\n",
       "        }    #T_16211980_1265_11ea_bc19_eebdc30eb93frow3_col6 {\n",
       "            background-color:  #485fd1;\n",
       "            color:  #f1f1f1;\n",
       "        }    #T_16211980_1265_11ea_bc19_eebdc30eb93frow3_col7 {\n",
       "            background-color:  #7699f6;\n",
       "            color:  #000000;\n",
       "        }    #T_16211980_1265_11ea_bc19_eebdc30eb93frow3_col8 {\n",
       "            background-color:  #4257c9;\n",
       "            color:  #f1f1f1;\n",
       "        }    #T_16211980_1265_11ea_bc19_eebdc30eb93frow3_col9 {\n",
       "            background-color:  #89acfd;\n",
       "            color:  #000000;\n",
       "        }    #T_16211980_1265_11ea_bc19_eebdc30eb93frow3_col10 {\n",
       "            background-color:  #a9c6fd;\n",
       "            color:  #000000;\n",
       "        }    #T_16211980_1265_11ea_bc19_eebdc30eb93frow3_col11 {\n",
       "            background-color:  #a7c5fe;\n",
       "            color:  #000000;\n",
       "        }    #T_16211980_1265_11ea_bc19_eebdc30eb93frow3_col12 {\n",
       "            background-color:  #5977e3;\n",
       "            color:  #000000;\n",
       "        }    #T_16211980_1265_11ea_bc19_eebdc30eb93frow3_col13 {\n",
       "            background-color:  #5a78e4;\n",
       "            color:  #000000;\n",
       "        }    #T_16211980_1265_11ea_bc19_eebdc30eb93frow3_col14 {\n",
       "            background-color:  #7597f6;\n",
       "            color:  #000000;\n",
       "        }    #T_16211980_1265_11ea_bc19_eebdc30eb93frow4_col0 {\n",
       "            background-color:  #4961d2;\n",
       "            color:  #f1f1f1;\n",
       "        }    #T_16211980_1265_11ea_bc19_eebdc30eb93frow4_col1 {\n",
       "            background-color:  #3c4ec2;\n",
       "            color:  #f1f1f1;\n",
       "        }    #T_16211980_1265_11ea_bc19_eebdc30eb93frow4_col2 {\n",
       "            background-color:  #cc403a;\n",
       "            color:  #f1f1f1;\n",
       "        }    #T_16211980_1265_11ea_bc19_eebdc30eb93frow4_col3 {\n",
       "            background-color:  #6788ee;\n",
       "            color:  #000000;\n",
       "        }    #T_16211980_1265_11ea_bc19_eebdc30eb93frow4_col4 {\n",
       "            background-color:  #b40426;\n",
       "            color:  #f1f1f1;\n",
       "        }    #T_16211980_1265_11ea_bc19_eebdc30eb93frow4_col5 {\n",
       "            background-color:  #6788ee;\n",
       "            color:  #000000;\n",
       "        }    #T_16211980_1265_11ea_bc19_eebdc30eb93frow4_col6 {\n",
       "            background-color:  #3e51c5;\n",
       "            color:  #f1f1f1;\n",
       "        }    #T_16211980_1265_11ea_bc19_eebdc30eb93frow4_col7 {\n",
       "            background-color:  #7699f6;\n",
       "            color:  #000000;\n",
       "        }    #T_16211980_1265_11ea_bc19_eebdc30eb93frow4_col8 {\n",
       "            background-color:  #4358cb;\n",
       "            color:  #f1f1f1;\n",
       "        }    #T_16211980_1265_11ea_bc19_eebdc30eb93frow4_col9 {\n",
       "            background-color:  #8badfd;\n",
       "            color:  #000000;\n",
       "        }    #T_16211980_1265_11ea_bc19_eebdc30eb93frow4_col10 {\n",
       "            background-color:  #a9c6fd;\n",
       "            color:  #000000;\n",
       "        }    #T_16211980_1265_11ea_bc19_eebdc30eb93frow4_col11 {\n",
       "            background-color:  #a9c6fd;\n",
       "            color:  #000000;\n",
       "        }    #T_16211980_1265_11ea_bc19_eebdc30eb93frow4_col12 {\n",
       "            background-color:  #5a78e4;\n",
       "            color:  #000000;\n",
       "        }    #T_16211980_1265_11ea_bc19_eebdc30eb93frow4_col13 {\n",
       "            background-color:  #5a78e4;\n",
       "            color:  #000000;\n",
       "        }    #T_16211980_1265_11ea_bc19_eebdc30eb93frow4_col14 {\n",
       "            background-color:  #779af7;\n",
       "            color:  #000000;\n",
       "        }    #T_16211980_1265_11ea_bc19_eebdc30eb93frow5_col0 {\n",
       "            background-color:  #5470de;\n",
       "            color:  #000000;\n",
       "        }    #T_16211980_1265_11ea_bc19_eebdc30eb93frow5_col1 {\n",
       "            background-color:  #455cce;\n",
       "            color:  #f1f1f1;\n",
       "        }    #T_16211980_1265_11ea_bc19_eebdc30eb93frow5_col2 {\n",
       "            background-color:  #7093f3;\n",
       "            color:  #000000;\n",
       "        }    #T_16211980_1265_11ea_bc19_eebdc30eb93frow5_col3 {\n",
       "            background-color:  #c12b30;\n",
       "            color:  #f1f1f1;\n",
       "        }    #T_16211980_1265_11ea_bc19_eebdc30eb93frow5_col4 {\n",
       "            background-color:  #6f92f3;\n",
       "            color:  #000000;\n",
       "        }    #T_16211980_1265_11ea_bc19_eebdc30eb93frow5_col5 {\n",
       "            background-color:  #b40426;\n",
       "            color:  #f1f1f1;\n",
       "        }    #T_16211980_1265_11ea_bc19_eebdc30eb93frow5_col6 {\n",
       "            background-color:  #4961d2;\n",
       "            color:  #f1f1f1;\n",
       "        }    #T_16211980_1265_11ea_bc19_eebdc30eb93frow5_col7 {\n",
       "            background-color:  #779af7;\n",
       "            color:  #000000;\n",
       "        }    #T_16211980_1265_11ea_bc19_eebdc30eb93frow5_col8 {\n",
       "            background-color:  #4257c9;\n",
       "            color:  #f1f1f1;\n",
       "        }    #T_16211980_1265_11ea_bc19_eebdc30eb93frow5_col9 {\n",
       "            background-color:  #8badfd;\n",
       "            color:  #000000;\n",
       "        }    #T_16211980_1265_11ea_bc19_eebdc30eb93frow5_col10 {\n",
       "            background-color:  #a7c5fe;\n",
       "            color:  #000000;\n",
       "        }    #T_16211980_1265_11ea_bc19_eebdc30eb93frow5_col11 {\n",
       "            background-color:  #a7c5fe;\n",
       "            color:  #000000;\n",
       "        }    #T_16211980_1265_11ea_bc19_eebdc30eb93frow5_col12 {\n",
       "            background-color:  #5977e3;\n",
       "            color:  #000000;\n",
       "        }    #T_16211980_1265_11ea_bc19_eebdc30eb93frow5_col13 {\n",
       "            background-color:  #5a78e4;\n",
       "            color:  #000000;\n",
       "        }    #T_16211980_1265_11ea_bc19_eebdc30eb93frow5_col14 {\n",
       "            background-color:  #7597f6;\n",
       "            color:  #000000;\n",
       "        }    #T_16211980_1265_11ea_bc19_eebdc30eb93frow6_col0 {\n",
       "            background-color:  #c3d5f4;\n",
       "            color:  #000000;\n",
       "        }    #T_16211980_1265_11ea_bc19_eebdc30eb93frow6_col1 {\n",
       "            background-color:  #f2cbb7;\n",
       "            color:  #000000;\n",
       "        }    #T_16211980_1265_11ea_bc19_eebdc30eb93frow6_col2 {\n",
       "            background-color:  #3e51c5;\n",
       "            color:  #f1f1f1;\n",
       "        }    #T_16211980_1265_11ea_bc19_eebdc30eb93frow6_col3 {\n",
       "            background-color:  #4055c8;\n",
       "            color:  #f1f1f1;\n",
       "        }    #T_16211980_1265_11ea_bc19_eebdc30eb93frow6_col4 {\n",
       "            background-color:  #3f53c6;\n",
       "            color:  #f1f1f1;\n",
       "        }    #T_16211980_1265_11ea_bc19_eebdc30eb93frow6_col5 {\n",
       "            background-color:  #4055c8;\n",
       "            color:  #f1f1f1;\n",
       "        }    #T_16211980_1265_11ea_bc19_eebdc30eb93frow6_col6 {\n",
       "            background-color:  #b40426;\n",
       "            color:  #f1f1f1;\n",
       "        }    #T_16211980_1265_11ea_bc19_eebdc30eb93frow6_col7 {\n",
       "            background-color:  #7da0f9;\n",
       "            color:  #000000;\n",
       "        }    #T_16211980_1265_11ea_bc19_eebdc30eb93frow6_col8 {\n",
       "            background-color:  #4257c9;\n",
       "            color:  #f1f1f1;\n",
       "        }    #T_16211980_1265_11ea_bc19_eebdc30eb93frow6_col9 {\n",
       "            background-color:  #8caffe;\n",
       "            color:  #000000;\n",
       "        }    #T_16211980_1265_11ea_bc19_eebdc30eb93frow6_col10 {\n",
       "            background-color:  #aac7fd;\n",
       "            color:  #000000;\n",
       "        }    #T_16211980_1265_11ea_bc19_eebdc30eb93frow6_col11 {\n",
       "            background-color:  #9fbfff;\n",
       "            color:  #000000;\n",
       "        }    #T_16211980_1265_11ea_bc19_eebdc30eb93frow6_col12 {\n",
       "            background-color:  #5875e1;\n",
       "            color:  #000000;\n",
       "        }    #T_16211980_1265_11ea_bc19_eebdc30eb93frow6_col13 {\n",
       "            background-color:  #5b7ae5;\n",
       "            color:  #000000;\n",
       "        }    #T_16211980_1265_11ea_bc19_eebdc30eb93frow6_col14 {\n",
       "            background-color:  #7093f3;\n",
       "            color:  #000000;\n",
       "        }    #T_16211980_1265_11ea_bc19_eebdc30eb93frow7_col0 {\n",
       "            background-color:  #7da0f9;\n",
       "            color:  #000000;\n",
       "        }    #T_16211980_1265_11ea_bc19_eebdc30eb93frow7_col1 {\n",
       "            background-color:  #6687ed;\n",
       "            color:  #000000;\n",
       "        }    #T_16211980_1265_11ea_bc19_eebdc30eb93frow7_col2 {\n",
       "            background-color:  #485fd1;\n",
       "            color:  #f1f1f1;\n",
       "        }    #T_16211980_1265_11ea_bc19_eebdc30eb93frow7_col3 {\n",
       "            background-color:  #3f53c6;\n",
       "            color:  #f1f1f1;\n",
       "        }    #T_16211980_1265_11ea_bc19_eebdc30eb93frow7_col4 {\n",
       "            background-color:  #465ecf;\n",
       "            color:  #f1f1f1;\n",
       "        }    #T_16211980_1265_11ea_bc19_eebdc30eb93frow7_col5 {\n",
       "            background-color:  #3f53c6;\n",
       "            color:  #f1f1f1;\n",
       "        }    #T_16211980_1265_11ea_bc19_eebdc30eb93frow7_col6 {\n",
       "            background-color:  #4e68d8;\n",
       "            color:  #000000;\n",
       "        }    #T_16211980_1265_11ea_bc19_eebdc30eb93frow7_col7 {\n",
       "            background-color:  #b40426;\n",
       "            color:  #f1f1f1;\n",
       "        }    #T_16211980_1265_11ea_bc19_eebdc30eb93frow7_col8 {\n",
       "            background-color:  #465ecf;\n",
       "            color:  #f1f1f1;\n",
       "        }    #T_16211980_1265_11ea_bc19_eebdc30eb93frow7_col9 {\n",
       "            background-color:  #a1c0ff;\n",
       "            color:  #000000;\n",
       "        }    #T_16211980_1265_11ea_bc19_eebdc30eb93frow7_col10 {\n",
       "            background-color:  #bad0f8;\n",
       "            color:  #000000;\n",
       "        }    #T_16211980_1265_11ea_bc19_eebdc30eb93frow7_col11 {\n",
       "            background-color:  #e2dad5;\n",
       "            color:  #000000;\n",
       "        }    #T_16211980_1265_11ea_bc19_eebdc30eb93frow7_col12 {\n",
       "            background-color:  #3b4cc0;\n",
       "            color:  #f1f1f1;\n",
       "        }    #T_16211980_1265_11ea_bc19_eebdc30eb93frow7_col13 {\n",
       "            background-color:  #d24b40;\n",
       "            color:  #f1f1f1;\n",
       "        }    #T_16211980_1265_11ea_bc19_eebdc30eb93frow7_col14 {\n",
       "            background-color:  #3b4cc0;\n",
       "            color:  #f1f1f1;\n",
       "        }    #T_16211980_1265_11ea_bc19_eebdc30eb93frow8_col0 {\n",
       "            background-color:  #536edd;\n",
       "            color:  #000000;\n",
       "        }    #T_16211980_1265_11ea_bc19_eebdc30eb93frow8_col1 {\n",
       "            background-color:  #465ecf;\n",
       "            color:  #f1f1f1;\n",
       "        }    #T_16211980_1265_11ea_bc19_eebdc30eb93frow8_col2 {\n",
       "            background-color:  #485fd1;\n",
       "            color:  #f1f1f1;\n",
       "        }    #T_16211980_1265_11ea_bc19_eebdc30eb93frow8_col3 {\n",
       "            background-color:  #3d50c3;\n",
       "            color:  #f1f1f1;\n",
       "        }    #T_16211980_1265_11ea_bc19_eebdc30eb93frow8_col4 {\n",
       "            background-color:  #465ecf;\n",
       "            color:  #f1f1f1;\n",
       "        }    #T_16211980_1265_11ea_bc19_eebdc30eb93frow8_col5 {\n",
       "            background-color:  #3d50c3;\n",
       "            color:  #f1f1f1;\n",
       "        }    #T_16211980_1265_11ea_bc19_eebdc30eb93frow8_col6 {\n",
       "            background-color:  #445acc;\n",
       "            color:  #f1f1f1;\n",
       "        }    #T_16211980_1265_11ea_bc19_eebdc30eb93frow8_col7 {\n",
       "            background-color:  #799cf8;\n",
       "            color:  #000000;\n",
       "        }    #T_16211980_1265_11ea_bc19_eebdc30eb93frow8_col8 {\n",
       "            background-color:  #b40426;\n",
       "            color:  #f1f1f1;\n",
       "        }    #T_16211980_1265_11ea_bc19_eebdc30eb93frow8_col9 {\n",
       "            background-color:  #88abfd;\n",
       "            color:  #000000;\n",
       "        }    #T_16211980_1265_11ea_bc19_eebdc30eb93frow8_col10 {\n",
       "            background-color:  #bfd3f6;\n",
       "            color:  #000000;\n",
       "        }    #T_16211980_1265_11ea_bc19_eebdc30eb93frow8_col11 {\n",
       "            background-color:  #a2c1ff;\n",
       "            color:  #000000;\n",
       "        }    #T_16211980_1265_11ea_bc19_eebdc30eb93frow8_col12 {\n",
       "            background-color:  #5e7de7;\n",
       "            color:  #000000;\n",
       "        }    #T_16211980_1265_11ea_bc19_eebdc30eb93frow8_col13 {\n",
       "            background-color:  #5b7ae5;\n",
       "            color:  #000000;\n",
       "        }    #T_16211980_1265_11ea_bc19_eebdc30eb93frow8_col14 {\n",
       "            background-color:  #6e90f2;\n",
       "            color:  #000000;\n",
       "        }    #T_16211980_1265_11ea_bc19_eebdc30eb93frow9_col0 {\n",
       "            background-color:  #6b8df0;\n",
       "            color:  #000000;\n",
       "        }    #T_16211980_1265_11ea_bc19_eebdc30eb93frow9_col1 {\n",
       "            background-color:  #516ddb;\n",
       "            color:  #000000;\n",
       "        }    #T_16211980_1265_11ea_bc19_eebdc30eb93frow9_col2 {\n",
       "            background-color:  #485fd1;\n",
       "            color:  #f1f1f1;\n",
       "        }    #T_16211980_1265_11ea_bc19_eebdc30eb93frow9_col3 {\n",
       "            background-color:  #3d50c3;\n",
       "            color:  #f1f1f1;\n",
       "        }    #T_16211980_1265_11ea_bc19_eebdc30eb93frow9_col4 {\n",
       "            background-color:  #465ecf;\n",
       "            color:  #f1f1f1;\n",
       "        }    #T_16211980_1265_11ea_bc19_eebdc30eb93frow9_col5 {\n",
       "            background-color:  #3d50c3;\n",
       "            color:  #f1f1f1;\n",
       "        }    #T_16211980_1265_11ea_bc19_eebdc30eb93frow9_col6 {\n",
       "            background-color:  #465ecf;\n",
       "            color:  #f1f1f1;\n",
       "        }    #T_16211980_1265_11ea_bc19_eebdc30eb93frow9_col7 {\n",
       "            background-color:  #8db0fe;\n",
       "            color:  #000000;\n",
       "        }    #T_16211980_1265_11ea_bc19_eebdc30eb93frow9_col8 {\n",
       "            background-color:  #3f53c6;\n",
       "            color:  #f1f1f1;\n",
       "        }    #T_16211980_1265_11ea_bc19_eebdc30eb93frow9_col9 {\n",
       "            background-color:  #b40426;\n",
       "            color:  #f1f1f1;\n",
       "        }    #T_16211980_1265_11ea_bc19_eebdc30eb93frow9_col10 {\n",
       "            background-color:  #5d7ce6;\n",
       "            color:  #000000;\n",
       "        }    #T_16211980_1265_11ea_bc19_eebdc30eb93frow9_col11 {\n",
       "            background-color:  #ead5c9;\n",
       "            color:  #000000;\n",
       "        }    #T_16211980_1265_11ea_bc19_eebdc30eb93frow9_col12 {\n",
       "            background-color:  #5875e1;\n",
       "            color:  #000000;\n",
       "        }    #T_16211980_1265_11ea_bc19_eebdc30eb93frow9_col13 {\n",
       "            background-color:  #97b8ff;\n",
       "            color:  #000000;\n",
       "        }    #T_16211980_1265_11ea_bc19_eebdc30eb93frow9_col14 {\n",
       "            background-color:  #97b8ff;\n",
       "            color:  #000000;\n",
       "        }    #T_16211980_1265_11ea_bc19_eebdc30eb93frow10_col0 {\n",
       "            background-color:  #3b4cc0;\n",
       "            color:  #f1f1f1;\n",
       "        }    #T_16211980_1265_11ea_bc19_eebdc30eb93frow10_col1 {\n",
       "            background-color:  #3e51c5;\n",
       "            color:  #f1f1f1;\n",
       "        }    #T_16211980_1265_11ea_bc19_eebdc30eb93frow10_col2 {\n",
       "            background-color:  #4a63d3;\n",
       "            color:  #f1f1f1;\n",
       "        }    #T_16211980_1265_11ea_bc19_eebdc30eb93frow10_col3 {\n",
       "            background-color:  #3e51c5;\n",
       "            color:  #f1f1f1;\n",
       "        }    #T_16211980_1265_11ea_bc19_eebdc30eb93frow10_col4 {\n",
       "            background-color:  #485fd1;\n",
       "            color:  #f1f1f1;\n",
       "        }    #T_16211980_1265_11ea_bc19_eebdc30eb93frow10_col5 {\n",
       "            background-color:  #3d50c3;\n",
       "            color:  #f1f1f1;\n",
       "        }    #T_16211980_1265_11ea_bc19_eebdc30eb93frow10_col6 {\n",
       "            background-color:  #485fd1;\n",
       "            color:  #f1f1f1;\n",
       "        }    #T_16211980_1265_11ea_bc19_eebdc30eb93frow10_col7 {\n",
       "            background-color:  #8caffe;\n",
       "            color:  #000000;\n",
       "        }    #T_16211980_1265_11ea_bc19_eebdc30eb93frow10_col8 {\n",
       "            background-color:  #6384eb;\n",
       "            color:  #000000;\n",
       "        }    #T_16211980_1265_11ea_bc19_eebdc30eb93frow10_col9 {\n",
       "            background-color:  #3b4cc0;\n",
       "            color:  #f1f1f1;\n",
       "        }    #T_16211980_1265_11ea_bc19_eebdc30eb93frow10_col10 {\n",
       "            background-color:  #b40426;\n",
       "            color:  #f1f1f1;\n",
       "        }    #T_16211980_1265_11ea_bc19_eebdc30eb93frow10_col11 {\n",
       "            background-color:  #3b4cc0;\n",
       "            color:  #f1f1f1;\n",
       "        }    #T_16211980_1265_11ea_bc19_eebdc30eb93frow10_col12 {\n",
       "            background-color:  #6c8ff1;\n",
       "            color:  #000000;\n",
       "        }    #T_16211980_1265_11ea_bc19_eebdc30eb93frow10_col13 {\n",
       "            background-color:  #3d50c3;\n",
       "            color:  #f1f1f1;\n",
       "        }    #T_16211980_1265_11ea_bc19_eebdc30eb93frow10_col14 {\n",
       "            background-color:  #4257c9;\n",
       "            color:  #f1f1f1;\n",
       "        }    #T_16211980_1265_11ea_bc19_eebdc30eb93frow11_col0 {\n",
       "            background-color:  #6b8df0;\n",
       "            color:  #000000;\n",
       "        }    #T_16211980_1265_11ea_bc19_eebdc30eb93frow11_col1 {\n",
       "            background-color:  #485fd1;\n",
       "            color:  #f1f1f1;\n",
       "        }    #T_16211980_1265_11ea_bc19_eebdc30eb93frow11_col2 {\n",
       "            background-color:  #4b64d5;\n",
       "            color:  #f1f1f1;\n",
       "        }    #T_16211980_1265_11ea_bc19_eebdc30eb93frow11_col3 {\n",
       "            background-color:  #3d50c3;\n",
       "            color:  #f1f1f1;\n",
       "        }    #T_16211980_1265_11ea_bc19_eebdc30eb93frow11_col4 {\n",
       "            background-color:  #485fd1;\n",
       "            color:  #f1f1f1;\n",
       "        }    #T_16211980_1265_11ea_bc19_eebdc30eb93frow11_col5 {\n",
       "            background-color:  #3d50c3;\n",
       "            color:  #f1f1f1;\n",
       "        }    #T_16211980_1265_11ea_bc19_eebdc30eb93frow11_col6 {\n",
       "            background-color:  #3b4cc0;\n",
       "            color:  #f1f1f1;\n",
       "        }    #T_16211980_1265_11ea_bc19_eebdc30eb93frow11_col7 {\n",
       "            background-color:  #c5d6f2;\n",
       "            color:  #000000;\n",
       "        }    #T_16211980_1265_11ea_bc19_eebdc30eb93frow11_col8 {\n",
       "            background-color:  #3b4cc0;\n",
       "            color:  #f1f1f1;\n",
       "        }    #T_16211980_1265_11ea_bc19_eebdc30eb93frow11_col9 {\n",
       "            background-color:  #dbdcde;\n",
       "            color:  #000000;\n",
       "        }    #T_16211980_1265_11ea_bc19_eebdc30eb93frow11_col10 {\n",
       "            background-color:  #3b4cc0;\n",
       "            color:  #f1f1f1;\n",
       "        }    #T_16211980_1265_11ea_bc19_eebdc30eb93frow11_col11 {\n",
       "            background-color:  #b40426;\n",
       "            color:  #f1f1f1;\n",
       "        }    #T_16211980_1265_11ea_bc19_eebdc30eb93frow11_col12 {\n",
       "            background-color:  #5470de;\n",
       "            color:  #000000;\n",
       "        }    #T_16211980_1265_11ea_bc19_eebdc30eb93frow11_col13 {\n",
       "            background-color:  #f7bca1;\n",
       "            color:  #000000;\n",
       "        }    #T_16211980_1265_11ea_bc19_eebdc30eb93frow11_col14 {\n",
       "            background-color:  #afcafc;\n",
       "            color:  #000000;\n",
       "        }    #T_16211980_1265_11ea_bc19_eebdc30eb93frow12_col0 {\n",
       "            background-color:  #506bda;\n",
       "            color:  #000000;\n",
       "        }    #T_16211980_1265_11ea_bc19_eebdc30eb93frow12_col1 {\n",
       "            background-color:  #445acc;\n",
       "            color:  #f1f1f1;\n",
       "        }    #T_16211980_1265_11ea_bc19_eebdc30eb93frow12_col2 {\n",
       "            background-color:  #485fd1;\n",
       "            color:  #f1f1f1;\n",
       "        }    #T_16211980_1265_11ea_bc19_eebdc30eb93frow12_col3 {\n",
       "            background-color:  #3d50c3;\n",
       "            color:  #f1f1f1;\n",
       "        }    #T_16211980_1265_11ea_bc19_eebdc30eb93frow12_col4 {\n",
       "            background-color:  #455cce;\n",
       "            color:  #f1f1f1;\n",
       "        }    #T_16211980_1265_11ea_bc19_eebdc30eb93frow12_col5 {\n",
       "            background-color:  #3d50c3;\n",
       "            color:  #f1f1f1;\n",
       "        }    #T_16211980_1265_11ea_bc19_eebdc30eb93frow12_col6 {\n",
       "            background-color:  #4358cb;\n",
       "            color:  #f1f1f1;\n",
       "        }    #T_16211980_1265_11ea_bc19_eebdc30eb93frow12_col7 {\n",
       "            background-color:  #5673e0;\n",
       "            color:  #000000;\n",
       "        }    #T_16211980_1265_11ea_bc19_eebdc30eb93frow12_col8 {\n",
       "            background-color:  #465ecf;\n",
       "            color:  #f1f1f1;\n",
       "        }    #T_16211980_1265_11ea_bc19_eebdc30eb93frow12_col9 {\n",
       "            background-color:  #88abfd;\n",
       "            color:  #000000;\n",
       "        }    #T_16211980_1265_11ea_bc19_eebdc30eb93frow12_col10 {\n",
       "            background-color:  #b6cefa;\n",
       "            color:  #000000;\n",
       "        }    #T_16211980_1265_11ea_bc19_eebdc30eb93frow12_col11 {\n",
       "            background-color:  #a2c1ff;\n",
       "            color:  #000000;\n",
       "        }    #T_16211980_1265_11ea_bc19_eebdc30eb93frow12_col12 {\n",
       "            background-color:  #b40426;\n",
       "            color:  #f1f1f1;\n",
       "        }    #T_16211980_1265_11ea_bc19_eebdc30eb93frow12_col13 {\n",
       "            background-color:  #3f53c6;\n",
       "            color:  #f1f1f1;\n",
       "        }    #T_16211980_1265_11ea_bc19_eebdc30eb93frow12_col14 {\n",
       "            background-color:  #799cf8;\n",
       "            color:  #000000;\n",
       "        }    #T_16211980_1265_11ea_bc19_eebdc30eb93frow13_col0 {\n",
       "            background-color:  #7a9df8;\n",
       "            color:  #000000;\n",
       "        }    #T_16211980_1265_11ea_bc19_eebdc30eb93frow13_col1 {\n",
       "            background-color:  #5d7ce6;\n",
       "            color:  #000000;\n",
       "        }    #T_16211980_1265_11ea_bc19_eebdc30eb93frow13_col2 {\n",
       "            background-color:  #4961d2;\n",
       "            color:  #f1f1f1;\n",
       "        }    #T_16211980_1265_11ea_bc19_eebdc30eb93frow13_col3 {\n",
       "            background-color:  #3e51c5;\n",
       "            color:  #f1f1f1;\n",
       "        }    #T_16211980_1265_11ea_bc19_eebdc30eb93frow13_col4 {\n",
       "            background-color:  #465ecf;\n",
       "            color:  #f1f1f1;\n",
       "        }    #T_16211980_1265_11ea_bc19_eebdc30eb93frow13_col5 {\n",
       "            background-color:  #3e51c5;\n",
       "            color:  #f1f1f1;\n",
       "        }    #T_16211980_1265_11ea_bc19_eebdc30eb93frow13_col6 {\n",
       "            background-color:  #465ecf;\n",
       "            color:  #f1f1f1;\n",
       "        }    #T_16211980_1265_11ea_bc19_eebdc30eb93frow13_col7 {\n",
       "            background-color:  #d0473d;\n",
       "            color:  #f1f1f1;\n",
       "        }    #T_16211980_1265_11ea_bc19_eebdc30eb93frow13_col8 {\n",
       "            background-color:  #445acc;\n",
       "            color:  #f1f1f1;\n",
       "        }    #T_16211980_1265_11ea_bc19_eebdc30eb93frow13_col9 {\n",
       "            background-color:  #bed2f6;\n",
       "            color:  #000000;\n",
       "        }    #T_16211980_1265_11ea_bc19_eebdc30eb93frow13_col10 {\n",
       "            background-color:  #8fb1fe;\n",
       "            color:  #000000;\n",
       "        }    #T_16211980_1265_11ea_bc19_eebdc30eb93frow13_col11 {\n",
       "            background-color:  #f59d7e;\n",
       "            color:  #000000;\n",
       "        }    #T_16211980_1265_11ea_bc19_eebdc30eb93frow13_col12 {\n",
       "            background-color:  #3f53c6;\n",
       "            color:  #f1f1f1;\n",
       "        }    #T_16211980_1265_11ea_bc19_eebdc30eb93frow13_col13 {\n",
       "            background-color:  #b40426;\n",
       "            color:  #f1f1f1;\n",
       "        }    #T_16211980_1265_11ea_bc19_eebdc30eb93frow13_col14 {\n",
       "            background-color:  #5673e0;\n",
       "            color:  #000000;\n",
       "        }    #T_16211980_1265_11ea_bc19_eebdc30eb93frow14_col0 {\n",
       "            background-color:  #4f69d9;\n",
       "            color:  #000000;\n",
       "        }    #T_16211980_1265_11ea_bc19_eebdc30eb93frow14_col1 {\n",
       "            background-color:  #3e51c5;\n",
       "            color:  #f1f1f1;\n",
       "        }    #T_16211980_1265_11ea_bc19_eebdc30eb93frow14_col2 {\n",
       "            background-color:  #4a63d3;\n",
       "            color:  #f1f1f1;\n",
       "        }    #T_16211980_1265_11ea_bc19_eebdc30eb93frow14_col3 {\n",
       "            background-color:  #3d50c3;\n",
       "            color:  #f1f1f1;\n",
       "        }    #T_16211980_1265_11ea_bc19_eebdc30eb93frow14_col4 {\n",
       "            background-color:  #485fd1;\n",
       "            color:  #f1f1f1;\n",
       "        }    #T_16211980_1265_11ea_bc19_eebdc30eb93frow14_col5 {\n",
       "            background-color:  #3d50c3;\n",
       "            color:  #f1f1f1;\n",
       "        }    #T_16211980_1265_11ea_bc19_eebdc30eb93frow14_col6 {\n",
       "            background-color:  #4055c8;\n",
       "            color:  #f1f1f1;\n",
       "        }    #T_16211980_1265_11ea_bc19_eebdc30eb93frow14_col7 {\n",
       "            background-color:  #3b4cc0;\n",
       "            color:  #f1f1f1;\n",
       "        }    #T_16211980_1265_11ea_bc19_eebdc30eb93frow14_col8 {\n",
       "            background-color:  #3b4cc0;\n",
       "            color:  #f1f1f1;\n",
       "        }    #T_16211980_1265_11ea_bc19_eebdc30eb93frow14_col9 {\n",
       "            background-color:  #aac7fd;\n",
       "            color:  #000000;\n",
       "        }    #T_16211980_1265_11ea_bc19_eebdc30eb93frow14_col10 {\n",
       "            background-color:  #7a9df8;\n",
       "            color:  #000000;\n",
       "        }    #T_16211980_1265_11ea_bc19_eebdc30eb93frow14_col11 {\n",
       "            background-color:  #d4dbe6;\n",
       "            color:  #000000;\n",
       "        }    #T_16211980_1265_11ea_bc19_eebdc30eb93frow14_col12 {\n",
       "            background-color:  #5d7ce6;\n",
       "            color:  #000000;\n",
       "        }    #T_16211980_1265_11ea_bc19_eebdc30eb93frow14_col13 {\n",
       "            background-color:  #3b4cc0;\n",
       "            color:  #f1f1f1;\n",
       "        }    #T_16211980_1265_11ea_bc19_eebdc30eb93frow14_col14 {\n",
       "            background-color:  #b40426;\n",
       "            color:  #f1f1f1;\n",
       "        }</style><table id=\"T_16211980_1265_11ea_bc19_eebdc30eb93f\" ><thead>    <tr>        <th class=\"blank level0\" ></th>        <th class=\"col_heading level0 col0\" >Duration</th>        <th class=\"col_heading level0 col1\" >Distance</th>        <th class=\"col_heading level0 col2\" >PLong</th>        <th class=\"col_heading level0 col3\" >PLatd</th>        <th class=\"col_heading level0 col4\" >DLong</th>        <th class=\"col_heading level0 col5\" >DLatd</th>        <th class=\"col_heading level0 col6\" >Haversine</th>        <th class=\"col_heading level0 col7\" >Temp</th>        <th class=\"col_heading level0 col8\" >Precip</th>        <th class=\"col_heading level0 col9\" >Wind</th>        <th class=\"col_heading level0 col10\" >Humid</th>        <th class=\"col_heading level0 col11\" >Solar</th>        <th class=\"col_heading level0 col12\" >Snow</th>        <th class=\"col_heading level0 col13\" >GroundTemp</th>        <th class=\"col_heading level0 col14\" >Dust</th>    </tr></thead><tbody>\n",
       "                <tr>\n",
       "                        <th id=\"T_16211980_1265_11ea_bc19_eebdc30eb93flevel0_row0\" class=\"row_heading level0 row0\" >Duration</th>\n",
       "                        <td id=\"T_16211980_1265_11ea_bc19_eebdc30eb93frow0_col0\" class=\"data row0 col0\" >1</td>\n",
       "                        <td id=\"T_16211980_1265_11ea_bc19_eebdc30eb93frow0_col1\" class=\"data row0 col1\" >0.7</td>\n",
       "                        <td id=\"T_16211980_1265_11ea_bc19_eebdc30eb93frow0_col2\" class=\"data row0 col2\" >-0.05</td>\n",
       "                        <td id=\"T_16211980_1265_11ea_bc19_eebdc30eb93frow0_col3\" class=\"data row0 col3\" >-0.003</td>\n",
       "                        <td id=\"T_16211980_1265_11ea_bc19_eebdc30eb93frow0_col4\" class=\"data row0 col4\" >-0.04</td>\n",
       "                        <td id=\"T_16211980_1265_11ea_bc19_eebdc30eb93frow0_col5\" class=\"data row0 col5\" >-0.004</td>\n",
       "                        <td id=\"T_16211980_1265_11ea_bc19_eebdc30eb93frow0_col6\" class=\"data row0 col6\" >0.4</td>\n",
       "                        <td id=\"T_16211980_1265_11ea_bc19_eebdc30eb93frow0_col7\" class=\"data row0 col7\" >0.1</td>\n",
       "                        <td id=\"T_16211980_1265_11ea_bc19_eebdc30eb93frow0_col8\" class=\"data row0 col8\" >-0.009</td>\n",
       "                        <td id=\"T_16211980_1265_11ea_bc19_eebdc30eb93frow0_col9\" class=\"data row0 col9\" >0.07</td>\n",
       "                        <td id=\"T_16211980_1265_11ea_bc19_eebdc30eb93frow0_col10\" class=\"data row0 col10\" >-0.1</td>\n",
       "                        <td id=\"T_16211980_1265_11ea_bc19_eebdc30eb93frow0_col11\" class=\"data row0 col11\" >0.07</td>\n",
       "                        <td id=\"T_16211980_1265_11ea_bc19_eebdc30eb93frow0_col12\" class=\"data row0 col12\" >-0.02</td>\n",
       "                        <td id=\"T_16211980_1265_11ea_bc19_eebdc30eb93frow0_col13\" class=\"data row0 col13\" >0.1</td>\n",
       "                        <td id=\"T_16211980_1265_11ea_bc19_eebdc30eb93frow0_col14\" class=\"data row0 col14\" >-0.02</td>\n",
       "            </tr>\n",
       "            <tr>\n",
       "                        <th id=\"T_16211980_1265_11ea_bc19_eebdc30eb93flevel0_row1\" class=\"row_heading level0 row1\" >Distance</th>\n",
       "                        <td id=\"T_16211980_1265_11ea_bc19_eebdc30eb93frow1_col0\" class=\"data row1 col0\" >0.7</td>\n",
       "                        <td id=\"T_16211980_1265_11ea_bc19_eebdc30eb93frow1_col1\" class=\"data row1 col1\" >1</td>\n",
       "                        <td id=\"T_16211980_1265_11ea_bc19_eebdc30eb93frow1_col2\" class=\"data row1 col2\" >-0.05</td>\n",
       "                        <td id=\"T_16211980_1265_11ea_bc19_eebdc30eb93frow1_col3\" class=\"data row1 col3\" >-0.01</td>\n",
       "                        <td id=\"T_16211980_1265_11ea_bc19_eebdc30eb93frow1_col4\" class=\"data row1 col4\" >-0.04</td>\n",
       "                        <td id=\"T_16211980_1265_11ea_bc19_eebdc30eb93frow1_col5\" class=\"data row1 col5\" >-0.01</td>\n",
       "                        <td id=\"T_16211980_1265_11ea_bc19_eebdc30eb93frow1_col6\" class=\"data row1 col6\" >0.6</td>\n",
       "                        <td id=\"T_16211980_1265_11ea_bc19_eebdc30eb93frow1_col7\" class=\"data row1 col7\" >0.1</td>\n",
       "                        <td id=\"T_16211980_1265_11ea_bc19_eebdc30eb93frow1_col8\" class=\"data row1 col8\" >-0.009</td>\n",
       "                        <td id=\"T_16211980_1265_11ea_bc19_eebdc30eb93frow1_col9\" class=\"data row1 col9\" >0.03</td>\n",
       "                        <td id=\"T_16211980_1265_11ea_bc19_eebdc30eb93frow1_col10\" class=\"data row1 col10\" >-0.03</td>\n",
       "                        <td id=\"T_16211980_1265_11ea_bc19_eebdc30eb93frow1_col11\" class=\"data row1 col11\" >-0.003</td>\n",
       "                        <td id=\"T_16211980_1265_11ea_bc19_eebdc30eb93frow1_col12\" class=\"data row1 col12\" >-0.02</td>\n",
       "                        <td id=\"T_16211980_1265_11ea_bc19_eebdc30eb93frow1_col13\" class=\"data row1 col13\" >0.07</td>\n",
       "                        <td id=\"T_16211980_1265_11ea_bc19_eebdc30eb93frow1_col14\" class=\"data row1 col14\" >-0.04</td>\n",
       "            </tr>\n",
       "            <tr>\n",
       "                        <th id=\"T_16211980_1265_11ea_bc19_eebdc30eb93flevel0_row2\" class=\"row_heading level0 row2\" >PLong</th>\n",
       "                        <td id=\"T_16211980_1265_11ea_bc19_eebdc30eb93frow2_col0\" class=\"data row2 col0\" >-0.05</td>\n",
       "                        <td id=\"T_16211980_1265_11ea_bc19_eebdc30eb93frow2_col1\" class=\"data row2 col1\" >-0.05</td>\n",
       "                        <td id=\"T_16211980_1265_11ea_bc19_eebdc30eb93frow2_col2\" class=\"data row2 col2\" >1</td>\n",
       "                        <td id=\"T_16211980_1265_11ea_bc19_eebdc30eb93frow2_col3\" class=\"data row2 col3\" >0.1</td>\n",
       "                        <td id=\"T_16211980_1265_11ea_bc19_eebdc30eb93frow2_col4\" class=\"data row2 col4\" >0.9</td>\n",
       "                        <td id=\"T_16211980_1265_11ea_bc19_eebdc30eb93frow2_col5\" class=\"data row2 col5\" >0.1</td>\n",
       "                        <td id=\"T_16211980_1265_11ea_bc19_eebdc30eb93frow2_col6\" class=\"data row2 col6\" >-0.04</td>\n",
       "                        <td id=\"T_16211980_1265_11ea_bc19_eebdc30eb93frow2_col7\" class=\"data row2 col7\" >-0.004</td>\n",
       "                        <td id=\"T_16211980_1265_11ea_bc19_eebdc30eb93frow2_col8\" class=\"data row2 col8\" >-0.001</td>\n",
       "                        <td id=\"T_16211980_1265_11ea_bc19_eebdc30eb93frow2_col9\" class=\"data row2 col9\" >-0.003</td>\n",
       "                        <td id=\"T_16211980_1265_11ea_bc19_eebdc30eb93frow2_col10\" class=\"data row2 col10\" >0.004</td>\n",
       "                        <td id=\"T_16211980_1265_11ea_bc19_eebdc30eb93frow2_col11\" class=\"data row2 col11\" >0.008</td>\n",
       "                        <td id=\"T_16211980_1265_11ea_bc19_eebdc30eb93frow2_col12\" class=\"data row2 col12\" >-0.003</td>\n",
       "                        <td id=\"T_16211980_1265_11ea_bc19_eebdc30eb93frow2_col13\" class=\"data row2 col13\" >0.0004</td>\n",
       "                        <td id=\"T_16211980_1265_11ea_bc19_eebdc30eb93frow2_col14\" class=\"data row2 col14\" >0.005</td>\n",
       "            </tr>\n",
       "            <tr>\n",
       "                        <th id=\"T_16211980_1265_11ea_bc19_eebdc30eb93flevel0_row3\" class=\"row_heading level0 row3\" >PLatd</th>\n",
       "                        <td id=\"T_16211980_1265_11ea_bc19_eebdc30eb93frow3_col0\" class=\"data row3 col0\" >-0.003</td>\n",
       "                        <td id=\"T_16211980_1265_11ea_bc19_eebdc30eb93frow3_col1\" class=\"data row3 col1\" >-0.01</td>\n",
       "                        <td id=\"T_16211980_1265_11ea_bc19_eebdc30eb93frow3_col2\" class=\"data row3 col2\" >0.1</td>\n",
       "                        <td id=\"T_16211980_1265_11ea_bc19_eebdc30eb93frow3_col3\" class=\"data row3 col3\" >1</td>\n",
       "                        <td id=\"T_16211980_1265_11ea_bc19_eebdc30eb93frow3_col4\" class=\"data row3 col4\" >0.1</td>\n",
       "                        <td id=\"T_16211980_1265_11ea_bc19_eebdc30eb93frow3_col5\" class=\"data row3 col5\" >1</td>\n",
       "                        <td id=\"T_16211980_1265_11ea_bc19_eebdc30eb93frow3_col6\" class=\"data row3 col6\" >0.009</td>\n",
       "                        <td id=\"T_16211980_1265_11ea_bc19_eebdc30eb93frow3_col7\" class=\"data row3 col7\" >0.003</td>\n",
       "                        <td id=\"T_16211980_1265_11ea_bc19_eebdc30eb93frow3_col8\" class=\"data row3 col8\" >-0.004</td>\n",
       "                        <td id=\"T_16211980_1265_11ea_bc19_eebdc30eb93frow3_col9\" class=\"data row3 col9\" >-0.005</td>\n",
       "                        <td id=\"T_16211980_1265_11ea_bc19_eebdc30eb93frow3_col10\" class=\"data row3 col10\" >-0.001</td>\n",
       "                        <td id=\"T_16211980_1265_11ea_bc19_eebdc30eb93frow3_col11\" class=\"data row3 col11\" >-0.005</td>\n",
       "                        <td id=\"T_16211980_1265_11ea_bc19_eebdc30eb93frow3_col12\" class=\"data row3 col12\" >-0.004</td>\n",
       "                        <td id=\"T_16211980_1265_11ea_bc19_eebdc30eb93frow3_col13\" class=\"data row3 col13\" >4e-05</td>\n",
       "                        <td id=\"T_16211980_1265_11ea_bc19_eebdc30eb93frow3_col14\" class=\"data row3 col14\" >-0.003</td>\n",
       "            </tr>\n",
       "            <tr>\n",
       "                        <th id=\"T_16211980_1265_11ea_bc19_eebdc30eb93flevel0_row4\" class=\"row_heading level0 row4\" >DLong</th>\n",
       "                        <td id=\"T_16211980_1265_11ea_bc19_eebdc30eb93frow4_col0\" class=\"data row4 col0\" >-0.04</td>\n",
       "                        <td id=\"T_16211980_1265_11ea_bc19_eebdc30eb93frow4_col1\" class=\"data row4 col1\" >-0.04</td>\n",
       "                        <td id=\"T_16211980_1265_11ea_bc19_eebdc30eb93frow4_col2\" class=\"data row4 col2\" >0.9</td>\n",
       "                        <td id=\"T_16211980_1265_11ea_bc19_eebdc30eb93frow4_col3\" class=\"data row4 col3\" >0.1</td>\n",
       "                        <td id=\"T_16211980_1265_11ea_bc19_eebdc30eb93frow4_col4\" class=\"data row4 col4\" >1</td>\n",
       "                        <td id=\"T_16211980_1265_11ea_bc19_eebdc30eb93frow4_col5\" class=\"data row4 col5\" >0.1</td>\n",
       "                        <td id=\"T_16211980_1265_11ea_bc19_eebdc30eb93frow4_col6\" class=\"data row4 col6\" >-0.02</td>\n",
       "                        <td id=\"T_16211980_1265_11ea_bc19_eebdc30eb93frow4_col7\" class=\"data row4 col7\" >-0.001</td>\n",
       "                        <td id=\"T_16211980_1265_11ea_bc19_eebdc30eb93frow4_col8\" class=\"data row4 col8\" >-0.002</td>\n",
       "                        <td id=\"T_16211980_1265_11ea_bc19_eebdc30eb93frow4_col9\" class=\"data row4 col9\" >-0.001</td>\n",
       "                        <td id=\"T_16211980_1265_11ea_bc19_eebdc30eb93frow4_col10\" class=\"data row4 col10\" >0.003</td>\n",
       "                        <td id=\"T_16211980_1265_11ea_bc19_eebdc30eb93frow4_col11\" class=\"data row4 col11\" >0.003</td>\n",
       "                        <td id=\"T_16211980_1265_11ea_bc19_eebdc30eb93frow4_col12\" class=\"data row4 col12\" >-0.003</td>\n",
       "                        <td id=\"T_16211980_1265_11ea_bc19_eebdc30eb93frow4_col13\" class=\"data row4 col13\" >0.0007</td>\n",
       "                        <td id=\"T_16211980_1265_11ea_bc19_eebdc30eb93frow4_col14\" class=\"data row4 col14\" >0.004</td>\n",
       "            </tr>\n",
       "            <tr>\n",
       "                        <th id=\"T_16211980_1265_11ea_bc19_eebdc30eb93flevel0_row5\" class=\"row_heading level0 row5\" >DLatd</th>\n",
       "                        <td id=\"T_16211980_1265_11ea_bc19_eebdc30eb93frow5_col0\" class=\"data row5 col0\" >-0.004</td>\n",
       "                        <td id=\"T_16211980_1265_11ea_bc19_eebdc30eb93frow5_col1\" class=\"data row5 col1\" >-0.01</td>\n",
       "                        <td id=\"T_16211980_1265_11ea_bc19_eebdc30eb93frow5_col2\" class=\"data row5 col2\" >0.1</td>\n",
       "                        <td id=\"T_16211980_1265_11ea_bc19_eebdc30eb93frow5_col3\" class=\"data row5 col3\" >1</td>\n",
       "                        <td id=\"T_16211980_1265_11ea_bc19_eebdc30eb93frow5_col4\" class=\"data row5 col4\" >0.1</td>\n",
       "                        <td id=\"T_16211980_1265_11ea_bc19_eebdc30eb93frow5_col5\" class=\"data row5 col5\" >1</td>\n",
       "                        <td id=\"T_16211980_1265_11ea_bc19_eebdc30eb93frow5_col6\" class=\"data row5 col6\" >0.01</td>\n",
       "                        <td id=\"T_16211980_1265_11ea_bc19_eebdc30eb93frow5_col7\" class=\"data row5 col7\" >0.004</td>\n",
       "                        <td id=\"T_16211980_1265_11ea_bc19_eebdc30eb93frow5_col8\" class=\"data row5 col8\" >-0.004</td>\n",
       "                        <td id=\"T_16211980_1265_11ea_bc19_eebdc30eb93frow5_col9\" class=\"data row5 col9\" >-0.003</td>\n",
       "                        <td id=\"T_16211980_1265_11ea_bc19_eebdc30eb93frow5_col10\" class=\"data row5 col10\" >-0.003</td>\n",
       "                        <td id=\"T_16211980_1265_11ea_bc19_eebdc30eb93frow5_col11\" class=\"data row5 col11\" >-0.004</td>\n",
       "                        <td id=\"T_16211980_1265_11ea_bc19_eebdc30eb93frow5_col12\" class=\"data row5 col12\" >-0.004</td>\n",
       "                        <td id=\"T_16211980_1265_11ea_bc19_eebdc30eb93frow5_col13\" class=\"data row5 col13\" >0.0009</td>\n",
       "                        <td id=\"T_16211980_1265_11ea_bc19_eebdc30eb93frow5_col14\" class=\"data row5 col14\" >-0.002</td>\n",
       "            </tr>\n",
       "            <tr>\n",
       "                        <th id=\"T_16211980_1265_11ea_bc19_eebdc30eb93flevel0_row6\" class=\"row_heading level0 row6\" >Haversine</th>\n",
       "                        <td id=\"T_16211980_1265_11ea_bc19_eebdc30eb93frow6_col0\" class=\"data row6 col0\" >0.4</td>\n",
       "                        <td id=\"T_16211980_1265_11ea_bc19_eebdc30eb93frow6_col1\" class=\"data row6 col1\" >0.6</td>\n",
       "                        <td id=\"T_16211980_1265_11ea_bc19_eebdc30eb93frow6_col2\" class=\"data row6 col2\" >-0.04</td>\n",
       "                        <td id=\"T_16211980_1265_11ea_bc19_eebdc30eb93frow6_col3\" class=\"data row6 col3\" >0.009</td>\n",
       "                        <td id=\"T_16211980_1265_11ea_bc19_eebdc30eb93frow6_col4\" class=\"data row6 col4\" >-0.02</td>\n",
       "                        <td id=\"T_16211980_1265_11ea_bc19_eebdc30eb93frow6_col5\" class=\"data row6 col5\" >0.01</td>\n",
       "                        <td id=\"T_16211980_1265_11ea_bc19_eebdc30eb93frow6_col6\" class=\"data row6 col6\" >1</td>\n",
       "                        <td id=\"T_16211980_1265_11ea_bc19_eebdc30eb93frow6_col7\" class=\"data row6 col7\" >0.03</td>\n",
       "                        <td id=\"T_16211980_1265_11ea_bc19_eebdc30eb93frow6_col8\" class=\"data row6 col8\" >-0.005</td>\n",
       "                        <td id=\"T_16211980_1265_11ea_bc19_eebdc30eb93frow6_col9\" class=\"data row6 col9\" >0.002</td>\n",
       "                        <td id=\"T_16211980_1265_11ea_bc19_eebdc30eb93frow6_col10\" class=\"data row6 col10\" >0.007</td>\n",
       "                        <td id=\"T_16211980_1265_11ea_bc19_eebdc30eb93frow6_col11\" class=\"data row6 col11\" >-0.04</td>\n",
       "                        <td id=\"T_16211980_1265_11ea_bc19_eebdc30eb93frow6_col12\" class=\"data row6 col12\" >-0.01</td>\n",
       "                        <td id=\"T_16211980_1265_11ea_bc19_eebdc30eb93frow6_col13\" class=\"data row6 col13\" >0.002</td>\n",
       "                        <td id=\"T_16211980_1265_11ea_bc19_eebdc30eb93frow6_col14\" class=\"data row6 col14\" >-0.02</td>\n",
       "            </tr>\n",
       "            <tr>\n",
       "                        <th id=\"T_16211980_1265_11ea_bc19_eebdc30eb93flevel0_row7\" class=\"row_heading level0 row7\" >Temp</th>\n",
       "                        <td id=\"T_16211980_1265_11ea_bc19_eebdc30eb93frow7_col0\" class=\"data row7 col0\" >0.1</td>\n",
       "                        <td id=\"T_16211980_1265_11ea_bc19_eebdc30eb93frow7_col1\" class=\"data row7 col1\" >0.1</td>\n",
       "                        <td id=\"T_16211980_1265_11ea_bc19_eebdc30eb93frow7_col2\" class=\"data row7 col2\" >-0.004</td>\n",
       "                        <td id=\"T_16211980_1265_11ea_bc19_eebdc30eb93frow7_col3\" class=\"data row7 col3\" >0.003</td>\n",
       "                        <td id=\"T_16211980_1265_11ea_bc19_eebdc30eb93frow7_col4\" class=\"data row7 col4\" >-0.001</td>\n",
       "                        <td id=\"T_16211980_1265_11ea_bc19_eebdc30eb93frow7_col5\" class=\"data row7 col5\" >0.004</td>\n",
       "                        <td id=\"T_16211980_1265_11ea_bc19_eebdc30eb93frow7_col6\" class=\"data row7 col6\" >0.03</td>\n",
       "                        <td id=\"T_16211980_1265_11ea_bc19_eebdc30eb93frow7_col7\" class=\"data row7 col7\" >1</td>\n",
       "                        <td id=\"T_16211980_1265_11ea_bc19_eebdc30eb93frow7_col8\" class=\"data row7 col8\" >0.01</td>\n",
       "                        <td id=\"T_16211980_1265_11ea_bc19_eebdc30eb93frow7_col9\" class=\"data row7 col9\" >0.08</td>\n",
       "                        <td id=\"T_16211980_1265_11ea_bc19_eebdc30eb93frow7_col10\" class=\"data row7 col10\" >0.08</td>\n",
       "                        <td id=\"T_16211980_1265_11ea_bc19_eebdc30eb93frow7_col11\" class=\"data row7 col11\" >0.3</td>\n",
       "                        <td id=\"T_16211980_1265_11ea_bc19_eebdc30eb93frow7_col12\" class=\"data row7 col12\" >-0.1</td>\n",
       "                        <td id=\"T_16211980_1265_11ea_bc19_eebdc30eb93frow7_col13\" class=\"data row7 col13\" >0.9</td>\n",
       "                        <td id=\"T_16211980_1265_11ea_bc19_eebdc30eb93frow7_col14\" class=\"data row7 col14\" >-0.2</td>\n",
       "            </tr>\n",
       "            <tr>\n",
       "                        <th id=\"T_16211980_1265_11ea_bc19_eebdc30eb93flevel0_row8\" class=\"row_heading level0 row8\" >Precip</th>\n",
       "                        <td id=\"T_16211980_1265_11ea_bc19_eebdc30eb93frow8_col0\" class=\"data row8 col0\" >-0.009</td>\n",
       "                        <td id=\"T_16211980_1265_11ea_bc19_eebdc30eb93frow8_col1\" class=\"data row8 col1\" >-0.009</td>\n",
       "                        <td id=\"T_16211980_1265_11ea_bc19_eebdc30eb93frow8_col2\" class=\"data row8 col2\" >-0.001</td>\n",
       "                        <td id=\"T_16211980_1265_11ea_bc19_eebdc30eb93frow8_col3\" class=\"data row8 col3\" >-0.004</td>\n",
       "                        <td id=\"T_16211980_1265_11ea_bc19_eebdc30eb93frow8_col4\" class=\"data row8 col4\" >-0.002</td>\n",
       "                        <td id=\"T_16211980_1265_11ea_bc19_eebdc30eb93frow8_col5\" class=\"data row8 col5\" >-0.004</td>\n",
       "                        <td id=\"T_16211980_1265_11ea_bc19_eebdc30eb93frow8_col6\" class=\"data row8 col6\" >-0.005</td>\n",
       "                        <td id=\"T_16211980_1265_11ea_bc19_eebdc30eb93frow8_col7\" class=\"data row8 col7\" >0.01</td>\n",
       "                        <td id=\"T_16211980_1265_11ea_bc19_eebdc30eb93frow8_col8\" class=\"data row8 col8\" >1</td>\n",
       "                        <td id=\"T_16211980_1265_11ea_bc19_eebdc30eb93frow8_col9\" class=\"data row8 col9\" >-0.01</td>\n",
       "                        <td id=\"T_16211980_1265_11ea_bc19_eebdc30eb93frow8_col10\" class=\"data row8 col10\" >0.1</td>\n",
       "                        <td id=\"T_16211980_1265_11ea_bc19_eebdc30eb93frow8_col11\" class=\"data row8 col11\" >-0.03</td>\n",
       "                        <td id=\"T_16211980_1265_11ea_bc19_eebdc30eb93frow8_col12\" class=\"data row8 col12\" >0.01</td>\n",
       "                        <td id=\"T_16211980_1265_11ea_bc19_eebdc30eb93frow8_col13\" class=\"data row8 col13\" >0.003</td>\n",
       "                        <td id=\"T_16211980_1265_11ea_bc19_eebdc30eb93frow8_col14\" class=\"data row8 col14\" >-0.03</td>\n",
       "            </tr>\n",
       "            <tr>\n",
       "                        <th id=\"T_16211980_1265_11ea_bc19_eebdc30eb93flevel0_row9\" class=\"row_heading level0 row9\" >Wind</th>\n",
       "                        <td id=\"T_16211980_1265_11ea_bc19_eebdc30eb93frow9_col0\" class=\"data row9 col0\" >0.07</td>\n",
       "                        <td id=\"T_16211980_1265_11ea_bc19_eebdc30eb93frow9_col1\" class=\"data row9 col1\" >0.03</td>\n",
       "                        <td id=\"T_16211980_1265_11ea_bc19_eebdc30eb93frow9_col2\" class=\"data row9 col2\" >-0.003</td>\n",
       "                        <td id=\"T_16211980_1265_11ea_bc19_eebdc30eb93frow9_col3\" class=\"data row9 col3\" >-0.005</td>\n",
       "                        <td id=\"T_16211980_1265_11ea_bc19_eebdc30eb93frow9_col4\" class=\"data row9 col4\" >-0.001</td>\n",
       "                        <td id=\"T_16211980_1265_11ea_bc19_eebdc30eb93frow9_col5\" class=\"data row9 col5\" >-0.003</td>\n",
       "                        <td id=\"T_16211980_1265_11ea_bc19_eebdc30eb93frow9_col6\" class=\"data row9 col6\" >0.002</td>\n",
       "                        <td id=\"T_16211980_1265_11ea_bc19_eebdc30eb93frow9_col7\" class=\"data row9 col7\" >0.08</td>\n",
       "                        <td id=\"T_16211980_1265_11ea_bc19_eebdc30eb93frow9_col8\" class=\"data row9 col8\" >-0.01</td>\n",
       "                        <td id=\"T_16211980_1265_11ea_bc19_eebdc30eb93frow9_col9\" class=\"data row9 col9\" >1</td>\n",
       "                        <td id=\"T_16211980_1265_11ea_bc19_eebdc30eb93frow9_col10\" class=\"data row9 col10\" >-0.3</td>\n",
       "                        <td id=\"T_16211980_1265_11ea_bc19_eebdc30eb93frow9_col11\" class=\"data row9 col11\" >0.3</td>\n",
       "                        <td id=\"T_16211980_1265_11ea_bc19_eebdc30eb93frow9_col12\" class=\"data row9 col12\" >-0.01</td>\n",
       "                        <td id=\"T_16211980_1265_11ea_bc19_eebdc30eb93frow9_col13\" class=\"data row9 col13\" >0.2</td>\n",
       "                        <td id=\"T_16211980_1265_11ea_bc19_eebdc30eb93frow9_col14\" class=\"data row9 col14\" >0.1</td>\n",
       "            </tr>\n",
       "            <tr>\n",
       "                        <th id=\"T_16211980_1265_11ea_bc19_eebdc30eb93flevel0_row10\" class=\"row_heading level0 row10\" >Humid</th>\n",
       "                        <td id=\"T_16211980_1265_11ea_bc19_eebdc30eb93frow10_col0\" class=\"data row10 col0\" >-0.1</td>\n",
       "                        <td id=\"T_16211980_1265_11ea_bc19_eebdc30eb93frow10_col1\" class=\"data row10 col1\" >-0.03</td>\n",
       "                        <td id=\"T_16211980_1265_11ea_bc19_eebdc30eb93frow10_col2\" class=\"data row10 col2\" >0.004</td>\n",
       "                        <td id=\"T_16211980_1265_11ea_bc19_eebdc30eb93frow10_col3\" class=\"data row10 col3\" >-0.001</td>\n",
       "                        <td id=\"T_16211980_1265_11ea_bc19_eebdc30eb93frow10_col4\" class=\"data row10 col4\" >0.003</td>\n",
       "                        <td id=\"T_16211980_1265_11ea_bc19_eebdc30eb93frow10_col5\" class=\"data row10 col5\" >-0.003</td>\n",
       "                        <td id=\"T_16211980_1265_11ea_bc19_eebdc30eb93frow10_col6\" class=\"data row10 col6\" >0.007</td>\n",
       "                        <td id=\"T_16211980_1265_11ea_bc19_eebdc30eb93frow10_col7\" class=\"data row10 col7\" >0.08</td>\n",
       "                        <td id=\"T_16211980_1265_11ea_bc19_eebdc30eb93frow10_col8\" class=\"data row10 col8\" >0.1</td>\n",
       "                        <td id=\"T_16211980_1265_11ea_bc19_eebdc30eb93frow10_col9\" class=\"data row10 col9\" >-0.3</td>\n",
       "                        <td id=\"T_16211980_1265_11ea_bc19_eebdc30eb93frow10_col10\" class=\"data row10 col10\" >1</td>\n",
       "                        <td id=\"T_16211980_1265_11ea_bc19_eebdc30eb93frow10_col11\" class=\"data row10 col11\" >-0.5</td>\n",
       "                        <td id=\"T_16211980_1265_11ea_bc19_eebdc30eb93frow10_col12\" class=\"data row10 col12\" >0.06</td>\n",
       "                        <td id=\"T_16211980_1265_11ea_bc19_eebdc30eb93frow10_col13\" class=\"data row10 col13\" >-0.1</td>\n",
       "                        <td id=\"T_16211980_1265_11ea_bc19_eebdc30eb93frow10_col14\" class=\"data row10 col14\" >-0.2</td>\n",
       "            </tr>\n",
       "            <tr>\n",
       "                        <th id=\"T_16211980_1265_11ea_bc19_eebdc30eb93flevel0_row11\" class=\"row_heading level0 row11\" >Solar</th>\n",
       "                        <td id=\"T_16211980_1265_11ea_bc19_eebdc30eb93frow11_col0\" class=\"data row11 col0\" >0.07</td>\n",
       "                        <td id=\"T_16211980_1265_11ea_bc19_eebdc30eb93frow11_col1\" class=\"data row11 col1\" >-0.003</td>\n",
       "                        <td id=\"T_16211980_1265_11ea_bc19_eebdc30eb93frow11_col2\" class=\"data row11 col2\" >0.008</td>\n",
       "                        <td id=\"T_16211980_1265_11ea_bc19_eebdc30eb93frow11_col3\" class=\"data row11 col3\" >-0.005</td>\n",
       "                        <td id=\"T_16211980_1265_11ea_bc19_eebdc30eb93frow11_col4\" class=\"data row11 col4\" >0.003</td>\n",
       "                        <td id=\"T_16211980_1265_11ea_bc19_eebdc30eb93frow11_col5\" class=\"data row11 col5\" >-0.004</td>\n",
       "                        <td id=\"T_16211980_1265_11ea_bc19_eebdc30eb93frow11_col6\" class=\"data row11 col6\" >-0.04</td>\n",
       "                        <td id=\"T_16211980_1265_11ea_bc19_eebdc30eb93frow11_col7\" class=\"data row11 col7\" >0.3</td>\n",
       "                        <td id=\"T_16211980_1265_11ea_bc19_eebdc30eb93frow11_col8\" class=\"data row11 col8\" >-0.03</td>\n",
       "                        <td id=\"T_16211980_1265_11ea_bc19_eebdc30eb93frow11_col9\" class=\"data row11 col9\" >0.3</td>\n",
       "                        <td id=\"T_16211980_1265_11ea_bc19_eebdc30eb93frow11_col10\" class=\"data row11 col10\" >-0.5</td>\n",
       "                        <td id=\"T_16211980_1265_11ea_bc19_eebdc30eb93frow11_col11\" class=\"data row11 col11\" >1</td>\n",
       "                        <td id=\"T_16211980_1265_11ea_bc19_eebdc30eb93frow11_col12\" class=\"data row11 col12\" >-0.03</td>\n",
       "                        <td id=\"T_16211980_1265_11ea_bc19_eebdc30eb93frow11_col13\" class=\"data row11 col13\" >0.6</td>\n",
       "                        <td id=\"T_16211980_1265_11ea_bc19_eebdc30eb93frow11_col14\" class=\"data row11 col14\" >0.2</td>\n",
       "            </tr>\n",
       "            <tr>\n",
       "                        <th id=\"T_16211980_1265_11ea_bc19_eebdc30eb93flevel0_row12\" class=\"row_heading level0 row12\" >Snow</th>\n",
       "                        <td id=\"T_16211980_1265_11ea_bc19_eebdc30eb93frow12_col0\" class=\"data row12 col0\" >-0.02</td>\n",
       "                        <td id=\"T_16211980_1265_11ea_bc19_eebdc30eb93frow12_col1\" class=\"data row12 col1\" >-0.02</td>\n",
       "                        <td id=\"T_16211980_1265_11ea_bc19_eebdc30eb93frow12_col2\" class=\"data row12 col2\" >-0.003</td>\n",
       "                        <td id=\"T_16211980_1265_11ea_bc19_eebdc30eb93frow12_col3\" class=\"data row12 col3\" >-0.004</td>\n",
       "                        <td id=\"T_16211980_1265_11ea_bc19_eebdc30eb93frow12_col4\" class=\"data row12 col4\" >-0.003</td>\n",
       "                        <td id=\"T_16211980_1265_11ea_bc19_eebdc30eb93frow12_col5\" class=\"data row12 col5\" >-0.004</td>\n",
       "                        <td id=\"T_16211980_1265_11ea_bc19_eebdc30eb93frow12_col6\" class=\"data row12 col6\" >-0.01</td>\n",
       "                        <td id=\"T_16211980_1265_11ea_bc19_eebdc30eb93frow12_col7\" class=\"data row12 col7\" >-0.1</td>\n",
       "                        <td id=\"T_16211980_1265_11ea_bc19_eebdc30eb93frow12_col8\" class=\"data row12 col8\" >0.01</td>\n",
       "                        <td id=\"T_16211980_1265_11ea_bc19_eebdc30eb93frow12_col9\" class=\"data row12 col9\" >-0.01</td>\n",
       "                        <td id=\"T_16211980_1265_11ea_bc19_eebdc30eb93frow12_col10\" class=\"data row12 col10\" >0.06</td>\n",
       "                        <td id=\"T_16211980_1265_11ea_bc19_eebdc30eb93frow12_col11\" class=\"data row12 col11\" >-0.03</td>\n",
       "                        <td id=\"T_16211980_1265_11ea_bc19_eebdc30eb93frow12_col12\" class=\"data row12 col12\" >1</td>\n",
       "                        <td id=\"T_16211980_1265_11ea_bc19_eebdc30eb93frow12_col13\" class=\"data row12 col13\" >-0.1</td>\n",
       "                        <td id=\"T_16211980_1265_11ea_bc19_eebdc30eb93frow12_col14\" class=\"data row12 col14\" >0.008</td>\n",
       "            </tr>\n",
       "            <tr>\n",
       "                        <th id=\"T_16211980_1265_11ea_bc19_eebdc30eb93flevel0_row13\" class=\"row_heading level0 row13\" >GroundTemp</th>\n",
       "                        <td id=\"T_16211980_1265_11ea_bc19_eebdc30eb93frow13_col0\" class=\"data row13 col0\" >0.1</td>\n",
       "                        <td id=\"T_16211980_1265_11ea_bc19_eebdc30eb93frow13_col1\" class=\"data row13 col1\" >0.07</td>\n",
       "                        <td id=\"T_16211980_1265_11ea_bc19_eebdc30eb93frow13_col2\" class=\"data row13 col2\" >0.0004</td>\n",
       "                        <td id=\"T_16211980_1265_11ea_bc19_eebdc30eb93frow13_col3\" class=\"data row13 col3\" >4e-05</td>\n",
       "                        <td id=\"T_16211980_1265_11ea_bc19_eebdc30eb93frow13_col4\" class=\"data row13 col4\" >0.0007</td>\n",
       "                        <td id=\"T_16211980_1265_11ea_bc19_eebdc30eb93frow13_col5\" class=\"data row13 col5\" >0.0009</td>\n",
       "                        <td id=\"T_16211980_1265_11ea_bc19_eebdc30eb93frow13_col6\" class=\"data row13 col6\" >0.002</td>\n",
       "                        <td id=\"T_16211980_1265_11ea_bc19_eebdc30eb93frow13_col7\" class=\"data row13 col7\" >0.9</td>\n",
       "                        <td id=\"T_16211980_1265_11ea_bc19_eebdc30eb93frow13_col8\" class=\"data row13 col8\" >0.003</td>\n",
       "                        <td id=\"T_16211980_1265_11ea_bc19_eebdc30eb93frow13_col9\" class=\"data row13 col9\" >0.2</td>\n",
       "                        <td id=\"T_16211980_1265_11ea_bc19_eebdc30eb93frow13_col10\" class=\"data row13 col10\" >-0.1</td>\n",
       "                        <td id=\"T_16211980_1265_11ea_bc19_eebdc30eb93frow13_col11\" class=\"data row13 col11\" >0.6</td>\n",
       "                        <td id=\"T_16211980_1265_11ea_bc19_eebdc30eb93frow13_col12\" class=\"data row13 col12\" >-0.1</td>\n",
       "                        <td id=\"T_16211980_1265_11ea_bc19_eebdc30eb93frow13_col13\" class=\"data row13 col13\" >1</td>\n",
       "                        <td id=\"T_16211980_1265_11ea_bc19_eebdc30eb93frow13_col14\" class=\"data row13 col14\" >-0.1</td>\n",
       "            </tr>\n",
       "            <tr>\n",
       "                        <th id=\"T_16211980_1265_11ea_bc19_eebdc30eb93flevel0_row14\" class=\"row_heading level0 row14\" >Dust</th>\n",
       "                        <td id=\"T_16211980_1265_11ea_bc19_eebdc30eb93frow14_col0\" class=\"data row14 col0\" >-0.02</td>\n",
       "                        <td id=\"T_16211980_1265_11ea_bc19_eebdc30eb93frow14_col1\" class=\"data row14 col1\" >-0.04</td>\n",
       "                        <td id=\"T_16211980_1265_11ea_bc19_eebdc30eb93frow14_col2\" class=\"data row14 col2\" >0.005</td>\n",
       "                        <td id=\"T_16211980_1265_11ea_bc19_eebdc30eb93frow14_col3\" class=\"data row14 col3\" >-0.003</td>\n",
       "                        <td id=\"T_16211980_1265_11ea_bc19_eebdc30eb93frow14_col4\" class=\"data row14 col4\" >0.004</td>\n",
       "                        <td id=\"T_16211980_1265_11ea_bc19_eebdc30eb93frow14_col5\" class=\"data row14 col5\" >-0.002</td>\n",
       "                        <td id=\"T_16211980_1265_11ea_bc19_eebdc30eb93frow14_col6\" class=\"data row14 col6\" >-0.02</td>\n",
       "                        <td id=\"T_16211980_1265_11ea_bc19_eebdc30eb93frow14_col7\" class=\"data row14 col7\" >-0.2</td>\n",
       "                        <td id=\"T_16211980_1265_11ea_bc19_eebdc30eb93frow14_col8\" class=\"data row14 col8\" >-0.03</td>\n",
       "                        <td id=\"T_16211980_1265_11ea_bc19_eebdc30eb93frow14_col9\" class=\"data row14 col9\" >0.1</td>\n",
       "                        <td id=\"T_16211980_1265_11ea_bc19_eebdc30eb93frow14_col10\" class=\"data row14 col10\" >-0.2</td>\n",
       "                        <td id=\"T_16211980_1265_11ea_bc19_eebdc30eb93frow14_col11\" class=\"data row14 col11\" >0.2</td>\n",
       "                        <td id=\"T_16211980_1265_11ea_bc19_eebdc30eb93frow14_col12\" class=\"data row14 col12\" >0.008</td>\n",
       "                        <td id=\"T_16211980_1265_11ea_bc19_eebdc30eb93frow14_col13\" class=\"data row14 col13\" >-0.1</td>\n",
       "                        <td id=\"T_16211980_1265_11ea_bc19_eebdc30eb93frow14_col14\" class=\"data row14 col14\" >1</td>\n",
       "            </tr>\n",
       "    </tbody></table>"
      ],
      "text/plain": [
       "<pandas.io.formats.style.Styler at 0x231ad216be0>"
      ]
     },
     "execution_count": 20,
     "metadata": {},
     "output_type": "execute_result"
    }
   ],
   "source": [
    "# Limit number of digits:\n",
    "corr.style.background_gradient(cmap='coolwarm').set_precision(1)"
   ]
  },
  {
   "cell_type": "code",
   "execution_count": 28,
   "metadata": {},
   "outputs": [],
   "source": [
    "noweather=full_data[[\n",
    "        'Duration', 'PLong', 'PLatd', 'DLong', 'DLatd', 'Haversine',\n",
    "       'Pmonth', 'Pday', 'Phour', 'Pmin', 'PDweek', 'Dmonth', 'Dday', 'Dhour',\n",
    "       'Dmin', 'DDweek']]\n",
    "        "
   ]
  },
  {
   "cell_type": "code",
   "execution_count": 29,
   "metadata": {},
   "outputs": [
    {
     "data": {
      "text/plain": [
       "Index(['Duration', 'PLong', 'PLatd', 'DLong', 'DLatd', 'Haversine', 'Pmonth',\n",
       "       'Pday', 'Phour', 'Pmin', 'PDweek', 'Dmonth', 'Dday', 'Dhour', 'Dmin',\n",
       "       'DDweek'],\n",
       "      dtype='object')"
      ]
     },
     "execution_count": 29,
     "metadata": {},
     "output_type": "execute_result"
    }
   ],
   "source": [
    "noweather.columns"
   ]
  },
  {
   "cell_type": "code",
   "execution_count": 30,
   "metadata": {},
   "outputs": [],
   "source": [
    "df, y, nas = proc_df(noweather, 'Duration')"
   ]
  },
  {
   "cell_type": "code",
   "execution_count": 31,
   "metadata": {},
   "outputs": [
    {
     "data": {
      "text/plain": [
       "((7200854, 15), (2400285, 15), (7200854,), (2400285,))"
      ]
     },
     "execution_count": 31,
     "metadata": {},
     "output_type": "execute_result"
    }
   ],
   "source": [
    "from sklearn.model_selection import train_test_split\n",
    "X = df\n",
    "Y = y\n",
    "X_train,X_test,Y_train,Y_test=train_test_split(X,Y,test_size=0.25,random_state=123)\n",
    "X_train.shape,X_test.shape,Y_train.shape,Y_test.shape"
   ]
  },
  {
   "cell_type": "code",
   "execution_count": 33,
   "metadata": {},
   "outputs": [
    {
     "name": "stderr",
     "output_type": "stream",
     "text": [
      "C:\\Users\\Sathishkumar V E\\Anaconda3\\lib\\site-packages\\sklearn\\ensemble\\forest.py:245: FutureWarning: The default value of n_estimators will change from 10 in version 0.20 to 100 in 0.22.\n",
      "  \"10 in version 0.20 to 100 in 0.22.\", FutureWarning)\n"
     ]
    },
    {
     "name": "stdout",
     "output_type": "stream",
     "text": [
      "[1.6303793760823992, 3.6078171292685175, 0.9957585130085491, 0.9792922194631585, 0.20000000000000018, 0.5999999999999996, 0.5862110478211587, 1.4123581643473477]\n"
     ]
    }
   ],
   "source": [
    "m = RandomForestRegressor()\n",
    "m.fit(X_train, Y_train)\n",
    "print_score(m)"
   ]
  },
  {
   "cell_type": "code",
   "execution_count": 32,
   "metadata": {},
   "outputs": [
    {
     "name": "stdout",
     "output_type": "stream",
     "text": [
      "[23.04443331959435, 23.070752861409186, 0.15263043898968964, 0.1532249460535947, 12.81628531321445, 12.811718214809503, 16.516036335187902, 16.52687041927414]\n"
     ]
    }
   ],
   "source": [
    "from sklearn.linear_model import LinearRegression\n",
    "lModel = LinearRegression()\n",
    "lModel.fit(X_train,Y_train)\n",
    "print_score(lModel)"
   ]
  },
  {
   "cell_type": "code",
   "execution_count": 26,
   "metadata": {},
   "outputs": [
    {
     "ename": "NameError",
     "evalue": "name 'KNeighborsRegressor' is not defined",
     "output_type": "error",
     "traceback": [
      "\u001b[1;31m---------------------------------------------------------------------------\u001b[0m",
      "\u001b[1;31mNameError\u001b[0m                                 Traceback (most recent call last)",
      "\u001b[1;32m<ipython-input-26-aa209b655c9c>\u001b[0m in \u001b[0;36m<module>\u001b[1;34m\u001b[0m\n\u001b[1;32m----> 1\u001b[1;33m \u001b[0mknnr\u001b[0m \u001b[1;33m=\u001b[0m \u001b[0mKNeighborsRegressor\u001b[0m\u001b[1;33m(\u001b[0m\u001b[1;33m)\u001b[0m\u001b[1;33m\u001b[0m\u001b[1;33m\u001b[0m\u001b[0m\n\u001b[0m\u001b[0;32m      2\u001b[0m \u001b[0mknnr\u001b[0m\u001b[1;33m.\u001b[0m\u001b[0mfit\u001b[0m\u001b[1;33m(\u001b[0m\u001b[0mX_train\u001b[0m\u001b[1;33m,\u001b[0m\u001b[0mY_train\u001b[0m\u001b[1;33m)\u001b[0m\u001b[1;33m\u001b[0m\u001b[1;33m\u001b[0m\u001b[0m\n\u001b[0;32m      3\u001b[0m \u001b[0mprint_score\u001b[0m\u001b[1;33m(\u001b[0m\u001b[0mknnr\u001b[0m\u001b[1;33m)\u001b[0m\u001b[1;33m\u001b[0m\u001b[1;33m\u001b[0m\u001b[0m\n",
      "\u001b[1;31mNameError\u001b[0m: name 'KNeighborsRegressor' is not defined"
     ]
    }
   ],
   "source": [
    "from sklearn.neighbors import KNeighborsRegressor\n",
    "knnr = KNeighborsRegressor()\n",
    "knnr.fit(X_train,Y_train)\n",
    "print_score(knnr)"
   ]
  },
  {
   "cell_type": "code",
   "execution_count": null,
   "metadata": {},
   "outputs": [],
   "source": [
    "from sklearn.ensemble import GradientBoostingRegressor\n",
    "GBR = GradientBoostingRegressor()\n",
    "GBR.fit(X_train,Y_train)\n",
    "print_score(GBR)"
   ]
  },
  {
   "cell_type": "code",
   "execution_count": null,
   "metadata": {},
   "outputs": [],
   "source": []
  },
  {
   "cell_type": "code",
   "execution_count": null,
   "metadata": {},
   "outputs": [],
   "source": []
  },
  {
   "cell_type": "code",
   "execution_count": null,
   "metadata": {},
   "outputs": [],
   "source": []
  },
  {
   "cell_type": "code",
   "execution_count": null,
   "metadata": {},
   "outputs": [],
   "source": []
  },
  {
   "cell_type": "code",
   "execution_count": null,
   "metadata": {},
   "outputs": [],
   "source": []
  },
  {
   "cell_type": "code",
   "execution_count": null,
   "metadata": {},
   "outputs": [],
   "source": []
  },
  {
   "cell_type": "code",
   "execution_count": 18,
   "metadata": {},
   "outputs": [
    {
     "data": {
      "text/plain": [
       "Duration      0\n",
       "Distance      0\n",
       "PLong         0\n",
       "PLatd         0\n",
       "DLong         0\n",
       "DLatd         0\n",
       "Haversine     0\n",
       "Pmonth        0\n",
       "Pday          0\n",
       "Phour         0\n",
       "Pmin          0\n",
       "PDweek        0\n",
       "Dmonth        0\n",
       "Dday          0\n",
       "Dhour         0\n",
       "Dmin          0\n",
       "DDweek        0\n",
       "Temp          0\n",
       "Precip        0\n",
       "Wind          0\n",
       "Humid         0\n",
       "Solar         0\n",
       "Snow          0\n",
       "GroundTemp    0\n",
       "Dust          0\n",
       "dtype: int64"
      ]
     },
     "execution_count": 18,
     "metadata": {},
     "output_type": "execute_result"
    }
   ],
   "source": [
    "full_data.isnull().sum()"
   ]
  },
  {
   "cell_type": "code",
   "execution_count": 8,
   "metadata": {},
   "outputs": [
    {
     "data": {
      "text/plain": [
       "Index(['Duration', 'Distance', 'PLong', 'PLatd', 'DLong', 'DLatd', 'Haversine',\n",
       "       'Pmonth', 'Pday', 'Phour', 'Pmin', 'PDweek', 'Dmonth', 'Dday', 'Dhour',\n",
       "       'Dmin', 'DDweek', 'Temp', 'Precip', 'Wind', 'Humid', 'Solar', 'Snow',\n",
       "       'GroundTemp', 'Dust'],\n",
       "      dtype='object')"
      ]
     },
     "execution_count": 8,
     "metadata": {},
     "output_type": "execute_result"
    }
   ],
   "source": [
    "full_data.columns"
   ]
  },
  {
   "cell_type": "code",
   "execution_count": 9,
   "metadata": {},
   "outputs": [],
   "source": [
    "df_raw=full_data"
   ]
  },
  {
   "cell_type": "code",
   "execution_count": 10,
   "metadata": {},
   "outputs": [
    {
     "data": {
      "text/plain": [
       "Index(['Duration', 'Distance', 'PLong', 'PLatd', 'DLong', 'DLatd', 'Haversine',\n",
       "       'Pmonth', 'Pday', 'Phour', 'Pmin', 'PDweek', 'Dmonth', 'Dday', 'Dhour',\n",
       "       'Dmin', 'DDweek', 'Temp', 'Precip', 'Wind', 'Humid', 'Solar', 'Snow',\n",
       "       'GroundTemp', 'Dust'],\n",
       "      dtype='object')"
      ]
     },
     "execution_count": 10,
     "metadata": {},
     "output_type": "execute_result"
    }
   ],
   "source": [
    "df_raw.columns"
   ]
  },
  {
   "cell_type": "code",
   "execution_count": 11,
   "metadata": {},
   "outputs": [],
   "source": [
    "from sklearn.utils import check_array"
   ]
  },
  {
   "cell_type": "code",
   "execution_count": 12,
   "metadata": {},
   "outputs": [],
   "source": [
    "def rmse(x,y): \n",
    "    return math.sqrt(((x-y)**2).mean())\n",
    "from sklearn.metrics import median_absolute_error\n",
    "\n",
    "def print_score(m):\n",
    "    res = [rmse(m.predict(X_train), Y_train),rmse(m.predict(X_test), Y_test),\n",
    "           m.score(X_train, Y_train),m.score(X_test, Y_test),\n",
    "           median_absolute_error(m.predict(X_train), Y_train),median_absolute_error(m.predict(X_test), Y_test),\n",
    "           metrics.mean_absolute_error(m.predict(X_train), Y_train),metrics.mean_absolute_error(m.predict(X_test), Y_test),\n",
    "          \n",
    "          ]\n",
    "    \n",
    "\n",
    "    print(res)"
   ]
  },
  {
   "cell_type": "code",
   "execution_count": 13,
   "metadata": {},
   "outputs": [],
   "source": [
    "df, y, nas = proc_df(df_raw, 'Duration')"
   ]
  },
  {
   "cell_type": "code",
   "execution_count": null,
   "metadata": {},
   "outputs": [
    {
     "name": "stderr",
     "output_type": "stream",
     "text": [
      "C:\\Users\\Sathishkumar V E\\Anaconda3\\lib\\site-packages\\sklearn\\ensemble\\forest.py:245: FutureWarning: The default value of n_estimators will change from 10 in version 0.20 to 100 in 0.22.\n",
      "  \"10 in version 0.20 to 100 in 0.22.\", FutureWarning)\n"
     ]
    }
   ],
   "source": [
    "m = RandomForestRegressor(n_jobs=-1)\n",
    "m.fit(df, y)\n",
    "m.score(df,y)"
   ]
  },
  {
   "cell_type": "code",
   "execution_count": 11,
   "metadata": {},
   "outputs": [
    {
     "data": {
      "text/plain": [
       "(9601139, 24)"
      ]
     },
     "execution_count": 11,
     "metadata": {},
     "output_type": "execute_result"
    }
   ],
   "source": [
    "df.shape"
   ]
  },
  {
   "cell_type": "code",
   "execution_count": 14,
   "metadata": {},
   "outputs": [
    {
     "data": {
      "text/plain": [
       "((7200854, 24), (2400285, 24), (7200854,), (2400285,))"
      ]
     },
     "execution_count": 14,
     "metadata": {},
     "output_type": "execute_result"
    }
   ],
   "source": [
    "from sklearn.model_selection import train_test_split\n",
    "X = df\n",
    "Y = y\n",
    "X_train,X_test,Y_train,Y_test=train_test_split(X,Y,test_size=0.25,random_state=123)\n",
    "X_train.shape,X_test.shape,Y_train.shape,Y_test.shape"
   ]
  },
  {
   "cell_type": "code",
   "execution_count": 15,
   "metadata": {},
   "outputs": [],
   "source": [
    "from sklearn.linear_model import LinearRegression"
   ]
  },
  {
   "cell_type": "code",
   "execution_count": 16,
   "metadata": {},
   "outputs": [
    {
     "name": "stdout",
     "output_type": "stream",
     "text": [
      "[16.45886488845118, 16.481389449929672, 0.5677444744131879, 0.5678523409640224, 6.905972718524993, 6.908170860202411, 10.119534052035402, 10.127076921937325]\n"
     ]
    }
   ],
   "source": [
    "lModel = LinearRegression()\n",
    "lModel.fit(X_train,Y_train)\n",
    "print_score(lModel)"
   ]
  },
  {
   "cell_type": "code",
   "execution_count": 17,
   "metadata": {},
   "outputs": [
    {
     "data": {
      "text/plain": [
       "LinearRegression(copy_X=True, fit_intercept=True, n_jobs=None, normalize=False)"
      ]
     },
     "execution_count": 17,
     "metadata": {},
     "output_type": "execute_result"
    }
   ],
   "source": [
    "lModel"
   ]
  },
  {
   "cell_type": "code",
   "execution_count": 14,
   "metadata": {},
   "outputs": [
    {
     "name": "stdout",
     "output_type": "stream",
     "text": [
      "[4.331174479128638, 7.271350956031547, 0.9700668685930527, 0.9158847510681293, 1.0492302489177492, 1.9632440476190496, 2.148957077239548, 3.874116323578044]\n"
     ]
    }
   ],
   "source": [
    "m = RandomForestRegressor(n_estimators=40, min_samples_leaf=3, max_features=0.5,n_jobs=-1)\n",
    "m.fit(X_train, Y_train)\n",
    "print_score(m)"
   ]
  },
  {
   "cell_type": "code",
   "execution_count": 15,
   "metadata": {},
   "outputs": [
    {
     "name": "stderr",
     "output_type": "stream",
     "text": [
      "C:\\Users\\Sathishkumar V E\\Anaconda3\\lib\\site-packages\\sklearn\\ensemble\\forest.py:245: FutureWarning: The default value of n_estimators will change from 10 in version 0.20 to 100 in 0.22.\n",
      "  \"10 in version 0.20 to 100 in 0.22.\", FutureWarning)\n"
     ]
    },
    {
     "name": "stdout",
     "output_type": "stream",
     "text": [
      "[2.7621656876541736, 6.2566613880723345, 0.9878258052318115, 0.9377226930353788, 0.4000000000000057, 1.2000000000000002, 1.214925612111045, 2.9272624659021056]\n"
     ]
    }
   ],
   "source": [
    "m = RandomForestRegressor()\n",
    "m.fit(X_train, Y_train)\n",
    "print_score(m)"
   ]
  },
  {
   "cell_type": "code",
   "execution_count": 29,
   "metadata": {},
   "outputs": [
    {
     "data": {
      "text/plain": [
       "RandomForestRegressor(bootstrap=True, criterion='mse', max_depth=None,\n",
       "                      max_features='auto', max_leaf_nodes=None,\n",
       "                      min_impurity_decrease=0.0, min_impurity_split=None,\n",
       "                      min_samples_leaf=1, min_samples_split=2,\n",
       "                      min_weight_fraction_leaf=0.0, n_estimators=10,\n",
       "                      n_jobs=None, oob_score=False, random_state=None,\n",
       "                      verbose=0, warm_start=False)"
      ]
     },
     "execution_count": 29,
     "metadata": {},
     "output_type": "execute_result"
    }
   ],
   "source": [
    "m"
   ]
  },
  {
   "cell_type": "code",
   "execution_count": 16,
   "metadata": {},
   "outputs": [],
   "source": [
    "from sklearn.neighbors import KNeighborsRegressor"
   ]
  },
  {
   "cell_type": "code",
   "execution_count": 17,
   "metadata": {},
   "outputs": [
    {
     "name": "stdout",
     "output_type": "stream",
     "text": [
      "[11.290051794363954, 13.93889654380706, 0.7966085642527805, 0.6908983590097277, 2.0, 2.5999999999999996, 5.531114587242021, 6.832913424864136]\n"
     ]
    }
   ],
   "source": [
    "knnr = KNeighborsRegressor()\n",
    "knnr.fit(X_train,Y_train)\n",
    "print_score(knnr)"
   ]
  },
  {
   "cell_type": "code",
   "execution_count": 31,
   "metadata": {},
   "outputs": [
    {
     "data": {
      "text/plain": [
       "KNeighborsRegressor(algorithm='auto', leaf_size=30, metric='minkowski',\n",
       "                    metric_params=None, n_jobs=None, n_neighbors=5, p=2,\n",
       "                    weights='uniform')"
      ]
     },
     "execution_count": 31,
     "metadata": {},
     "output_type": "execute_result"
    }
   ],
   "source": [
    "knnr"
   ]
  },
  {
   "cell_type": "code",
   "execution_count": 18,
   "metadata": {},
   "outputs": [
    {
     "name": "stdout",
     "output_type": "stream",
     "text": [
      "[12.553292871904, 12.585133618096341, 0.748547408578075, 0.7480234165666263, 3.7455903394698495, 3.7568582590226693, 7.3586748067992644, 7.375745102866833]\n"
     ]
    }
   ],
   "source": [
    "from sklearn.ensemble import GradientBoostingRegressor\n",
    "GBR = GradientBoostingRegressor()\n",
    "GBR.fit(X_train,Y_train)\n",
    "print_score(GBR)"
   ]
  },
  {
   "cell_type": "code",
   "execution_count": 32,
   "metadata": {},
   "outputs": [
    {
     "data": {
      "text/plain": [
       "GradientBoostingRegressor(alpha=0.9, criterion='friedman_mse', init=None,\n",
       "                          learning_rate=0.1, loss='ls', max_depth=3,\n",
       "                          max_features=None, max_leaf_nodes=None,\n",
       "                          min_impurity_decrease=0.0, min_impurity_split=None,\n",
       "                          min_samples_leaf=1, min_samples_split=2,\n",
       "                          min_weight_fraction_leaf=0.0, n_estimators=100,\n",
       "                          n_iter_no_change=None, presort='auto',\n",
       "                          random_state=None, subsample=1.0, tol=0.0001,\n",
       "                          validation_fraction=0.1, verbose=0, warm_start=False)"
      ]
     },
     "execution_count": 32,
     "metadata": {},
     "output_type": "execute_result"
    }
   ],
   "source": [
    "GBR"
   ]
  },
  {
   "cell_type": "code",
   "execution_count": 34,
   "metadata": {},
   "outputs": [],
   "source": [
    "from sklearn.tree import DecisionTreeRegressor"
   ]
  },
  {
   "cell_type": "code",
   "execution_count": 35,
   "metadata": {},
   "outputs": [
    {
     "data": {
      "text/plain": [
       "DecisionTreeRegressor(criterion='mse', max_depth=None, max_features=None,\n",
       "                      max_leaf_nodes=None, min_impurity_decrease=0.0,\n",
       "                      min_impurity_split=None, min_samples_leaf=1,\n",
       "                      min_samples_split=2, min_weight_fraction_leaf=0.0,\n",
       "                      presort=False, random_state=None, splitter='best')"
      ]
     },
     "execution_count": 35,
     "metadata": {},
     "output_type": "execute_result"
    }
   ],
   "source": [
    "DTR = DecisionTreeRegressor()\n",
    "DTR.fit(X_train,Y_train)"
   ]
  },
  {
   "cell_type": "code",
   "execution_count": 37,
   "metadata": {},
   "outputs": [
    {
     "name": "stdout",
     "output_type": "stream",
     "text": [
      "[0.019714809311246823, 8.65793830389747, 0.9999993798082926, 0.8807458517982193, 0.0, 1.0, 0.00036323074636308053, 3.482813587723879]\n"
     ]
    }
   ],
   "source": [
    "print_score(DTR)"
   ]
  },
  {
   "cell_type": "code",
   "execution_count": 38,
   "metadata": {},
   "outputs": [
    {
     "data": {
      "text/plain": [
       "AdaBoostRegressor(base_estimator=None, learning_rate=1.0, loss='linear',\n",
       "                  n_estimators=50, random_state=None)"
      ]
     },
     "execution_count": 38,
     "metadata": {},
     "output_type": "execute_result"
    }
   ],
   "source": [
    "from sklearn.ensemble import AdaBoostRegressor\n",
    "AdaBoost = AdaBoostRegressor()\n",
    "AdaBoost.fit(X_train,Y_train)"
   ]
  },
  {
   "cell_type": "code",
   "execution_count": 40,
   "metadata": {},
   "outputs": [
    {
     "name": "stdout",
     "output_type": "stream",
     "text": [
      "[17.893769427777958, 17.910063965120724, 0.4890899246759892, 0.4896844581886513, 12.741028298302508, 12.741028298302508, 14.900777444304232, 14.906757157536026]\n"
     ]
    }
   ],
   "source": [
    "print_score(AdaBoost)"
   ]
  },
  {
   "cell_type": "code",
   "execution_count": 45,
   "metadata": {},
   "outputs": [],
   "source": [
    "from xgboost import XGBRegressor"
   ]
  },
  {
   "cell_type": "code",
   "execution_count": 46,
   "metadata": {},
   "outputs": [
    {
     "name": "stdout",
     "output_type": "stream",
     "text": [
      "[07:21:46] WARNING: C:/Jenkins/workspace/xgboost-win64_release_0.90/src/objective/regression_obj.cu:152: reg:linear is now deprecated in favor of reg:squarederror.\n",
      "[07:21:46] WARNING: C:\\Jenkins\\workspace\\xgboost-win64_release_0.90\\src\\learner.cc:686: Tree method is automatically selected to be 'approx' for faster speed. To use old behavior (exact greedy algorithm on single machine), set tree_method to 'exact'.\n"
     ]
    },
    {
     "data": {
      "text/plain": [
       "XGBRegressor(base_score=0.5, booster='gbtree', colsample_bylevel=1,\n",
       "             colsample_bynode=1, colsample_bytree=1, gamma=0,\n",
       "             importance_type='gain', learning_rate=0.1, max_delta_step=0,\n",
       "             max_depth=3, min_child_weight=1, missing=None, n_estimators=100,\n",
       "             n_jobs=1, nthread=None, objective='reg:linear', random_state=0,\n",
       "             reg_alpha=0, reg_lambda=1, scale_pos_weight=1, seed=None,\n",
       "             silent=None, subsample=1, verbosity=1)"
      ]
     },
     "execution_count": 46,
     "metadata": {},
     "output_type": "execute_result"
    }
   ],
   "source": [
    "xgbr = XGBRegressor()\n",
    "xgbr.fit(X_train,Y_train)"
   ]
  },
  {
   "cell_type": "code",
   "execution_count": 47,
   "metadata": {},
   "outputs": [
    {
     "name": "stdout",
     "output_type": "stream",
     "text": [
      "[12.637856735478605, 12.669134050776561, 0.7451482330028836, 0.7446485172303899, 3.734848976135254, 3.742818832397461, 7.384161269923829, 7.401656778097418]\n"
     ]
    }
   ],
   "source": [
    "print_score(xgbr)"
   ]
  },
  {
   "cell_type": "code",
   "execution_count": 43,
   "metadata": {},
   "outputs": [],
   "source": [
    "def plot_fi(fi): return fi.plot('cols', 'imp', 'barh', figsize=(7,4), legend=False)"
   ]
  },
  {
   "cell_type": "code",
   "execution_count": 44,
   "metadata": {},
   "outputs": [
    {
     "data": {
      "image/png": "[encoded data removed]",
      "text/plain": [
       "<Figure size 504x288 with 1 Axes>"
      ]
     },
     "metadata": {
      "needs_background": "light"
     },
     "output_type": "display_data"
    }
   ],
   "source": [
    "fi = rf_feat_importance(m, df)\n",
    "plot_fi(fi[:30]);"
   ]
  },
  {
   "cell_type": "code",
   "execution_count": null,
   "metadata": {},
   "outputs": [],
   "source": []
  },
  {
   "cell_type": "code",
   "execution_count": null,
   "metadata": {},
   "outputs": [],
   "source": []
  },
  {
   "cell_type": "code",
   "execution_count": null,
   "metadata": {},
   "outputs": [],
   "source": []
  },
  {
   "cell_type": "code",
   "execution_count": null,
   "metadata": {},
   "outputs": [],
   "source": []
  },
  {
   "cell_type": "code",
   "execution_count": null,
   "metadata": {},
   "outputs": [],
   "source": []
  },
  {
   "cell_type": "code",
   "execution_count": null,
   "metadata": {},
   "outputs": [],
   "source": []
  },
  {
   "cell_type": "code",
   "execution_count": 57,
   "metadata": {},
   "outputs": [],
   "source": [
    "mod1 = KNeighborsRegressor()\n",
    "mod2 = XGBRegressor()\n",
    "mod3 = RandomForestRegressor()\n",
    "lr = RandomForestRegressor()"
   ]
  },
  {
   "cell_type": "code",
   "execution_count": 58,
   "metadata": {},
   "outputs": [],
   "source": [
    "from mlxtend.regressor import StackingRegressor\n",
    "sr = StackingRegressor(regressors=[mod1, mod2,mod3 ,lr], \n",
    "                          meta_regressor=lr)"
   ]
  },
  {
   "cell_type": "code",
   "execution_count": 59,
   "metadata": {},
   "outputs": [
    {
     "name": "stdout",
     "output_type": "stream",
     "text": [
      "[03:28:33] WARNING: C:/Jenkins/workspace/xgboost-win64_release_0.90/src/objective/regression_obj.cu:152: reg:linear is now deprecated in favor of reg:squarederror.\n",
      "[03:28:33] WARNING: C:\\Jenkins\\workspace\\xgboost-win64_release_0.90\\src\\learner.cc:686: Tree method is automatically selected to be 'approx' for faster speed. To use old behavior (exact greedy algorithm on single machine), set tree_method to 'exact'.\n"
     ]
    },
    {
     "ename": "OSError",
     "evalue": "[WinError -529697949] Windows Error 0xe06d7363",
     "output_type": "error",
     "traceback": [
      "\u001b[1;31m---------------------------------------------------------------------------\u001b[0m",
      "\u001b[1;31mOSError\u001b[0m                                   Traceback (most recent call last)",
      "\u001b[1;32m<ipython-input-59-2cc869d4d95a>\u001b[0m in \u001b[0;36m<module>\u001b[1;34m\u001b[0m\n\u001b[1;32m----> 1\u001b[1;33m \u001b[0msr\u001b[0m\u001b[1;33m.\u001b[0m\u001b[0mfit\u001b[0m\u001b[1;33m(\u001b[0m\u001b[0mX_train\u001b[0m\u001b[1;33m,\u001b[0m\u001b[0mY_train\u001b[0m\u001b[1;33m)\u001b[0m\u001b[1;33m\u001b[0m\u001b[1;33m\u001b[0m\u001b[0m\n\u001b[0m",
      "\u001b[1;32m~\\Anaconda3\\lib\\site-packages\\mlxtend\\regressor\\stacking_regression.py\u001b[0m in \u001b[0;36mfit\u001b[1;34m(self, X, y, sample_weight)\u001b[0m\n\u001b[0;32m    146\u001b[0m \u001b[1;33m\u001b[0m\u001b[0m\n\u001b[0;32m    147\u001b[0m             \u001b[1;32mif\u001b[0m \u001b[0msample_weight\u001b[0m \u001b[1;32mis\u001b[0m \u001b[1;32mNone\u001b[0m\u001b[1;33m:\u001b[0m\u001b[1;33m\u001b[0m\u001b[1;33m\u001b[0m\u001b[0m\n\u001b[1;32m--> 148\u001b[1;33m                 \u001b[0mregr\u001b[0m\u001b[1;33m.\u001b[0m\u001b[0mfit\u001b[0m\u001b[1;33m(\u001b[0m\u001b[0mX\u001b[0m\u001b[1;33m,\u001b[0m \u001b[0my\u001b[0m\u001b[1;33m)\u001b[0m\u001b[1;33m\u001b[0m\u001b[1;33m\u001b[0m\u001b[0m\n\u001b[0m\u001b[0;32m    149\u001b[0m             \u001b[1;32melse\u001b[0m\u001b[1;33m:\u001b[0m\u001b[1;33m\u001b[0m\u001b[1;33m\u001b[0m\u001b[0m\n\u001b[0;32m    150\u001b[0m                 \u001b[0mregr\u001b[0m\u001b[1;33m.\u001b[0m\u001b[0mfit\u001b[0m\u001b[1;33m(\u001b[0m\u001b[0mX\u001b[0m\u001b[1;33m,\u001b[0m \u001b[0my\u001b[0m\u001b[1;33m,\u001b[0m \u001b[0msample_weight\u001b[0m\u001b[1;33m=\u001b[0m\u001b[0msample_weight\u001b[0m\u001b[1;33m)\u001b[0m\u001b[1;33m\u001b[0m\u001b[1;33m\u001b[0m\u001b[0m\n",
      "\u001b[1;32m~\\Anaconda3\\lib\\site-packages\\xgboost\\sklearn.py\u001b[0m in \u001b[0;36mfit\u001b[1;34m(self, X, y, sample_weight, eval_set, eval_metric, early_stopping_rounds, verbose, xgb_model, sample_weight_eval_set, callbacks)\u001b[0m\n\u001b[0;32m    394\u001b[0m                               \u001b[0mevals_result\u001b[0m\u001b[1;33m=\u001b[0m\u001b[0mevals_result\u001b[0m\u001b[1;33m,\u001b[0m \u001b[0mobj\u001b[0m\u001b[1;33m=\u001b[0m\u001b[0mobj\u001b[0m\u001b[1;33m,\u001b[0m \u001b[0mfeval\u001b[0m\u001b[1;33m=\u001b[0m\u001b[0mfeval\u001b[0m\u001b[1;33m,\u001b[0m\u001b[1;33m\u001b[0m\u001b[1;33m\u001b[0m\u001b[0m\n\u001b[0;32m    395\u001b[0m                               \u001b[0mverbose_eval\u001b[0m\u001b[1;33m=\u001b[0m\u001b[0mverbose\u001b[0m\u001b[1;33m,\u001b[0m \u001b[0mxgb_model\u001b[0m\u001b[1;33m=\u001b[0m\u001b[0mxgb_model\u001b[0m\u001b[1;33m,\u001b[0m\u001b[1;33m\u001b[0m\u001b[1;33m\u001b[0m\u001b[0m\n\u001b[1;32m--> 396\u001b[1;33m                               callbacks=callbacks)\n\u001b[0m\u001b[0;32m    397\u001b[0m \u001b[1;33m\u001b[0m\u001b[0m\n\u001b[0;32m    398\u001b[0m         \u001b[1;32mif\u001b[0m \u001b[0mevals_result\u001b[0m\u001b[1;33m:\u001b[0m\u001b[1;33m\u001b[0m\u001b[1;33m\u001b[0m\u001b[0m\n",
      "\u001b[1;32m~\\Anaconda3\\lib\\site-packages\\xgboost\\training.py\u001b[0m in \u001b[0;36mtrain\u001b[1;34m(params, dtrain, num_boost_round, evals, obj, feval, maximize, early_stopping_rounds, evals_result, verbose_eval, xgb_model, callbacks, learning_rates)\u001b[0m\n\u001b[0;32m    214\u001b[0m                            \u001b[0mevals\u001b[0m\u001b[1;33m=\u001b[0m\u001b[0mevals\u001b[0m\u001b[1;33m,\u001b[0m\u001b[1;33m\u001b[0m\u001b[1;33m\u001b[0m\u001b[0m\n\u001b[0;32m    215\u001b[0m                            \u001b[0mobj\u001b[0m\u001b[1;33m=\u001b[0m\u001b[0mobj\u001b[0m\u001b[1;33m,\u001b[0m \u001b[0mfeval\u001b[0m\u001b[1;33m=\u001b[0m\u001b[0mfeval\u001b[0m\u001b[1;33m,\u001b[0m\u001b[1;33m\u001b[0m\u001b[1;33m\u001b[0m\u001b[0m\n\u001b[1;32m--> 216\u001b[1;33m                            xgb_model=xgb_model, callbacks=callbacks)\n\u001b[0m\u001b[0;32m    217\u001b[0m \u001b[1;33m\u001b[0m\u001b[0m\n\u001b[0;32m    218\u001b[0m \u001b[1;33m\u001b[0m\u001b[0m\n",
      "\u001b[1;32m~\\Anaconda3\\lib\\site-packages\\xgboost\\training.py\u001b[0m in \u001b[0;36m_train_internal\u001b[1;34m(params, dtrain, num_boost_round, evals, obj, feval, xgb_model, callbacks)\u001b[0m\n\u001b[0;32m     72\u001b[0m         \u001b[1;31m# Skip the first update if it is a recovery step.\u001b[0m\u001b[1;33m\u001b[0m\u001b[1;33m\u001b[0m\u001b[1;33m\u001b[0m\u001b[0m\n\u001b[0;32m     73\u001b[0m         \u001b[1;32mif\u001b[0m \u001b[0mversion\u001b[0m \u001b[1;33m%\u001b[0m \u001b[1;36m2\u001b[0m \u001b[1;33m==\u001b[0m \u001b[1;36m0\u001b[0m\u001b[1;33m:\u001b[0m\u001b[1;33m\u001b[0m\u001b[1;33m\u001b[0m\u001b[0m\n\u001b[1;32m---> 74\u001b[1;33m             \u001b[0mbst\u001b[0m\u001b[1;33m.\u001b[0m\u001b[0mupdate\u001b[0m\u001b[1;33m(\u001b[0m\u001b[0mdtrain\u001b[0m\u001b[1;33m,\u001b[0m \u001b[0mi\u001b[0m\u001b[1;33m,\u001b[0m \u001b[0mobj\u001b[0m\u001b[1;33m)\u001b[0m\u001b[1;33m\u001b[0m\u001b[1;33m\u001b[0m\u001b[0m\n\u001b[0m\u001b[0;32m     75\u001b[0m             \u001b[0mbst\u001b[0m\u001b[1;33m.\u001b[0m\u001b[0msave_rabit_checkpoint\u001b[0m\u001b[1;33m(\u001b[0m\u001b[1;33m)\u001b[0m\u001b[1;33m\u001b[0m\u001b[1;33m\u001b[0m\u001b[0m\n\u001b[0;32m     76\u001b[0m             \u001b[0mversion\u001b[0m \u001b[1;33m+=\u001b[0m \u001b[1;36m1\u001b[0m\u001b[1;33m\u001b[0m\u001b[1;33m\u001b[0m\u001b[0m\n",
      "\u001b[1;32m~\\Anaconda3\\lib\\site-packages\\xgboost\\core.py\u001b[0m in \u001b[0;36mupdate\u001b[1;34m(self, dtrain, iteration, fobj)\u001b[0m\n\u001b[0;32m   1107\u001b[0m         \u001b[1;32mif\u001b[0m \u001b[0mfobj\u001b[0m \u001b[1;32mis\u001b[0m \u001b[1;32mNone\u001b[0m\u001b[1;33m:\u001b[0m\u001b[1;33m\u001b[0m\u001b[1;33m\u001b[0m\u001b[0m\n\u001b[0;32m   1108\u001b[0m             _check_call(_LIB.XGBoosterUpdateOneIter(self.handle, ctypes.c_int(iteration),\n\u001b[1;32m-> 1109\u001b[1;33m                                                     dtrain.handle))\n\u001b[0m\u001b[0;32m   1110\u001b[0m         \u001b[1;32melse\u001b[0m\u001b[1;33m:\u001b[0m\u001b[1;33m\u001b[0m\u001b[1;33m\u001b[0m\u001b[0m\n\u001b[0;32m   1111\u001b[0m             \u001b[0mpred\u001b[0m \u001b[1;33m=\u001b[0m \u001b[0mself\u001b[0m\u001b[1;33m.\u001b[0m\u001b[0mpredict\u001b[0m\u001b[1;33m(\u001b[0m\u001b[0mdtrain\u001b[0m\u001b[1;33m)\u001b[0m\u001b[1;33m\u001b[0m\u001b[1;33m\u001b[0m\u001b[0m\n",
      "\u001b[1;31mOSError\u001b[0m: [WinError -529697949] Windows Error 0xe06d7363"
     ]
    }
   ],
   "source": [
    "sr.fit(X_train,Y_train)"
   ]
  },
  {
   "cell_type": "code",
   "execution_count": null,
   "metadata": {},
   "outputs": [],
   "source": [
    "print_score(sr)"
   ]
  },
  {
   "cell_type": "code",
   "execution_count": null,
   "metadata": {},
   "outputs": [],
   "source": []
  },
  {
   "cell_type": "code",
   "execution_count": 19,
   "metadata": {},
   "outputs": [
    {
     "ename": "NameError",
     "evalue": "name 'dataset' is not defined",
     "output_type": "error",
     "traceback": [
      "\u001b[1;31m---------------------------------------------------------------------------\u001b[0m",
      "\u001b[1;31mNameError\u001b[0m                                 Traceback (most recent call last)",
      "\u001b[1;32m<ipython-input-19-d61cf25c00bd>\u001b[0m in \u001b[0;36m<module>\u001b[1;34m\u001b[0m\n\u001b[0;32m      5\u001b[0m \u001b[1;31m# fit an Extra Trees model to the data\u001b[0m\u001b[1;33m\u001b[0m\u001b[1;33m\u001b[0m\u001b[1;33m\u001b[0m\u001b[0m\n\u001b[0;32m      6\u001b[0m \u001b[0mmodel\u001b[0m \u001b[1;33m=\u001b[0m \u001b[0mExtraTreesClassifier\u001b[0m\u001b[1;33m(\u001b[0m\u001b[1;33m)\u001b[0m\u001b[1;33m\u001b[0m\u001b[1;33m\u001b[0m\u001b[0m\n\u001b[1;32m----> 7\u001b[1;33m \u001b[0mmodel\u001b[0m\u001b[1;33m.\u001b[0m\u001b[0mfit\u001b[0m\u001b[1;33m(\u001b[0m\u001b[0mdataset\u001b[0m\u001b[1;33m.\u001b[0m\u001b[0mdata\u001b[0m\u001b[1;33m,\u001b[0m \u001b[0mdataset\u001b[0m\u001b[1;33m.\u001b[0m\u001b[0mtarget\u001b[0m\u001b[1;33m)\u001b[0m\u001b[1;33m\u001b[0m\u001b[1;33m\u001b[0m\u001b[0m\n\u001b[0m\u001b[0;32m      8\u001b[0m \u001b[1;31m# display the relative importance of each attribute\u001b[0m\u001b[1;33m\u001b[0m\u001b[1;33m\u001b[0m\u001b[1;33m\u001b[0m\u001b[0m\n\u001b[0;32m      9\u001b[0m \u001b[0mprint\u001b[0m\u001b[1;33m(\u001b[0m\u001b[0mmodel\u001b[0m\u001b[1;33m.\u001b[0m\u001b[0mfeature_importances_\u001b[0m\u001b[1;33m)\u001b[0m\u001b[1;33m\u001b[0m\u001b[1;33m\u001b[0m\u001b[0m\n",
      "\u001b[1;31mNameError\u001b[0m: name 'dataset' is not defined"
     ]
    }
   ],
   "source": [
    "\n",
    "from sklearn import datasets\n",
    "from sklearn import metrics\n",
    "from sklearn.ensemble import ExtraTreesClassifier\n",
    "\n",
    "# fit an Extra Trees model to the data\n",
    "model = ExtraTreesClassifier()\n",
    "model.fit(dataset.data, dataset.target)\n",
    "# display the relative importance of each attribute\n",
    "print(model.feature_importances_)"
   ]
  },
  {
   "cell_type": "code",
   "execution_count": null,
   "metadata": {},
   "outputs": [],
   "source": []
  },
  {
   "cell_type": "code",
   "execution_count": null,
   "metadata": {},
   "outputs": [],
   "source": []
  },
  {
   "cell_type": "code",
   "execution_count": 6,
   "metadata": {},
   "outputs": [],
   "source": [
    "a=['Distance', \n",
    "   'PLong', 'PLatd', \n",
    "   'DLong', 'DLatd', \n",
    "   'Haversine',\n",
    "    'Pmonth', 'Pday', 'Phour', 'Pmin', 'PDweek',\n",
    "   \n",
    "   'Temp', 'Precip', 'Wind', 'Humid', 'Solar', 'Snow', 'Dust'\n",
    "  ]"
   ]
  },
  {
   "cell_type": "code",
   "execution_count": 7,
   "metadata": {},
   "outputs": [],
   "source": [
    "train=full_data[a]"
   ]
  },
  {
   "cell_type": "code",
   "execution_count": 8,
   "metadata": {},
   "outputs": [
    {
     "data": {
      "text/plain": [
       "Distance     0\n",
       "PLong        0\n",
       "PLatd        0\n",
       "DLong        0\n",
       "DLatd        0\n",
       "Haversine    0\n",
       "Pmonth       0\n",
       "Pday         0\n",
       "Phour        0\n",
       "Pmin         0\n",
       "PDweek       0\n",
       "Temp         0\n",
       "Precip       0\n",
       "Wind         0\n",
       "Humid        0\n",
       "Solar        0\n",
       "Snow         0\n",
       "Dust         0\n",
       "dtype: int64"
      ]
     },
     "execution_count": 8,
     "metadata": {},
     "output_type": "execute_result"
    }
   ],
   "source": [
    "train.isnull().sum()"
   ]
  },
  {
   "cell_type": "code",
   "execution_count": 9,
   "metadata": {},
   "outputs": [],
   "source": [
    "from sklearn.model_selection import train_test_split"
   ]
  },
  {
   "cell_type": "code",
   "execution_count": 10,
   "metadata": {},
   "outputs": [],
   "source": [
    "X = train\n",
    "Y = target\n",
    "X_train,X_test,Y_train,Y_test=train_test_split(X,Y,test_size=0.25,random_state=123)"
   ]
  },
  {
   "cell_type": "code",
   "execution_count": 11,
   "metadata": {},
   "outputs": [],
   "source": [
    "from sklearn.model_selection import GridSearchCV\n",
    "from sklearn.model_selection import RandomizedSearchCV\n",
    "from scipy.stats import uniform\n",
    "from scipy.stats import randint as sp_randint"
   ]
  },
  {
   "cell_type": "code",
   "execution_count": 12,
   "metadata": {},
   "outputs": [],
   "source": [
    "from sklearn import linear_model\n",
    "linreg_model = linear_model.LinearRegression()"
   ]
  },
  {
   "cell_type": "code",
   "execution_count": 13,
   "metadata": {},
   "outputs": [
    {
     "name": "stdout",
     "output_type": "stream",
     "text": [
      "<class 'pandas.core.frame.DataFrame'>\n",
      "Int64Index: 9601139 entries, 0 to 9830310\n",
      "Data columns (total 18 columns):\n",
      "Distance     int64\n",
      "PLong        float64\n",
      "PLatd        float64\n",
      "DLong        float64\n",
      "DLatd        float64\n",
      "Haversine    float64\n",
      "Pmonth       int64\n",
      "Pday         int64\n",
      "Phour        int64\n",
      "Pmin         int64\n",
      "PDweek       int64\n",
      "Temp         float64\n",
      "Precip       float64\n",
      "Wind         float64\n",
      "Humid        float64\n",
      "Solar        float64\n",
      "Snow         float64\n",
      "Dust         float64\n",
      "dtypes: float64(12), int64(6)\n",
      "memory usage: 1.4 GB\n"
     ]
    }
   ],
   "source": [
    "train.info()"
   ]
  },
  {
   "cell_type": "code",
   "execution_count": 14,
   "metadata": {},
   "outputs": [],
   "source": [
    "lparams={'fit_intercept':[True], 'n_jobs':[None], 'normalize':[False]}"
   ]
  },
  {
   "cell_type": "code",
   "execution_count": 15,
   "metadata": {},
   "outputs": [
    {
     "data": {
      "text/plain": [
       "GridSearchCV(cv=10, error_score='raise-deprecating',\n",
       "             estimator=LinearRegression(copy_X=True, fit_intercept=True,\n",
       "                                        n_jobs=None, normalize=False),\n",
       "             iid='warn', n_jobs=None,\n",
       "             param_grid={'fit_intercept': [True], 'n_jobs': [None],\n",
       "                         'normalize': [False]},\n",
       "             pre_dispatch='2*n_jobs', refit=True, return_train_score=False,\n",
       "             scoring=None, verbose=0)"
      ]
     },
     "execution_count": 15,
     "metadata": {},
     "output_type": "execute_result"
    }
   ],
   "source": [
    "LM = GridSearchCV(linreg_model, cv=10,param_grid=lparams)\n",
    "LM.fit(X_train,Y_train)"
   ]
  },
  {
   "cell_type": "code",
   "execution_count": 19,
   "metadata": {},
   "outputs": [],
   "source": [
    "import numpy as np\n",
    "def rmse(predictions, targets):\n",
    "    return np.sqrt(((predictions - targets) ** 2).mean())"
   ]
  },
  {
   "cell_type": "code",
   "execution_count": 20,
   "metadata": {},
   "outputs": [],
   "source": [
    "preds = LM.predict(X_train)"
   ]
  },
  {
   "cell_type": "code",
   "execution_count": null,
   "metadata": {},
   "outputs": [],
   "source": [
    "rmse(Y_train,X_train)"
   ]
  },
  {
   "cell_type": "code",
   "execution_count": null,
   "metadata": {},
   "outputs": [],
   "source": []
  },
  {
   "cell_type": "code",
   "execution_count": null,
   "metadata": {},
   "outputs": [],
   "source": []
  },
  {
   "cell_type": "code",
   "execution_count": 33,
   "metadata": {},
   "outputs": [
    {
     "data": {
      "text/plain": [
       "(array([ 274510,  274511,  274512, ..., 8217407, 8217458, 8218923],\n",
       "       dtype=int64), array([24, 24, 24, ..., 24, 24, 24], dtype=int64))"
      ]
     },
     "execution_count": 33,
     "metadata": {},
     "output_type": "execute_result"
    }
   ],
   "source": [
    "np.where(np.isnan(train))"
   ]
  },
  {
   "cell_type": "code",
   "execution_count": null,
   "metadata": {},
   "outputs": [],
   "source": []
  }
 ],
 "metadata": {
  "kernelspec": {
   "display_name": "Python 3",
   "language": "python",
   "name": "python3"
  },
  "language_info": {
   "codemirror_mode": {
    "name": "ipython",
    "version": 3
   },
   "file_extension": ".py",
   "mimetype": "text/x-python",
   "name": "python",
   "nbconvert_exporter": "python",
   "pygments_lexer": "ipython3",
   "version": "3.6.3"
  }
 },
 "nbformat": 4,
 "nbformat_minor": 2
}
